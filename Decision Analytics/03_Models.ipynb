{
 "cells": [
  {
   "cell_type": "code",
   "execution_count": 209,
   "metadata": {},
   "outputs": [],
   "source": [
    "import numpy as np\n",
    "from scipy.optimize import minimize\n",
    "from math import pi, sqrt"
   ]
  },
  {
   "cell_type": "markdown",
   "metadata": {},
   "source": [
    "### Problem 1, Fertilizer"
   ]
  },
  {
   "cell_type": "code",
   "execution_count": 205,
   "metadata": {},
   "outputs": [],
   "source": [
    "def objective(x, sign=1.0):\n",
    "    return sign*(4*x[0] + 2*x[1] - 0.5*x[0]**2 - 0.25*x[1]**2)\n",
    "\n",
    "def constraint(x):\n",
    "    return 40000 - (8000*x[0] + 5000*x[1])"
   ]
  },
  {
   "cell_type": "code",
   "execution_count": 206,
   "metadata": {},
   "outputs": [
    {
     "name": "stdout",
     "output_type": "stream",
     "text": [
      "Initial SSE Objective: 0.5925000000000001\n"
     ]
    }
   ],
   "source": [
    "# initial guesses\n",
    "n = 2\n",
    "x0 = np.zeros(n)\n",
    "x0[0] = .1\n",
    "x0[1] = .1\n",
    "\n",
    "# show initial objective\n",
    "print('Initial SSE Objective: ' + str(objective(x0)))"
   ]
  },
  {
   "cell_type": "code",
   "execution_count": 207,
   "metadata": {},
   "outputs": [],
   "source": [
    "# optimize\n",
    "b1 = (0, 10)\n",
    "b2 = (0, 10)\n",
    "bnds = (b1, b2)\n",
    "cons = [{'type': 'ineq', 'fun': constraint}]\n",
    "solution = minimize(objective,x0, args=(-1.0,),method='SLSQP',\\\n",
    "                    bounds=bnds,constraints=cons)"
   ]
  },
  {
   "cell_type": "code",
   "execution_count": 335,
   "metadata": {},
   "outputs": [
    {
     "name": "stdout",
     "output_type": "stream",
     "text": [
      "Final SSE Objective: 0.4330127018922193\n",
      "Solution\n",
      "x1 = 1.0 8000.0\n",
      "x2 = 1.0 5000.0\n",
      "Total Cost:13000.0\n"
     ]
    }
   ],
   "source": [
    "x = solution.x\n",
    "\n",
    "# show final objective\n",
    "print('Final SSE Objective: ' + str(objective(x)))\n",
    "\n",
    "# print solution\n",
    "print('Solution')\n",
    "print('x1 = ' + str(x[0]), x[0] * 8000)\n",
    "print('x2 = ' + str(x[1]), x[1] * 5000)\n",
    "\n",
    "print('Total Cost:' + str(8000*x[0] + 5000*x[1]))"
   ]
  },
  {
   "cell_type": "markdown",
   "metadata": {},
   "source": [
    "### Problem 2, Fencing"
   ]
  },
  {
   "cell_type": "code",
   "execution_count": 355,
   "metadata": {},
   "outputs": [],
   "source": [
    "def objective(x, sign=1.0):\n",
    "    s = np.sum(x) * .5\n",
    "    return sign*(sqrt(s * (s - x[0]) * (s - x[1]) * (s - x[2])))\n",
    "\n",
    "def constraint_1(x):\n",
    "    return (x[1] + x[2]) - x[0]\n",
    "\n",
    "def constraint_2(x):\n",
    "    return (x[0] + x[2]) - x[1] \n",
    "\n",
    "def constraint_3(x):\n",
    "    return (x[0] + x[1]) - x[2]\n",
    "\n",
    "def constraint_4(x):\n",
    "    return 60 - np.sum(x)"
   ]
  },
  {
   "cell_type": "code",
   "execution_count": 356,
   "metadata": {},
   "outputs": [
    {
     "name": "stdout",
     "output_type": "stream",
     "text": [
      "Initial SSE Objective: 1.7320508075688772\n"
     ]
    }
   ],
   "source": [
    "# initial guesses\n",
    "n = 3\n",
    "x0 = np.zeros(n)\n",
    "x0[0] = 2\n",
    "x0[1] = 2\n",
    "x0[2] = 2\n",
    "\n",
    "# show initial objective\n",
    "print('Initial SSE Objective: ' + str(objective(x0)))"
   ]
  },
  {
   "cell_type": "code",
   "execution_count": 357,
   "metadata": {},
   "outputs": [],
   "source": [
    "# optimize\n",
    "b1 = (1, 30)\n",
    "b2 = (1, 30)\n",
    "b3 = (1, 30)\n",
    "\n",
    "bnds = (b1, b2, b3)\n",
    "cons = [{'type': 'ineq', 'fun': constraint_1},\n",
    "        {'type': 'ineq', 'fun': constraint_2},\n",
    "        {'type': 'ineq', 'fun': constraint_3},\n",
    "       {'type': 'ineq', 'fun': constraint_4}]\n",
    "solution = minimize(objective,x0, args=(-1.0,),method='SLSQP',\\\n",
    "                    bounds=bnds,constraints=cons)"
   ]
  },
  {
   "cell_type": "code",
   "execution_count": 358,
   "metadata": {},
   "outputs": [
    {
     "name": "stdout",
     "output_type": "stream",
     "text": [
      "Final SSE Objective: 173.2050807569032\n",
      "Solution\n",
      "x1 = 20.000000004967944\n",
      "x2 = 20.00000000496795\n",
      "x2 = 19.999999990066783\n",
      "Perimeter:60.00000000000268\n"
     ]
    }
   ],
   "source": [
    "x = solution.x\n",
    "\n",
    "# show final objective\n",
    "print('Final SSE Objective: ' + str(objective(x)))\n",
    "\n",
    "# print solution\n",
    "print('Solution')\n",
    "print('x1 = ' + str(x[0]))\n",
    "print('x2 = ' + str(x[1]))\n",
    "print('x2 = ' + str(x[2]))\n",
    "\n",
    "print('Perimeter:' + str(np.sum(x)))"
   ]
  }
 ],
 "metadata": {
  "kernelspec": {
   "display_name": "Python 3",
   "language": "python",
   "name": "python3"
  },
  "language_info": {
   "codemirror_mode": {
    "name": "ipython",
    "version": 3
   },
   "file_extension": ".py",
   "mimetype": "text/x-python",
   "name": "python",
   "nbconvert_exporter": "python",
   "pygments_lexer": "ipython3",
   "version": "3.7.1"
  }
 },
 "nbformat": 4,
 "nbformat_minor": 2
}
