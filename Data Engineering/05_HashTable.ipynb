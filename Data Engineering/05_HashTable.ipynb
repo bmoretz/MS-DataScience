{
 "cells": [
  {
   "cell_type": "markdown",
   "metadata": {},
   "source": [
    "# MSDS 432, Assignment 5 - Hash Table"
   ]
  },
  {
   "cell_type": "markdown",
   "metadata": {},
   "source": [
    "#### Author: Brandon Moretz"
   ]
  },
  {
   "cell_type": "code",
   "execution_count": 1,
   "metadata": {},
   "outputs": [],
   "source": [
    "%matplotlib inline"
   ]
  },
  {
   "cell_type": "code",
   "execution_count": 2,
   "metadata": {},
   "outputs": [],
   "source": [
    "import numpy as np\n",
    "import pandas as pd\n",
    "import matplotlib.pyplot as plt\n",
    "from time import time\n",
    "import matplotlib.style as style\n",
    "import array as arr"
   ]
  },
  {
   "cell_type": "code",
   "execution_count": 3,
   "metadata": {},
   "outputs": [],
   "source": [
    "np.random.seed(323) # static seed so results are reproducible"
   ]
  },
  {
   "cell_type": "code",
   "execution_count": 4,
   "metadata": {},
   "outputs": [],
   "source": [
    "style.use('seaborn-poster') # sets the size of the charts\n",
    "style.use('ggplot') # set the theme for matplotlib"
   ]
  },
  {
   "cell_type": "code",
   "execution_count": 5,
   "metadata": {},
   "outputs": [
    {
     "data": {
      "application/javascript": [
       "IPython.OutputArea.prototype._should_scroll = function(lines) {\n",
       "    return false;\n",
       "}\n"
      ],
      "text/plain": [
       "<IPython.core.display.Javascript object>"
      ]
     },
     "metadata": {},
     "output_type": "display_data"
    }
   ],
   "source": [
    "%%javascript\n",
    "IPython.OutputArea.prototype._should_scroll = function(lines) {\n",
    "    return false;\n",
    "}"
   ]
  },
  {
   "cell_type": "markdown",
   "metadata": {},
   "source": [
    "### Sample Data"
   ]
  },
  {
   "cell_type": "code",
   "execution_count": 6,
   "metadata": {},
   "outputs": [],
   "source": [
    "characters = [chr(i) for i in range(97,123)] # character look-up\n",
    "\n",
    "def gen_code():\n",
    "    return ''.join([characters[int(np.random.uniform(0, 26))] for k in range(0, 10)]) # generate a random name\n",
    "\n",
    "names = list() # names list\n",
    "\n",
    "for index in range(100): # populate it\n",
    "    names.append(gen_code())\n",
    "    \n",
    "assert set([x for x in names if names.count(x) > 1]) == set() # ensure no duplicates\n",
    "\n",
    "names_dict = dict(zip(names, names)) # to dictionary"
   ]
  },
  {
   "cell_type": "markdown",
   "metadata": {},
   "source": [
    "## Searching Algorithms"
   ]
  },
  {
   "cell_type": "code",
   "execution_count": 27,
   "metadata": {},
   "outputs": [],
   "source": [
    "def linear_search(list, item):\n",
    "    \"\"\"Linear Search O(N)\"\"\"\n",
    "    # simple, brute force linear search\n",
    "    for index in range(0, len(list)):\n",
    "        if list[index] == item:\n",
    "            return index\n",
    "        \n",
    "    #  Item doesn't exist\n",
    "    return None\n",
    "\n",
    "def binary_search(list, item):\n",
    "    \"\"\"Binary Search O(log(N))\"\"\"\n",
    "    # low and high keep track of which part of the list you'll search in.\n",
    "    low = 0\n",
    "    high = len(list) - 1\n",
    "\n",
    "    # While you haven't narrowed it down to one element ...\n",
    "    while low <= high:\n",
    "        # ... check the middle element\n",
    "        mid = (low + high) // 2\n",
    "        guess = list[mid]\n",
    "        # Found the item.\n",
    "        if guess == item:\n",
    "            return mid\n",
    "        # The guess was too high.\n",
    "        if guess > item:\n",
    "            high = mid - 1\n",
    "        # The guess was too low.\n",
    "        else:\n",
    "            low = mid + 1\n",
    "\n",
    "    # Item doesn't exist\n",
    "    return None\n",
    "\n",
    "def profile(func):\n",
    "    start_time = time()\n",
    "    func()\n",
    "    return time() - start_time"
   ]
  },
  {
   "cell_type": "markdown",
   "metadata": {},
   "source": [
    "### Sorting Algorithms"
   ]
  },
  {
   "cell_type": "code",
   "execution_count": 8,
   "metadata": {},
   "outputs": [],
   "source": [
    "def quickSort(array):\n",
    "    \"\"\"Quicksort, uses divide and conquer strategy to sort an array, O(n**2)\"\"\"\n",
    "    if len(array) < 2:\n",
    "        # base case, arrays with 0 or 1 elements are already sorted.\n",
    "        return array\n",
    "    else:\n",
    "        # recursive case\n",
    "        pivot = array[0]\n",
    "        # sub-array of all elements less than the pivot\n",
    "        less = [i for i in array[1:] if i <= pivot]\n",
    "        # sub-array of all elements greather than the pivot\n",
    "        greater = [i for i in array[1:] if i >= pivot]\n",
    "        return quickSort(less) + [pivot] + quickSort(greater)"
   ]
  },
  {
   "cell_type": "markdown",
   "metadata": {},
   "source": [
    "## Benchmark"
   ]
  },
  {
   "cell_type": "code",
   "execution_count": 9,
   "metadata": {},
   "outputs": [],
   "source": [
    "# Create the output metrics DataFrame\n",
    "results = pd.DataFrame(columns = ['Iterations', 'Linear Search', 'Dictionary Lookup'])\n",
    "\n",
    "to_find = [names[int(np.random.uniform(len(names)))] for i in range(5)] # list of items to find.\n",
    "\n",
    "iters = 1000 # calculate average time over n iters\n",
    "\n",
    "ls_time = profile(lambda: [[linear_search(names, name) for name in to_find] for x in range(iters)]) / iters\n",
    "lu_time = profile(lambda: [[names_dict[name] for name in to_find] for x in range(iters)]) / iters\n",
    "\n",
    "results.loc[0] = [iters, ls_time, lu_time]"
   ]
  },
  {
   "cell_type": "markdown",
   "metadata": {},
   "source": [
    "## Results"
   ]
  },
  {
   "cell_type": "code",
   "execution_count": 10,
   "metadata": {},
   "outputs": [
    {
     "data": {
      "text/html": [
       "<div>\n",
       "<style scoped>\n",
       "    .dataframe tbody tr th:only-of-type {\n",
       "        vertical-align: middle;\n",
       "    }\n",
       "\n",
       "    .dataframe tbody tr th {\n",
       "        vertical-align: top;\n",
       "    }\n",
       "\n",
       "    .dataframe thead th {\n",
       "        text-align: right;\n",
       "    }\n",
       "</style>\n",
       "<table border=\"1\" class=\"dataframe\">\n",
       "  <thead>\n",
       "    <tr style=\"text-align: right;\">\n",
       "      <th></th>\n",
       "      <th>Iterations</th>\n",
       "      <th>Linear Search</th>\n",
       "      <th>Dictionary Lookup</th>\n",
       "    </tr>\n",
       "  </thead>\n",
       "  <tbody>\n",
       "    <tr>\n",
       "      <th>0</th>\n",
       "      <td>1000.0</td>\n",
       "      <td>0.000008</td>\n",
       "      <td>0.0</td>\n",
       "    </tr>\n",
       "  </tbody>\n",
       "</table>\n",
       "</div>"
      ],
      "text/plain": [
       "   Iterations  Linear Search  Dictionary Lookup\n",
       "0      1000.0       0.000008                0.0"
      ]
     },
     "execution_count": 10,
     "metadata": {},
     "output_type": "execute_result"
    }
   ],
   "source": [
    "results # display the results table / DataFrame"
   ]
  },
  {
   "cell_type": "code",
   "execution_count": 11,
   "metadata": {},
   "outputs": [
    {
     "data": {
      "image/png": "[encoded data removed]",
      "text/plain": [
       "<Figure size 921.6x633.6 with 1 Axes>"
      ]
     },
     "metadata": {},
     "output_type": "display_data"
    }
   ],
   "source": [
    "indexers = ('Linear Search', 'Dictionary Lookup')\n",
    "y_pos = np.arange(len(indexers))\n",
    "performance = [ls_time, lu_time]\n",
    " \n",
    "plt.bar(y_pos, performance, align='center', alpha=0.5)\n",
    "plt.xticks(y_pos, indexers)\n",
    "plt.ylabel('Average Time to Execute')\n",
    "plt.title('Indexer Performance')\n",
    "\n",
    "plt.show()"
   ]
  },
  {
   "cell_type": "code",
   "execution_count": 13,
   "metadata": {},
   "outputs": [],
   "source": [
    "names = quickSort(names) # Sort using Quick Sort, fast"
   ]
  },
  {
   "cell_type": "code",
   "execution_count": 16,
   "metadata": {},
   "outputs": [],
   "source": [
    "indexes = [10, 30, 50, 70, 90, 100] # look-up positions"
   ]
  },
  {
   "cell_type": "code",
   "execution_count": 21,
   "metadata": {},
   "outputs": [
    {
     "data": {
      "text/plain": [
       "['bzyoijtuuu',\n",
       " 'ifbupnozql',\n",
       " 'nauipukoyo',\n",
       " 'svidqcnqye',\n",
       " 'xtrfdphdrz',\n",
       " 'zuuftmachb']"
      ]
     },
     "execution_count": 21,
     "metadata": {},
     "output_type": "execute_result"
    }
   ],
   "source": [
    "index_values = list()\n",
    "\n",
    "for index in indexes:\n",
    "    index_values.append(names[index-1]) # get values & account for offset (zero-based index)\n",
    "    \n",
    "index_values"
   ]
  },
  {
   "cell_type": "code",
   "execution_count": 31,
   "metadata": {},
   "outputs": [],
   "source": [
    "# Create the output metrics DataFrame\n",
    "results = pd.DataFrame(columns = ['Iterations', 'Linear Search', 'Binary Search', 'Dictionary Lookup'])\n",
    "\n",
    "ls_time = profile(lambda: [[linear_search(names, n) for n in index_values] for x in range(iters)]) / iters\n",
    "bs_time = profile(lambda: [[binary_search(names, n) for n in index_values] for x in range(iters)]) / iters\n",
    "dc_time = profile(lambda: [[names_dict[n] for n in index_values] for x in range(iters)]) / iters\n",
    "\n",
    "results.loc[0] = [iters, ls_time, bs_time, dc_time]"
   ]
  },
  {
   "cell_type": "code",
   "execution_count": 32,
   "metadata": {},
   "outputs": [
    {
     "data": {
      "text/html": [
       "<div>\n",
       "<style scoped>\n",
       "    .dataframe tbody tr th:only-of-type {\n",
       "        vertical-align: middle;\n",
       "    }\n",
       "\n",
       "    .dataframe tbody tr th {\n",
       "        vertical-align: top;\n",
       "    }\n",
       "\n",
       "    .dataframe thead th {\n",
       "        text-align: right;\n",
       "    }\n",
       "</style>\n",
       "<table border=\"1\" class=\"dataframe\">\n",
       "  <thead>\n",
       "    <tr style=\"text-align: right;\">\n",
       "      <th></th>\n",
       "      <th>Iterations</th>\n",
       "      <th>Linear Search</th>\n",
       "      <th>Binary Search</th>\n",
       "      <th>Dictionary Lookup</th>\n",
       "    </tr>\n",
       "  </thead>\n",
       "  <tbody>\n",
       "    <tr>\n",
       "      <th>0</th>\n",
       "      <td>1000.0</td>\n",
       "      <td>0.000014</td>\n",
       "      <td>0.000005</td>\n",
       "      <td>0.0</td>\n",
       "    </tr>\n",
       "  </tbody>\n",
       "</table>\n",
       "</div>"
      ],
      "text/plain": [
       "   Iterations  Linear Search  Binary Search  Dictionary Lookup\n",
       "0      1000.0       0.000014       0.000005                0.0"
      ]
     },
     "execution_count": 32,
     "metadata": {},
     "output_type": "execute_result"
    }
   ],
   "source": [
    "results # display the results table / DataFrame"
   ]
  },
  {
   "cell_type": "code",
   "execution_count": 36,
   "metadata": {},
   "outputs": [
    {
     "data": {
      "image/png": "[encoded data removed]",
      "text/plain": [
       "<Figure size 921.6x633.6 with 1 Axes>"
      ]
     },
     "metadata": {},
     "output_type": "display_data"
    }
   ],
   "source": [
    "indexers = ('Linear Search', 'Binary Search', 'Dictionary Lookup')\n",
    "y_pos = np.arange(len(indexers))\n",
    "performance = [ls_time, bs_time, dc_time]\n",
    " \n",
    "plt.bar(y_pos, performance, align='center', alpha=0.5)\n",
    "plt.xticks(y_pos, indexers)\n",
    "plt.ylabel('Average Time to Execute')\n",
    "plt.title('Search Performance')\n",
    "\n",
    "plt.show()"
   ]
  },
  {
   "cell_type": "markdown",
   "metadata": {},
   "source": [
    "## Summary"
   ]
  },
  {
   "cell_type": "markdown",
   "metadata": {},
   "source": [
    "In this lab we introduce the concept of a new data structure, the hash table, that has unique time-time properties we haven’t seen before. Specifically, the hash table is an indispensable data structure because it has O(1) asymptotic complexity for name-value pair look-ups. This property of hash tables makes them ideal candidates for building caching mechanisms that store values associated with a given key.\n",
    "\n",
    "We should note that the constant time denoted here does not mean a single instruction cost is associated with looking up a value for a key, instead the notation refers to how the look-up time scales in respect to the number of elements in the container.\n",
    "\n",
    "In the first test in the lab we construct a random array of indexes that are reflective of values we wish to retrieve from an existing data structure. First, we use the brute force approach of a linear search, which iterates over all the keys in the collection checking if it’s the value we want. As noted in previous labs, this brute force operation has an asymptotic complexity of N(n), or a liner scale. When this approach is compared to the hash-based look-up, it looks at though the dictionary does not even execute as the time is zero. It is important to understand that there are several actual operations occurring to find the value associated with the hash-based approach, however, the hash function makes this operation so efficient it is difficult to even compare to the linear approach.\n",
    "\n",
    "The next test is even more telling in that in prior labs we have noted the vast improvement in run-time binary search has compared to linear search. Binary search does have one important caveat in that it requires the elements to be sorted for it to work. The sorting operation itself here, we chose Quick Sort in that it has an average case run-time of O(n log n), and works exceedingly well in real-world scenarios. If we consider the pre-requisite of the sorting operation, the binary search method does a little worse than is displayed in the output of figure 2. We should also note that regardless of sorted or not, the hash table method for look-ups is a constant O(1).\n",
    "\n",
    "Hash tables are an indispensable tool in the data engineers toolbelt due to the unique performance characteristics they exhibit for associative data structures. There are entire database solutions that are used for high-performance caching (Dynamo, Redis, Riak, etc.) that solely perform this function as a complement to traditional relational models for the huge associated performance gain."
   ]
  }
 ],
 "metadata": {
  "kernelspec": {
   "display_name": "Python 3",
   "language": "python",
   "name": "python3"
  },
  "language_info": {
   "codemirror_mode": {
    "name": "ipython",
    "version": 3
   },
   "file_extension": ".py",
   "mimetype": "text/x-python",
   "name": "python",
   "nbconvert_exporter": "python",
   "pygments_lexer": "ipython3",
   "version": "3.7.3"
  }
 },
 "nbformat": 4,
 "nbformat_minor": 2
}
