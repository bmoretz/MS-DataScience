{
 "cells": [
  {
   "cell_type": "markdown",
   "metadata": {},
   "source": [
    "# MSDS 432, Assignment 9 - Dynamic Programming"
   ]
  },
  {
   "cell_type": "markdown",
   "metadata": {},
   "source": [
    "#### Author: Brandon Moretz"
   ]
  },
  {
   "cell_type": "code",
   "execution_count": 11,
   "metadata": {},
   "outputs": [],
   "source": [
    "%matplotlib inline"
   ]
  },
  {
   "cell_type": "code",
   "execution_count": 108,
   "metadata": {},
   "outputs": [],
   "source": [
    "import numpy as np\n",
    "import pandas as pd\n",
    "import matplotlib.pyplot as plt\n",
    "from time import time\n",
    "import matplotlib.style as style"
   ]
  },
  {
   "cell_type": "code",
   "execution_count": 109,
   "metadata": {},
   "outputs": [],
   "source": [
    "np.random.seed(323) # static seed so results are reproducible"
   ]
  },
  {
   "cell_type": "code",
   "execution_count": 110,
   "metadata": {},
   "outputs": [],
   "source": [
    "style.use('seaborn-poster') # sets the size of the charts\n",
    "style.use('ggplot') # set the theme for matplotlib"
   ]
  },
  {
   "cell_type": "code",
   "execution_count": 111,
   "metadata": {},
   "outputs": [
    {
     "data": {
      "application/javascript": [
       "IPython.OutputArea.prototype._should_scroll = function(lines) {\n",
       "    return false;\n",
       "}\n"
      ],
      "text/plain": [
       "<IPython.core.display.Javascript object>"
      ]
     },
     "metadata": {},
     "output_type": "display_data"
    }
   ],
   "source": [
    "%%javascript\n",
    "IPython.OutputArea.prototype._should_scroll = function(lines) {\n",
    "    return false;\n",
    "}"
   ]
  },
  {
   "cell_type": "markdown",
   "metadata": {},
   "source": [
    "## Algorithm"
   ]
  },
  {
   "cell_type": "code",
   "execution_count": 131,
   "metadata": {},
   "outputs": [],
   "source": [
    "def diceThrow(n, faces, total):\n",
    "    dp = np.zeros(( n + 1, total + 1))\n",
    "    \n",
    "    dp[0, 0] = 1\n",
    "    \n",
    "    for i in range(1, n + 1):\n",
    "        for j in range(1, total + 1):\n",
    "            if j < i:\n",
    "                dp[i, j] = 0\n",
    "            elif j > ( faces * i ):\n",
    "                dp[i, j] = 0\n",
    "            else:\n",
    "                k = 1\n",
    "                while k <= faces and j >= k:\n",
    "                    dp[i, j] += dp[i-1, j-k]\n",
    "                    k += 1\n",
    "                    \n",
    "    return( dp[n][total], dp )"
   ]
  },
  {
   "cell_type": "markdown",
   "metadata": {},
   "source": [
    "## Setup"
   ]
  },
  {
   "cell_type": "code",
   "execution_count": 134,
   "metadata": {},
   "outputs": [],
   "source": [
    "die = 6\n",
    "faces = 3\n",
    "total = 8"
   ]
  },
  {
   "cell_type": "markdown",
   "metadata": {},
   "source": [
    "## Results"
   ]
  },
  {
   "cell_type": "code",
   "execution_count": 135,
   "metadata": {},
   "outputs": [],
   "source": [
    "ans = diceThrow(die, faces, total)"
   ]
  },
  {
   "cell_type": "code",
   "execution_count": 136,
   "metadata": {},
   "outputs": [
    {
     "name": "stdout",
     "output_type": "stream",
     "text": [
      "[[ 1.  0.  0.  0.  0.  0.  0.  0.  0.]\n",
      " [ 0.  1.  1.  1.  0.  0.  0.  0.  0.]\n",
      " [ 0.  0.  1.  2.  3.  2.  1.  0.  0.]\n",
      " [ 0.  0.  0.  1.  3.  6.  7.  6.  3.]\n",
      " [ 0.  0.  0.  0.  1.  4. 10. 16. 19.]\n",
      " [ 0.  0.  0.  0.  0.  1.  5. 15. 30.]\n",
      " [ 0.  0.  0.  0.  0.  0.  1.  6. 21.]]\n"
     ]
    }
   ],
   "source": [
    "# Resulting Matrix\n",
    "print(ans[1])"
   ]
  },
  {
   "cell_type": "code",
   "execution_count": 137,
   "metadata": {},
   "outputs": [
    {
     "name": "stdout",
     "output_type": "stream",
     "text": [
      "Number of ways 6 die can be thrown to sum 8 is 21\n"
     ]
    }
   ],
   "source": [
    "print('Number of ways {0} die can be thrown to sum {1} is {2}'.format(die, total, int(ans[0])))"
   ]
  },
  {
   "cell_type": "markdown",
   "metadata": {},
   "source": [
    "## Summary"
   ]
  },
  {
   "cell_type": "markdown",
   "metadata": {},
   "source": [
    "Problem statement:\n",
    "    \n",
    "+ There are n identical dices. Each dice has given number of faces. In how many ways, you can get the given sum.\n",
    "\n",
    "In this lab we look at a programming technique called dynamic programming to solve a combinatorics problem involving the sum of rolling _n_ number of die. We generate a j x k matrix to store our solutions, and using recursive relation fill in the number of dice where each face can be added together to a specified sum. \n",
    "\n",
    "__Algorithmic complexity__:  O(faces * die * total)"
   ]
  }
 ],
 "metadata": {
  "kernelspec": {
   "display_name": "Python 3",
   "language": "python",
   "name": "python3"
  },
  "language_info": {
   "codemirror_mode": {
    "name": "ipython",
    "version": 3
   },
   "file_extension": ".py",
   "mimetype": "text/x-python",
   "name": "python",
   "nbconvert_exporter": "python",
   "pygments_lexer": "ipython3",
   "version": "3.7.1"
  }
 },
 "nbformat": 4,
 "nbformat_minor": 2
}
