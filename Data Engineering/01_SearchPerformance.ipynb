{
 "cells": [
  {
   "cell_type": "markdown",
   "metadata": {},
   "source": [
    "# MSDS 432, Assignment 1 - Search Performance"
   ]
  },
  {
   "cell_type": "code",
   "execution_count": 1,
   "metadata": {},
   "outputs": [],
   "source": [
    "%matplotlib inline"
   ]
  },
  {
   "cell_type": "code",
   "execution_count": 2,
   "metadata": {},
   "outputs": [],
   "source": [
    "import numpy as np\n",
    "import pandas as pd\n",
    "import matplotlib.pyplot as plt\n",
    "from time import time\n",
    "import matplotlib.style as style"
   ]
  },
  {
   "cell_type": "code",
   "execution_count": 3,
   "metadata": {},
   "outputs": [],
   "source": [
    "np.random.seed(323) # static seed so results are reproducible"
   ]
  },
  {
   "cell_type": "code",
   "execution_count": 4,
   "metadata": {},
   "outputs": [],
   "source": [
    "style.use('seaborn-poster') # sets the size of the charts\n",
    "style.use('ggplot') # set the theme for matplotlib"
   ]
  },
  {
   "cell_type": "code",
   "execution_count": 5,
   "metadata": {},
   "outputs": [
    {
     "data": {
      "application/javascript": [
       "IPython.OutputArea.prototype._should_scroll = function(lines) {\n",
       "    return false;\n",
       "}\n"
      ],
      "text/plain": [
       "<IPython.core.display.Javascript object>"
      ]
     },
     "metadata": {},
     "output_type": "display_data"
    }
   ],
   "source": [
    "%%javascript\n",
    "IPython.OutputArea.prototype._should_scroll = function(lines) {\n",
    "    return false;\n",
    "}"
   ]
  },
  {
   "cell_type": "markdown",
   "metadata": {},
   "source": [
    "## Search Algorithms"
   ]
  },
  {
   "cell_type": "code",
   "execution_count": 6,
   "metadata": {},
   "outputs": [],
   "source": [
    "def binary_search(list, item):\n",
    "    \"\"\"Binary Search O(log(N))\"\"\"\n",
    "    # low and high keep track of which part of the list you'll search in.\n",
    "    low = 0\n",
    "    high = len(list) - 1\n",
    "\n",
    "    # While you haven't narrowed it down to one element ...\n",
    "    while low <= high:\n",
    "        # ... check the middle element\n",
    "        mid = (low + high) // 2\n",
    "        guess = list[mid]\n",
    "        # Found the item.\n",
    "        if guess == item:\n",
    "            return mid\n",
    "        # The guess was too high.\n",
    "        if guess > item:\n",
    "            high = mid - 1\n",
    "        # The guess was too low.\n",
    "        else:\n",
    "            low = mid + 1\n",
    "\n",
    "    # Item doesn't exist\n",
    "    return None\n",
    "\n",
    "def linear_search(list, item):\n",
    "    \"\"\"Linear Search O(N)\"\"\"\n",
    "    # simple, brute force linear search\n",
    "    for index in range(0, len(list)):\n",
    "        if list[index] == item:\n",
    "            return index\n",
    "        \n",
    "    #  Item doesn't exist\n",
    "    return None\n",
    "\n",
    "def profile(func):\n",
    "    start_time = time()\n",
    "    func()\n",
    "    return time() - start_time"
   ]
  },
  {
   "cell_type": "markdown",
   "metadata": {},
   "source": [
    "## Benchmark"
   ]
  },
  {
   "cell_type": "code",
   "execution_count": 7,
   "metadata": {},
   "outputs": [],
   "source": [
    "# Create the output metrics DataFrame\n",
    "results = pd.DataFrame(columns = ['Length', 'Sort', 'Linear Search', 'Binary Search', 'Linear Search & Sort', 'Binary Search & Sort']) "
   ]
  },
  {
   "cell_type": "code",
   "execution_count": 8,
   "metadata": {},
   "outputs": [],
   "source": [
    "offset = 9 # offset for array size generation\n",
    "\n",
    "for index in range(0, 5):\n",
    "    array_size = 2**(index+offset) # calculate array size\n",
    "    ds = np.random.uniform(0, 9, array_size) # generate it\n",
    "\n",
    "    sort_time = profile(lambda: ds.sort()) # capture time to sort the array\n",
    "    \n",
    "    to_find = max(ds) # element to find\n",
    "    \n",
    "    linear_time = profile(lambda: linear_search(ds, to_find)) # time the linear search\n",
    "    binary_time = profile(lambda: binary_search(ds, to_find)) # time the binary search\n",
    "    \n",
    "    assert linear_search(ds, to_find) == binary_search(ds, to_find) # ensure we get the same results for both search methods.\n",
    "\n",
    "    results.loc[index] = [array_size, sort_time, linear_time, binary_time, linear_time + sort_time, binary_time + sort_time]"
   ]
  },
  {
   "cell_type": "markdown",
   "metadata": {},
   "source": [
    "## Results"
   ]
  },
  {
   "cell_type": "code",
   "execution_count": 9,
   "metadata": {
    "scrolled": true
   },
   "outputs": [
    {
     "data": {
      "text/html": [
       "<div>\n",
       "<style scoped>\n",
       "    .dataframe tbody tr th:only-of-type {\n",
       "        vertical-align: middle;\n",
       "    }\n",
       "\n",
       "    .dataframe tbody tr th {\n",
       "        vertical-align: top;\n",
       "    }\n",
       "\n",
       "    .dataframe thead th {\n",
       "        text-align: right;\n",
       "    }\n",
       "</style>\n",
       "<table border=\"1\" class=\"dataframe\">\n",
       "  <thead>\n",
       "    <tr style=\"text-align: right;\">\n",
       "      <th></th>\n",
       "      <th>Length</th>\n",
       "      <th>Sort</th>\n",
       "      <th>Linear Search</th>\n",
       "      <th>Binary Search</th>\n",
       "      <th>Linear Search &amp; Sort</th>\n",
       "      <th>Binary Search &amp; Sort</th>\n",
       "    </tr>\n",
       "  </thead>\n",
       "  <tbody>\n",
       "    <tr>\n",
       "      <th>0</th>\n",
       "      <td>512.0</td>\n",
       "      <td>0.0</td>\n",
       "      <td>0.000000</td>\n",
       "      <td>0.0</td>\n",
       "      <td>0.000000</td>\n",
       "      <td>0.0</td>\n",
       "    </tr>\n",
       "    <tr>\n",
       "      <th>1</th>\n",
       "      <td>1024.0</td>\n",
       "      <td>0.0</td>\n",
       "      <td>0.000000</td>\n",
       "      <td>0.0</td>\n",
       "      <td>0.000000</td>\n",
       "      <td>0.0</td>\n",
       "    </tr>\n",
       "    <tr>\n",
       "      <th>2</th>\n",
       "      <td>2048.0</td>\n",
       "      <td>0.0</td>\n",
       "      <td>0.000000</td>\n",
       "      <td>0.0</td>\n",
       "      <td>0.000000</td>\n",
       "      <td>0.0</td>\n",
       "    </tr>\n",
       "    <tr>\n",
       "      <th>3</th>\n",
       "      <td>4096.0</td>\n",
       "      <td>0.0</td>\n",
       "      <td>0.000000</td>\n",
       "      <td>0.0</td>\n",
       "      <td>0.000000</td>\n",
       "      <td>0.0</td>\n",
       "    </tr>\n",
       "    <tr>\n",
       "      <th>4</th>\n",
       "      <td>8192.0</td>\n",
       "      <td>0.0</td>\n",
       "      <td>0.001029</td>\n",
       "      <td>0.0</td>\n",
       "      <td>0.001029</td>\n",
       "      <td>0.0</td>\n",
       "    </tr>\n",
       "  </tbody>\n",
       "</table>\n",
       "</div>"
      ],
      "text/plain": [
       "   Length  Sort  Linear Search  Binary Search  Linear Search & Sort  \\\n",
       "0   512.0   0.0       0.000000            0.0              0.000000   \n",
       "1  1024.0   0.0       0.000000            0.0              0.000000   \n",
       "2  2048.0   0.0       0.000000            0.0              0.000000   \n",
       "3  4096.0   0.0       0.000000            0.0              0.000000   \n",
       "4  8192.0   0.0       0.001029            0.0              0.001029   \n",
       "\n",
       "   Binary Search & Sort  \n",
       "0                   0.0  \n",
       "1                   0.0  \n",
       "2                   0.0  \n",
       "3                   0.0  \n",
       "4                   0.0  "
      ]
     },
     "execution_count": 9,
     "metadata": {},
     "output_type": "execute_result"
    }
   ],
   "source": [
    "results # display the results table / DataFrame"
   ]
  },
  {
   "cell_type": "markdown",
   "metadata": {},
   "source": [
    "## Summary"
   ]
  },
  {
   "cell_type": "markdown",
   "metadata": {},
   "source": [
    "The two search methodologies in comparison here, linear and binary, exhibit drastically different behavior as the input size to the algorithms increase. Since our benchmark analysis always searches for the highest number in the input sequence, this will always produce the worst-case runtime for the linear search algorithm due to it having to examine every single element. If the experiment were inverted, and we were always searching for the smallest element, the linear search would outperform the binary search on an individual step by step comparison.\n",
    "However, a key assumption in the analysis of algorithms is to always assume the worst-case input because when your software is in production, there is no control over what inputs will be executed. This kind of analysis is often referred to as asymptotic analysis, where we examine how an algorithms runtime increases relative to the size of the input. The most common formal notation is called “Big Oh”, were we establish a maximum upper bound on how long a given algorithm will take to run relative to its input size.\n",
    "\n",
    "In the two cases we looked at here, the linear search is “O(N)”, also known as linear time and the binary search is “O(log n)”, or logarithmic time. The datasets we used in this experiment are extremely small so the runtime differences may not seem drastically different in the table above. However, if we started using inputs in the range of billions of elements it would take orders of magnitude more time for the linear search to complete over the binary search due to the scaling factor. \n",
    "This behavior is better displayed in the chart below, where the binary search stays flat throughout the different inputs and the linear search starts to spike drastically after around only four-thousand elements. \n",
    "\n",
    "Another key assumption we must establish is that the input set is sorted in numerical order, this is how the binary search is able to execute must faster than its linear search companion. The linear search would still perform in “O(N)” time regardless of the input being sorted or not because every element must be examined. However, by sorting the input first, which requires O(n log n) time to perform, we are able to divide the entire input dataset into two distinct parts on each iteration through the algorithm thereby enabling efficient iteration through the dataset in large chucks, instead of sequentially.\n",
    "\n",
    "Although the sorting operation does require more time than the binary search itself as the input size grows, especially to large numbers, the relative additional overhead is a trivial one-time cost that will drastically out-perform the brute force, linear search approach for even moderately sized values of N."
   ]
  },
  {
   "cell_type": "code",
   "execution_count": 10,
   "metadata": {
    "scrolled": true
   },
   "outputs": [
    {
     "data": {
      "image/png": "[encoded data removed]",
      "text/plain": [
       "<Figure size 921.6x633.6 with 1 Axes>"
      ]
     },
     "metadata": {},
     "output_type": "display_data"
    }
   ],
   "source": [
    "# Chart the relevant metrics about the two algorithms in comparision.\n",
    "ax = results[['Length', 'Linear Search', 'Binary Search']].plot.line(x='Length', title='Search Compare')\n",
    "ax.set_xlabel('Input Size')\n",
    "ax.set_ylabel('Execution Time')\n",
    "plt.show()"
   ]
  }
 ],
 "metadata": {
  "kernelspec": {
   "display_name": "Python 3",
   "language": "python",
   "name": "python3"
  },
  "language_info": {
   "codemirror_mode": {
    "name": "ipython",
    "version": 3
   },
   "file_extension": ".py",
   "mimetype": "text/x-python",
   "name": "python",
   "nbconvert_exporter": "python",
   "pygments_lexer": "ipython3",
   "version": "3.7.1"
  }
 },
 "nbformat": 4,
 "nbformat_minor": 2
}
