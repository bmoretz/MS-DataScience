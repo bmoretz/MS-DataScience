{
 "cells": [
  {
   "cell_type": "markdown",
   "metadata": {},
   "source": [
    "# MSDS 432, Assignment 7 - Dijkstra's Algorithm"
   ]
  },
  {
   "cell_type": "markdown",
   "metadata": {},
   "source": [
    "#### Author: Brandon Moretz"
   ]
  },
  {
   "cell_type": "code",
   "execution_count": 1,
   "metadata": {},
   "outputs": [],
   "source": [
    "%matplotlib inline"
   ]
  },
  {
   "cell_type": "code",
   "execution_count": 2,
   "metadata": {},
   "outputs": [],
   "source": [
    "import numpy as np\n",
    "import pandas as pd\n",
    "import matplotlib.pyplot as plt\n",
    "from time import time\n",
    "import matplotlib.style as style\n",
    "from collections import deque, defaultdict"
   ]
  },
  {
   "cell_type": "code",
   "execution_count": 3,
   "metadata": {},
   "outputs": [],
   "source": [
    "np.random.seed(323) # static seed so results are reproducible"
   ]
  },
  {
   "cell_type": "code",
   "execution_count": 4,
   "metadata": {},
   "outputs": [],
   "source": [
    "style.use('seaborn-poster') # sets the size of the charts\n",
    "style.use('ggplot') # set the theme for matplotlib"
   ]
  },
  {
   "cell_type": "code",
   "execution_count": 5,
   "metadata": {},
   "outputs": [
    {
     "data": {
      "application/javascript": [
       "IPython.OutputArea.prototype._should_scroll = function(lines) {\n",
       "    return false;\n",
       "}\n"
      ],
      "text/plain": [
       "<IPython.core.display.Javascript object>"
      ]
     },
     "metadata": {},
     "output_type": "display_data"
    }
   ],
   "source": [
    "%%javascript\n",
    "IPython.OutputArea.prototype._should_scroll = function(lines) {\n",
    "    return false;\n",
    "}"
   ]
  },
  {
   "cell_type": "markdown",
   "metadata": {},
   "source": [
    "## Helper Utilities"
   ]
  },
  {
   "cell_type": "code",
   "execution_count": 6,
   "metadata": {},
   "outputs": [],
   "source": [
    "infinity = float(\"inf\")"
   ]
  },
  {
   "cell_type": "markdown",
   "metadata": {},
   "source": [
    "## Sample Data"
   ]
  },
  {
   "cell_type": "code",
   "execution_count": 21,
   "metadata": {},
   "outputs": [
    {
     "data": {
      "text/html": [
       "<img src=\"img/RoadTrip_NYC_to_L.A.jpg\",width=60,height=60>\n"
      ],
      "text/plain": [
       "<IPython.core.display.HTML object>"
      ]
     },
     "metadata": {},
     "output_type": "display_data"
    }
   ],
   "source": [
    "%%html\n",
    "<img src=\"img/RoadTrip_NYC_to_L.A.jpg\",width=60,height=60>"
   ]
  },
  {
   "cell_type": "markdown",
   "metadata": {},
   "source": [
    "Initialize each of our nodes in the graph"
   ]
  },
  {
   "cell_type": "code",
   "execution_count": 7,
   "metadata": {},
   "outputs": [],
   "source": [
    "graph = {}\n",
    "graph['NYC'] = {}\n",
    "graph['DC'] = {}\n",
    "graph['Atlanta'] = {}\n",
    "graph['New Orleans'] = {}\n",
    "graph['Dallas'] = {}\n",
    "graph['Indianapolis'] = {}\n",
    "graph['Kansas City'] = {}\n",
    "graph['Denver'] = {}\n",
    "graph['Pittsburgh'] = {}\n",
    "graph['Cincinatti'] = {}\n",
    "graph['St Louis'] = {}\n",
    "graph['OK City'] = {}\n",
    "graph['Alburqurque'] = {}\n",
    "graph['Salt Lake City'] = {}\n",
    "graph['Phoenix'] = {}\n",
    "graph['Las Vegas'] = {}\n",
    "graph['San Diego'] = {}\n",
    "graph['Los Angeles'] = {}"
   ]
  },
  {
   "cell_type": "markdown",
   "metadata": {},
   "source": [
    "Neighbor relationships"
   ]
  },
  {
   "cell_type": "code",
   "execution_count": 8,
   "metadata": {},
   "outputs": [],
   "source": [
    "graph['NYC']['DC'] = 2\n",
    "graph['NYC']['Pittsburgh'] = 7\n",
    "graph['NYC']['Indianapolis'] = 11\n",
    "\n",
    "graph['DC']['Atlanta'] = 2\n",
    "graph['Atlanta']['New Orleans'] = 2\n",
    "graph['New Orleans']['Dallas'] = 2\n",
    "graph['Dallas']['Alburqurque'] = 2\n",
    "graph['Alburqurque']['Phoenix'] = 2\n",
    "graph['Phoenix']['Las Vegas'] = 2\n",
    "graph['Phoenix']['San Diego'] = 5\n",
    "graph['San Diego']['Los Angeles'] = 2\n",
    "graph['Las Vegas']['San Diego'] = 2\n",
    "graph['Las Vegas']['Los Angeles'] = 5\n",
    "\n",
    "graph['Indianapolis']['Kansas City'] = 8\n",
    "graph['Kansas City']['Denver'] = 7\n",
    "graph['Denver']['Salt Lake City'] = 6\n",
    "graph['Salt Lake City']['Las Vegas'] = 9\n",
    "\n",
    "graph['Pittsburgh']['Cincinatti'] = 6\n",
    "graph['Cincinatti']['St Louis'] = 8\n",
    "graph['St Louis']['OK City'] = 7\n",
    "graph['OK City']['Alburqurque'] = 9"
   ]
  },
  {
   "cell_type": "markdown",
   "metadata": {},
   "source": [
    "Cost table"
   ]
  },
  {
   "cell_type": "code",
   "execution_count": 9,
   "metadata": {},
   "outputs": [],
   "source": [
    "costs = {}\n",
    "costs['NYC'] = 0\n",
    "costs['DC'] = 2\n",
    "costs['Atlanta'] = 2\n",
    "costs['New Orleans'] = 2\n",
    "costs['Dallas'] = 2\n",
    "costs['Indianapolis'] = 11\n",
    "costs['Kansas City'] = 7\n",
    "costs['Denver'] = infinity\n",
    "costs['Pittsburgh'] = 7\n",
    "costs['Cincinatti'] = infinity\n",
    "costs['St Louis'] = infinity\n",
    "costs['OK City'] = infinity\n",
    "costs['Alburqurque'] = 2\n",
    "costs['Salt Lake City'] = 9\n",
    "costs['Phoenix'] = 2\n",
    "costs['Las Vegas'] = 2\n",
    "costs['San Diego'] = 5\n",
    "costs['Los Angeles'] = infinity"
   ]
  },
  {
   "cell_type": "markdown",
   "metadata": {},
   "source": [
    "Initialize Parents"
   ]
  },
  {
   "cell_type": "code",
   "execution_count": 10,
   "metadata": {},
   "outputs": [],
   "source": [
    "parents = {}\n",
    "\n",
    "parents['DC'] = 'NYC'\n",
    "parents['Atlanta'] = 'DC'\n",
    "parents['New Orleans'] = 'Atlanta'\n",
    "parents['Dallas'] = 'New Orleans'\n",
    "parents['Indianapolis'] = 'NYC'\n",
    "parents['Kansas City'] = 'Indianapolis'\n",
    "parents['Denver'] = 'Kansas City'\n",
    "parents['Pittsburgh'] = 'NYC'\n",
    "parents['Cincinatti'] = 'Pittsburgh'\n",
    "parents['St Louis'] = 'Cincinatti'\n",
    "parents['OK City'] = 'St Louis'\n",
    "parents['Alburqurque'] = 'Dallas'\n",
    "parents['Salt Lake City'] = 'Denver'\n",
    "parents['Phoenix'] = 'Alburqurque'\n",
    "parents['Las Vegas'] = 'Phoenix'\n",
    "parents['San Diego'] = 'Phoenix'\n",
    "parents['Los Angeles'] = 'San Diego'\n",
    "\n",
    "processed = []"
   ]
  },
  {
   "cell_type": "markdown",
   "metadata": {},
   "source": [
    "### Search Functions"
   ]
  },
  {
   "cell_type": "code",
   "execution_count": 11,
   "metadata": {},
   "outputs": [],
   "source": [
    "def BFS(graph, start, finish):\n",
    "    # keep track of processed nodes\n",
    "    processed = []\n",
    "    # keep track of all the paths to be checked\n",
    "    queue = [[start]]\n",
    " \n",
    "    # return path if start is goal\n",
    "    if start == finish:\n",
    "        return \"Arrived.\"\n",
    " \n",
    "    # We need to check all possible paths\n",
    "    while queue:\n",
    "        # Take the first path\n",
    "        path = queue.pop(0)\n",
    "        # Find the last possible destination on this path\n",
    "        node = path[-1]\n",
    "        if node not in processed:\n",
    "            neighbors = graph[node]\n",
    "            # go through all neighbor nodes, make a new path and\n",
    "            # push it into the queue\n",
    "            for neighbor in neighbors:\n",
    "                newPath = list(path)\n",
    "                newPath.append(neighbor)\n",
    "                queue.append(newPath)\n",
    "                # return path if neighbour is goal\n",
    "                if neighbor == finish:\n",
    "                    cost = getRouteCost(newPath)\n",
    "                    return (newPath, cost)\n",
    " \n",
    "            # mark node as processed\n",
    "            processed.append(node)\n",
    " \n",
    "    # in case there's no path between the 2 nodes\n",
    "    return \"There is no route.\"\n",
    "\n",
    "# function to find the lowest cost node, check neighboring costs, and updating\n",
    "# the costs and parents to reflect the cheapest path\n",
    "def findLowestCostNode(costs):\n",
    "    lowestCost = float(\"inf\")\n",
    "    lowestCostNode = None\n",
    "    for node in costs:\n",
    "        cost = costs[node]\n",
    "        if cost < lowestCost and node not in processed:\n",
    "            lowestCost = cost\n",
    "            lowestCostNode = node\n",
    "    return lowestCostNode\n",
    "\n",
    "# implementation of Dijkstra's Algorithm for weighted graph traversal\n",
    "def dijkstra(graph, costs, dest):\n",
    "    totalCost = 0\n",
    "    path = []\n",
    "    node = findLowestCostNode(costs) # Find lowest cost, unprocessed node\n",
    "    while node is not None and node != dest: # While loop ends when all nodes have been processed\n",
    "        path.append(node)\n",
    "        cost = costs[node]\n",
    "        \n",
    "        totalCost += cost\n",
    "        neighbors = graph[node]\n",
    "        \n",
    "        for n in neighbors.keys(): # Go through all neighors of node in question\n",
    "            newCost = cost + neighbors[n] # Find cost to get to node through neighbor\n",
    "            if costs[n] > newCost: # If it is cheaper this way\n",
    "                costs[n] = newCost # update the cost to reflect this\n",
    "                parents[n] = node # This node is now the parent of the neighbor\n",
    "        processed.append(node) # mark the node as processed\n",
    "        node = findLowestCostNode(costs) # Process the next node and loop\n",
    "    \n",
    "    path.append(node)\n",
    "    return (path, totalCost)\n",
    "\n",
    "def getRouteCost(path):\n",
    "    cost = 0\n",
    "    for index in range(len(path)-1):\n",
    "        cost += graph[path[index]][path[index+1]]\n",
    "    return cost"
   ]
  },
  {
   "cell_type": "markdown",
   "metadata": {},
   "source": [
    "## Benchmark"
   ]
  },
  {
   "cell_type": "code",
   "execution_count": 12,
   "metadata": {},
   "outputs": [],
   "source": [
    "bfsPath = BFS(graph, 'NYC', 'Los Angeles')\n",
    "djkPath = dijkstra(graph, costs, 'Los Angeles')"
   ]
  },
  {
   "cell_type": "markdown",
   "metadata": {},
   "source": [
    "#### Breadth-First Search"
   ]
  },
  {
   "cell_type": "code",
   "execution_count": 13,
   "metadata": {},
   "outputs": [
    {
     "name": "stdout",
     "output_type": "stream",
     "text": [
      "The shortest route is: ['NYC', 'Indianapolis', 'Kansas City', 'Denver', 'Salt Lake City', 'Las Vegas', 'Los Angeles'], total cost: 46\n"
     ]
    }
   ],
   "source": [
    "print(\"The shortest route is: {0}, total cost: {1}\".format(bfsPath[0], bfsPath[1]))"
   ]
  },
  {
   "cell_type": "markdown",
   "metadata": {},
   "source": [
    "#### Dijkstra's"
   ]
  },
  {
   "cell_type": "code",
   "execution_count": 14,
   "metadata": {},
   "outputs": [
    {
     "name": "stdout",
     "output_type": "stream",
     "text": [
      "The cheapest route is: ['NYC', 'DC', 'Atlanta', 'New Orleans', 'Dallas', 'Alburqurque', 'Phoenix', 'Las Vegas', 'San Diego', 'Los Angeles'], total cost: 18\n"
     ]
    }
   ],
   "source": [
    "print(\"The cheapest route is: {0}, total cost: {1}\".format(djkPath[0], djkPath[1]))"
   ]
  },
  {
   "cell_type": "markdown",
   "metadata": {},
   "source": [
    "### Results"
   ]
  },
  {
   "cell_type": "code",
   "execution_count": 15,
   "metadata": {},
   "outputs": [],
   "source": [
    "# Create the output metrics DataFrame\n",
    "results = pd.DataFrame(columns = ['Method', 'Length', 'Cost'])\n",
    "\n",
    "results.loc[0] = ['BFS', len(bfsPath[0]), bfsPath[1]]\n",
    "results.loc[1] = ['Dijkstra', len(djkPath[0]), djkPath[1]]"
   ]
  },
  {
   "cell_type": "code",
   "execution_count": 16,
   "metadata": {},
   "outputs": [
    {
     "data": {
      "text/html": [
       "<div>\n",
       "<style scoped>\n",
       "    .dataframe tbody tr th:only-of-type {\n",
       "        vertical-align: middle;\n",
       "    }\n",
       "\n",
       "    .dataframe tbody tr th {\n",
       "        vertical-align: top;\n",
       "    }\n",
       "\n",
       "    .dataframe thead th {\n",
       "        text-align: right;\n",
       "    }\n",
       "</style>\n",
       "<table border=\"1\" class=\"dataframe\">\n",
       "  <thead>\n",
       "    <tr style=\"text-align: right;\">\n",
       "      <th></th>\n",
       "      <th>Method</th>\n",
       "      <th>Length</th>\n",
       "      <th>Cost</th>\n",
       "    </tr>\n",
       "  </thead>\n",
       "  <tbody>\n",
       "    <tr>\n",
       "      <th>0</th>\n",
       "      <td>BFS</td>\n",
       "      <td>7</td>\n",
       "      <td>46</td>\n",
       "    </tr>\n",
       "    <tr>\n",
       "      <th>1</th>\n",
       "      <td>Dijkstra</td>\n",
       "      <td>10</td>\n",
       "      <td>18</td>\n",
       "    </tr>\n",
       "  </tbody>\n",
       "</table>\n",
       "</div>"
      ],
      "text/plain": [
       "     Method Length Cost\n",
       "0       BFS      7   46\n",
       "1  Dijkstra     10   18"
      ]
     },
     "execution_count": 16,
     "metadata": {},
     "output_type": "execute_result"
    }
   ],
   "source": [
    "results"
   ]
  },
  {
   "cell_type": "markdown",
   "metadata": {},
   "source": [
    "## Summary"
   ]
  },
  {
   "cell_type": "code",
   "execution_count": 17,
   "metadata": {},
   "outputs": [
    {
     "data": {
      "image/png": "[encoded data removed]",
      "text/plain": [
       "<Figure size 921.6x633.6 with 1 Axes>"
      ]
     },
     "metadata": {},
     "output_type": "display_data"
    }
   ],
   "source": [
    "results.plot.bar(x='Method', y='Cost', align='center', alpha=0.5)\n",
    "plt.ylabel('Total Travel Time')\n",
    "plt.title('Search Time')\n",
    "\n",
    "plt.show()"
   ]
  },
  {
   "cell_type": "code",
   "execution_count": 18,
   "metadata": {},
   "outputs": [
    {
     "data": {
      "image/png": "[encoded data removed]",
      "text/plain": [
       "<Figure size 921.6x633.6 with 1 Axes>"
      ]
     },
     "metadata": {},
     "output_type": "display_data"
    }
   ],
   "source": [
    "results.plot.bar(x='Method', y='Length', align='center', alpha=0.5)\n",
    "plt.ylabel('Number of Cities Visited')\n",
    "plt.title('Search Time')\n",
    "\n",
    "plt.show()"
   ]
  },
  {
   "cell_type": "markdown",
   "metadata": {},
   "source": [
    "In this lab we compare two methods of graph traversal, namely breadth-first search and Dijkstra’s algorithm. The two methods are similar conceptually, however the important distinguishing feature of Dijkstra’s algorithm is that it supports the notion of graph edges having associated weightings that make the traversal of the graph a function of looking for the lowest (or perhaps, the highest) cost from a given point A -> B.\n",
    "\n",
    "We should note here that if we had a graph with all equal weighting, Dijkstra’s algorithm would behave identically to that of the breadth-first search. In the lab, we demonstrate a simple path like that one that might be generated using a GPS system when traveling from New York to Los Angles. Here, each node is connected to one or more nodes using a nested dictionary, and there is a separate cost look-up tables for the associations that determine the weighing for the edges (time spent on a given path).\n",
    "\n",
    "The performance of the algorithms is quite drastic as we might expect due to the breadth-first search just taking a naive approach that ignores the weights of the edges. The BFS algorithm does in fact visit less cities as we see in the second chart above, however, this is not a useful metric for this exercise as we are only concerned about minimizing the distance between the first and last nodes. Given these constraints, Dijkstra’s algorithm performs exceptionally well, yielding a final score of 18 to the 41 given by the BFS approach.\n",
    "\n",
    "Graphs and nested data structures are useful for data engineers in general due to their ability to closely model problems that have a hierarchical nature. Examples of these include network or path traversal problems, garbage collection (reference tracking) and recursively defined datasets. Having a strategy to deal with iterating this type of data is essential for anyone working with complex data definitions such as these.\n"
   ]
  }
 ],
 "metadata": {
  "kernelspec": {
   "display_name": "Python 3",
   "language": "python",
   "name": "python3"
  },
  "language_info": {
   "codemirror_mode": {
    "name": "ipython",
    "version": 3
   },
   "file_extension": ".py",
   "mimetype": "text/x-python",
   "name": "python",
   "nbconvert_exporter": "python",
   "pygments_lexer": "ipython3",
   "version": "3.7.1"
  }
 },
 "nbformat": 4,
 "nbformat_minor": 2
}
