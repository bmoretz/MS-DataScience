{
 "cells": [
  {
   "cell_type": "markdown",
   "metadata": {},
   "source": [
    "# MSDS 432, Assignment 8 - Greedy Algorithm"
   ]
  },
  {
   "cell_type": "markdown",
   "metadata": {},
   "source": [
    "#### Author: Brandon Moretz"
   ]
  },
  {
   "cell_type": "code",
   "execution_count": 1,
   "metadata": {},
   "outputs": [],
   "source": [
    "%matplotlib inline"
   ]
  },
  {
   "cell_type": "code",
   "execution_count": 2,
   "metadata": {},
   "outputs": [],
   "source": [
    "import numpy as np\n",
    "import pandas as pd\n",
    "import matplotlib.pyplot as plt\n",
    "from time import time\n",
    "from datetime import datetime\n",
    "import matplotlib.style as style\n",
    "import calendar"
   ]
  },
  {
   "cell_type": "code",
   "execution_count": 3,
   "metadata": {},
   "outputs": [],
   "source": [
    "np.random.seed(323) # static seed so results are reproducible"
   ]
  },
  {
   "cell_type": "code",
   "execution_count": 4,
   "metadata": {},
   "outputs": [],
   "source": [
    "style.use('seaborn-poster') # sets the size of the charts\n",
    "style.use('ggplot') # set the theme for matplotlib"
   ]
  },
  {
   "cell_type": "code",
   "execution_count": 5,
   "metadata": {},
   "outputs": [
    {
     "data": {
      "application/javascript": [
       "IPython.OutputArea.prototype._should_scroll = function(lines) {\n",
       "    return false;\n",
       "}\n"
      ],
      "text/plain": [
       "<IPython.core.display.Javascript object>"
      ]
     },
     "metadata": {},
     "output_type": "display_data"
    }
   ],
   "source": [
    "%%javascript\n",
    "IPython.OutputArea.prototype._should_scroll = function(lines) {\n",
    "    return false;\n",
    "}"
   ]
  },
  {
   "cell_type": "markdown",
   "metadata": {},
   "source": [
    "## Guard Scheduling"
   ]
  },
  {
   "cell_type": "code",
   "execution_count": 6,
   "metadata": {},
   "outputs": [],
   "source": [
    "guards = ['Tom', 'Jim', 'Barry', 'Erin', 'Jacob', 'Dan']\n",
    "pay = {p: 15 if p <= 8 else 20 for p in range(1, 13)}\n",
    "schedule = {d:[[h, [None, 0]] for h in range(0, 24)] for d in calendar.day_name}"
   ]
  },
  {
   "cell_type": "code",
   "execution_count": 7,
   "metadata": {},
   "outputs": [],
   "source": [
    "guard, onDuty, prevPay = 0, 1, 0\n",
    "for day in schedule.keys():\n",
    "    for hour in schedule[day]:\n",
    "        task = hour[1]\n",
    "        if task[0] is None:\n",
    "            curPay = pay[onDuty]\n",
    "            \n",
    "            if curPay > prevPay:\n",
    "                if guard == len(guards)-1:\n",
    "                    guard = 0\n",
    "                else:\n",
    "                    guard += 1\n",
    "                    \n",
    "                onDuty = 1\n",
    "                curPay = pay[onDuty]\n",
    "                \n",
    "            task[0] = guards[guard]\n",
    "            task[1] = curPay\n",
    "            \n",
    "            onDuty += 1\n",
    "            prevPay = curPay\n",
    "            \n",
    "            hour = task"
   ]
  },
  {
   "cell_type": "markdown",
   "metadata": {},
   "source": [
    "## Schedule"
   ]
  },
  {
   "cell_type": "code",
   "execution_count": 8,
   "metadata": {},
   "outputs": [
    {
     "data": {
      "text/plain": [
       "{'Monday': [[0, ['Jim', 15]],\n",
       "  [1, ['Jim', 15]],\n",
       "  [2, ['Jim', 15]],\n",
       "  [3, ['Jim', 15]],\n",
       "  [4, ['Jim', 15]],\n",
       "  [5, ['Jim', 15]],\n",
       "  [6, ['Jim', 15]],\n",
       "  [7, ['Jim', 15]],\n",
       "  [8, ['Barry', 15]],\n",
       "  [9, ['Barry', 15]],\n",
       "  [10, ['Barry', 15]],\n",
       "  [11, ['Barry', 15]],\n",
       "  [12, ['Barry', 15]],\n",
       "  [13, ['Barry', 15]],\n",
       "  [14, ['Barry', 15]],\n",
       "  [15, ['Barry', 15]],\n",
       "  [16, ['Erin', 15]],\n",
       "  [17, ['Erin', 15]],\n",
       "  [18, ['Erin', 15]],\n",
       "  [19, ['Erin', 15]],\n",
       "  [20, ['Erin', 15]],\n",
       "  [21, ['Erin', 15]],\n",
       "  [22, ['Erin', 15]],\n",
       "  [23, ['Erin', 15]]],\n",
       " 'Tuesday': [[0, ['Jacob', 15]],\n",
       "  [1, ['Jacob', 15]],\n",
       "  [2, ['Jacob', 15]],\n",
       "  [3, ['Jacob', 15]],\n",
       "  [4, ['Jacob', 15]],\n",
       "  [5, ['Jacob', 15]],\n",
       "  [6, ['Jacob', 15]],\n",
       "  [7, ['Jacob', 15]],\n",
       "  [8, ['Dan', 15]],\n",
       "  [9, ['Dan', 15]],\n",
       "  [10, ['Dan', 15]],\n",
       "  [11, ['Dan', 15]],\n",
       "  [12, ['Dan', 15]],\n",
       "  [13, ['Dan', 15]],\n",
       "  [14, ['Dan', 15]],\n",
       "  [15, ['Dan', 15]],\n",
       "  [16, ['Tom', 15]],\n",
       "  [17, ['Tom', 15]],\n",
       "  [18, ['Tom', 15]],\n",
       "  [19, ['Tom', 15]],\n",
       "  [20, ['Tom', 15]],\n",
       "  [21, ['Tom', 15]],\n",
       "  [22, ['Tom', 15]],\n",
       "  [23, ['Tom', 15]]],\n",
       " 'Wednesday': [[0, ['Jim', 15]],\n",
       "  [1, ['Jim', 15]],\n",
       "  [2, ['Jim', 15]],\n",
       "  [3, ['Jim', 15]],\n",
       "  [4, ['Jim', 15]],\n",
       "  [5, ['Jim', 15]],\n",
       "  [6, ['Jim', 15]],\n",
       "  [7, ['Jim', 15]],\n",
       "  [8, ['Barry', 15]],\n",
       "  [9, ['Barry', 15]],\n",
       "  [10, ['Barry', 15]],\n",
       "  [11, ['Barry', 15]],\n",
       "  [12, ['Barry', 15]],\n",
       "  [13, ['Barry', 15]],\n",
       "  [14, ['Barry', 15]],\n",
       "  [15, ['Barry', 15]],\n",
       "  [16, ['Erin', 15]],\n",
       "  [17, ['Erin', 15]],\n",
       "  [18, ['Erin', 15]],\n",
       "  [19, ['Erin', 15]],\n",
       "  [20, ['Erin', 15]],\n",
       "  [21, ['Erin', 15]],\n",
       "  [22, ['Erin', 15]],\n",
       "  [23, ['Erin', 15]]],\n",
       " 'Thursday': [[0, ['Jacob', 15]],\n",
       "  [1, ['Jacob', 15]],\n",
       "  [2, ['Jacob', 15]],\n",
       "  [3, ['Jacob', 15]],\n",
       "  [4, ['Jacob', 15]],\n",
       "  [5, ['Jacob', 15]],\n",
       "  [6, ['Jacob', 15]],\n",
       "  [7, ['Jacob', 15]],\n",
       "  [8, ['Dan', 15]],\n",
       "  [9, ['Dan', 15]],\n",
       "  [10, ['Dan', 15]],\n",
       "  [11, ['Dan', 15]],\n",
       "  [12, ['Dan', 15]],\n",
       "  [13, ['Dan', 15]],\n",
       "  [14, ['Dan', 15]],\n",
       "  [15, ['Dan', 15]],\n",
       "  [16, ['Tom', 15]],\n",
       "  [17, ['Tom', 15]],\n",
       "  [18, ['Tom', 15]],\n",
       "  [19, ['Tom', 15]],\n",
       "  [20, ['Tom', 15]],\n",
       "  [21, ['Tom', 15]],\n",
       "  [22, ['Tom', 15]],\n",
       "  [23, ['Tom', 15]]],\n",
       " 'Friday': [[0, ['Jim', 15]],\n",
       "  [1, ['Jim', 15]],\n",
       "  [2, ['Jim', 15]],\n",
       "  [3, ['Jim', 15]],\n",
       "  [4, ['Jim', 15]],\n",
       "  [5, ['Jim', 15]],\n",
       "  [6, ['Jim', 15]],\n",
       "  [7, ['Jim', 15]],\n",
       "  [8, ['Barry', 15]],\n",
       "  [9, ['Barry', 15]],\n",
       "  [10, ['Barry', 15]],\n",
       "  [11, ['Barry', 15]],\n",
       "  [12, ['Barry', 15]],\n",
       "  [13, ['Barry', 15]],\n",
       "  [14, ['Barry', 15]],\n",
       "  [15, ['Barry', 15]],\n",
       "  [16, ['Erin', 15]],\n",
       "  [17, ['Erin', 15]],\n",
       "  [18, ['Erin', 15]],\n",
       "  [19, ['Erin', 15]],\n",
       "  [20, ['Erin', 15]],\n",
       "  [21, ['Erin', 15]],\n",
       "  [22, ['Erin', 15]],\n",
       "  [23, ['Erin', 15]]],\n",
       " 'Saturday': [[0, ['Jacob', 15]],\n",
       "  [1, ['Jacob', 15]],\n",
       "  [2, ['Jacob', 15]],\n",
       "  [3, ['Jacob', 15]],\n",
       "  [4, ['Jacob', 15]],\n",
       "  [5, ['Jacob', 15]],\n",
       "  [6, ['Jacob', 15]],\n",
       "  [7, ['Jacob', 15]],\n",
       "  [8, ['Dan', 15]],\n",
       "  [9, ['Dan', 15]],\n",
       "  [10, ['Dan', 15]],\n",
       "  [11, ['Dan', 15]],\n",
       "  [12, ['Dan', 15]],\n",
       "  [13, ['Dan', 15]],\n",
       "  [14, ['Dan', 15]],\n",
       "  [15, ['Dan', 15]],\n",
       "  [16, ['Tom', 15]],\n",
       "  [17, ['Tom', 15]],\n",
       "  [18, ['Tom', 15]],\n",
       "  [19, ['Tom', 15]],\n",
       "  [20, ['Tom', 15]],\n",
       "  [21, ['Tom', 15]],\n",
       "  [22, ['Tom', 15]],\n",
       "  [23, ['Tom', 15]]],\n",
       " 'Sunday': [[0, ['Jim', 15]],\n",
       "  [1, ['Jim', 15]],\n",
       "  [2, ['Jim', 15]],\n",
       "  [3, ['Jim', 15]],\n",
       "  [4, ['Jim', 15]],\n",
       "  [5, ['Jim', 15]],\n",
       "  [6, ['Jim', 15]],\n",
       "  [7, ['Jim', 15]],\n",
       "  [8, ['Barry', 15]],\n",
       "  [9, ['Barry', 15]],\n",
       "  [10, ['Barry', 15]],\n",
       "  [11, ['Barry', 15]],\n",
       "  [12, ['Barry', 15]],\n",
       "  [13, ['Barry', 15]],\n",
       "  [14, ['Barry', 15]],\n",
       "  [15, ['Barry', 15]],\n",
       "  [16, ['Erin', 15]],\n",
       "  [17, ['Erin', 15]],\n",
       "  [18, ['Erin', 15]],\n",
       "  [19, ['Erin', 15]],\n",
       "  [20, ['Erin', 15]],\n",
       "  [21, ['Erin', 15]],\n",
       "  [22, ['Erin', 15]],\n",
       "  [23, ['Erin', 15]]]}"
      ]
     },
     "execution_count": 8,
     "metadata": {},
     "output_type": "execute_result"
    }
   ],
   "source": [
    "schedule"
   ]
  },
  {
   "cell_type": "markdown",
   "metadata": {},
   "source": [
    "## Results"
   ]
  },
  {
   "cell_type": "code",
   "execution_count": 12,
   "metadata": {},
   "outputs": [],
   "source": [
    "results = pd.DataFrame(columns = ['Time', 'Guard', 'Pay'])\n",
    "\n",
    "curDay, slot = 1, 0\n",
    "for d in schedule.keys():\n",
    "    for hour in schedule[d]:\n",
    "        date = datetime.strptime('{0} {1} {2}:00'.format(day, curDay, hour[0]), '%A %d %H:%M')\n",
    "        guard = hour[1][0]\n",
    "        pay = hour[1][1]\n",
    "        results.loc[slot] = [date, guard, pay]\n",
    "        slot += 1\n",
    "    curDay += 1\n",
    "\n",
    "results.set_index('Time', inplace=True)"
   ]
  },
  {
   "cell_type": "markdown",
   "metadata": {},
   "source": [
    "## Summary"
   ]
  },
  {
   "cell_type": "code",
   "execution_count": 19,
   "metadata": {},
   "outputs": [
    {
     "data": {
      "image/png": "[encoded data removed]",
      "text/plain": [
       "<Figure size 921.6x633.6 with 1 Axes>"
      ]
     },
     "metadata": {},
     "output_type": "display_data"
    }
   ],
   "source": [
    "df = results.groupby(['Guard', 'Pay'])['Guard'].count().unstack('Pay').fillna(0)\n",
    "df.plot.bar()\n",
    "plt.ylabel('Total Hours Worked / Hourly Rate')\n",
    "\n",
    "plt.show()"
   ]
  },
  {
   "cell_type": "markdown",
   "metadata": {},
   "source": [
    "In this lab we explore the concept of a greedy algorithm. The algorithm presented gives an optimal guard scheduling structure for a given week, under the following assumptions:\n",
    "\n",
    "+\tYou recently won a new contract in the area to provide 24x7 security to a small under construction building (for simplicity we will design the solution for only 24 hours, but if you want to go above and beyond, feel free to write code that handles the 24x7 scenario as well)\n",
    "+\tPeople working less than or equal to 8 hours will be paid $15hr\n",
    "\n",
    "+\tAnyone working overtime (>8 hours) will be paid an additional $5,i.e. $20/hr\n",
    "\n",
    "+\tYou have 6 security guards available at the moment who you can assign to this building but your goal is to make more money \n",
    "out of this contract and spend less in wages (hence greedy!)\n",
    "\n",
    "Under the conditions stated above, the approach is to generate an empty slate of every hour of every day for scheduling (i.e., define the problem domain). Once the domain is generated, we construct a look-up table for hours works and hourly rate (0-23, with any value less than or equal to 8 having 15 dollar wage, and any value greater than 8 having 20 dollar wage).\n",
    "\n",
    "To fill out the schedule we use a round-robbing mechanism that schedules one guard consecutively until their hourly rate exceeds the previous rate, then we look for another guard to begin their shift at the regular rate. We continue this process until we have a guard on schedule for every hour of the week.\n",
    "\n",
    "As we see in the hourly summary above, no one has an hourly rate above the $15 minimum, and the hours are fairly uniformly distributed between all the guards so that everyone is in the weekly rotation.\n"
   ]
  }
 ],
 "metadata": {
  "kernelspec": {
   "display_name": "Python 3",
   "language": "python",
   "name": "python3"
  },
  "language_info": {
   "codemirror_mode": {
    "name": "ipython",
    "version": 3
   },
   "file_extension": ".py",
   "mimetype": "text/x-python",
   "name": "python",
   "nbconvert_exporter": "python",
   "pygments_lexer": "ipython3",
   "version": "3.7.1"
  }
 },
 "nbformat": 4,
 "nbformat_minor": 2
}
