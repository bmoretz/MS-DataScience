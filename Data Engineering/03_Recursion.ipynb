{
 "cells": [
  {
   "cell_type": "markdown",
   "metadata": {},
   "source": [
    "# MSDS 432, Assignment 3 - Recursion"
   ]
  },
  {
   "cell_type": "markdown",
   "metadata": {},
   "source": [
    "#### Author: Brandon Moretz"
   ]
  },
  {
   "cell_type": "code",
   "execution_count": 1,
   "metadata": {},
   "outputs": [],
   "source": [
    "%matplotlib inline"
   ]
  },
  {
   "cell_type": "code",
   "execution_count": 2,
   "metadata": {},
   "outputs": [],
   "source": [
    "import numpy as np\n",
    "import pandas as pd\n",
    "import matplotlib.pyplot as plt\n",
    "from time import time\n",
    "import matplotlib.style as style\n",
    "import sys"
   ]
  },
  {
   "cell_type": "code",
   "execution_count": 3,
   "metadata": {},
   "outputs": [],
   "source": [
    "np.random.seed(323) # static seed so results are reproducible"
   ]
  },
  {
   "cell_type": "code",
   "execution_count": 4,
   "metadata": {},
   "outputs": [],
   "source": [
    "sys.setrecursionlimit(5000) # increase the default max recursion depth for benchmark results."
   ]
  },
  {
   "cell_type": "code",
   "execution_count": 5,
   "metadata": {},
   "outputs": [],
   "source": [
    "style.use('seaborn-poster') # sets the size of the charts\n",
    "style.use('ggplot') # set the theme for matplotlib"
   ]
  },
  {
   "cell_type": "markdown",
   "metadata": {},
   "source": [
    "## Factoral Algorithms"
   ]
  },
  {
   "cell_type": "code",
   "execution_count": 6,
   "metadata": {},
   "outputs": [],
   "source": [
    "def factorial_recursive(n):\n",
    "    \"\"\"Recursive version of Factoral (n!)\"\"\"\n",
    "    if n == 1:\n",
    "        return 1\n",
    "    else:\n",
    "        return n * factorial_recursive(n-1)\n",
    "    \n",
    "def factorial_iterative(n):\n",
    "    \"\"\"Iterative version of Factoral (n!)\"\"\"\n",
    "    result = 1\n",
    "    for i in range(n, 1, -1):\n",
    "        result *= i\n",
    "    return result\n",
    "\n",
    "def profile(func):\n",
    "    \"\"\"Utility function to help profile the runtime of code blocks.\"\"\"\n",
    "    start_time = time()\n",
    "    func()\n",
    "    return time() - start_time"
   ]
  },
  {
   "cell_type": "markdown",
   "metadata": {},
   "source": [
    "## Benchmark"
   ]
  },
  {
   "cell_type": "code",
   "execution_count": 7,
   "metadata": {},
   "outputs": [],
   "source": [
    "# Create the output metrics DataFrame\n",
    "results = pd.DataFrame(columns = ['N', 'Factorial', 'Recursive', 'Iterative', 'Diff'])"
   ]
  },
  {
   "cell_type": "code",
   "execution_count": 8,
   "metadata": {},
   "outputs": [],
   "source": [
    "dataset = [int(np.random.uniform(2000, 3500)) for k in range(0, 10)] # increased the numeric range due to getting all zeros.\n",
    "dataset.sort() # order from largest to smallest for charting\n",
    "\n",
    "for index in range(len(dataset)): # iterate the dataset\n",
    "    n = dataset[index]\n",
    "    recursive_time = profile(lambda: factorial_recursive(n)) # profile recursive version\n",
    "    iterative_time = profile(lambda: factorial_iterative(n)) # profile iterative version\n",
    "    \n",
    "    fac_int = factorial_iterative(n)\n",
    "    fac_rec = factorial_recursive(n)\n",
    "    \n",
    "    assert fac_int == fac_rec # ensure the two version return the same result.\n",
    "    \n",
    "    results.loc[index] = [n, str(fac_int), recursive_time, iterative_time, recursive_time - iterative_time] # save it."
   ]
  },
  {
   "cell_type": "markdown",
   "metadata": {},
   "source": [
    "## Results"
   ]
  },
  {
   "cell_type": "code",
   "execution_count": 9,
   "metadata": {},
   "outputs": [
    {
     "data": {
      "text/html": [
       "<div>\n",
       "<style scoped>\n",
       "    .dataframe tbody tr th:only-of-type {\n",
       "        vertical-align: middle;\n",
       "    }\n",
       "\n",
       "    .dataframe tbody tr th {\n",
       "        vertical-align: top;\n",
       "    }\n",
       "\n",
       "    .dataframe thead th {\n",
       "        text-align: right;\n",
       "    }\n",
       "</style>\n",
       "<table border=\"1\" class=\"dataframe\">\n",
       "  <thead>\n",
       "    <tr style=\"text-align: right;\">\n",
       "      <th></th>\n",
       "      <th>N</th>\n",
       "      <th>Factorial</th>\n",
       "      <th>Recursive</th>\n",
       "      <th>Iterative</th>\n",
       "      <th>Diff</th>\n",
       "    </tr>\n",
       "  </thead>\n",
       "  <tbody>\n",
       "    <tr>\n",
       "      <th>0</th>\n",
       "      <td>2165</td>\n",
       "      <td>1217971911917252718968109433296170266083431434...</td>\n",
       "      <td>0.002003</td>\n",
       "      <td>0.001030</td>\n",
       "      <td>9.734631e-04</td>\n",
       "    </tr>\n",
       "    <tr>\n",
       "      <th>1</th>\n",
       "      <td>2203</td>\n",
       "      <td>9567692329887596361031567707694096451554801004...</td>\n",
       "      <td>0.001003</td>\n",
       "      <td>0.000999</td>\n",
       "      <td>4.291534e-06</td>\n",
       "    </tr>\n",
       "    <tr>\n",
       "      <th>2</th>\n",
       "      <td>2868</td>\n",
       "      <td>8096766443837134633832197023508842954757414586...</td>\n",
       "      <td>0.002027</td>\n",
       "      <td>0.002002</td>\n",
       "      <td>2.503395e-05</td>\n",
       "    </tr>\n",
       "    <tr>\n",
       "      <th>3</th>\n",
       "      <td>2966</td>\n",
       "      <td>3001756599027096008170361392950831864888678615...</td>\n",
       "      <td>0.001972</td>\n",
       "      <td>0.001002</td>\n",
       "      <td>9.701252e-04</td>\n",
       "    </tr>\n",
       "    <tr>\n",
       "      <th>4</th>\n",
       "      <td>3313</td>\n",
       "      <td>6842425973416112300731944827818785181610199008...</td>\n",
       "      <td>0.003001</td>\n",
       "      <td>0.001973</td>\n",
       "      <td>1.027584e-03</td>\n",
       "    </tr>\n",
       "    <tr>\n",
       "      <th>5</th>\n",
       "      <td>3355</td>\n",
       "      <td>6344244510640784303976274784525880352705844621...</td>\n",
       "      <td>0.001999</td>\n",
       "      <td>0.002026</td>\n",
       "      <td>-2.622604e-05</td>\n",
       "    </tr>\n",
       "    <tr>\n",
       "      <th>6</th>\n",
       "      <td>3441</td>\n",
       "      <td>3105196211733875608386227989790827670004632565...</td>\n",
       "      <td>0.003000</td>\n",
       "      <td>0.002000</td>\n",
       "      <td>9.996891e-04</td>\n",
       "    </tr>\n",
       "    <tr>\n",
       "      <th>7</th>\n",
       "      <td>3460</td>\n",
       "      <td>5164554695657782196771494005043899606815980566...</td>\n",
       "      <td>0.001976</td>\n",
       "      <td>0.001999</td>\n",
       "      <td>-2.312660e-05</td>\n",
       "    </tr>\n",
       "    <tr>\n",
       "      <th>8</th>\n",
       "      <td>3463</td>\n",
       "      <td>2142959856530032656413871970119865752163155298...</td>\n",
       "      <td>0.016999</td>\n",
       "      <td>0.002000</td>\n",
       "      <td>1.499987e-02</td>\n",
       "    </tr>\n",
       "    <tr>\n",
       "      <th>9</th>\n",
       "      <td>3498</td>\n",
       "      <td>1952499244255623668064661326659569007076495100...</td>\n",
       "      <td>0.001999</td>\n",
       "      <td>0.001999</td>\n",
       "      <td>-4.768372e-07</td>\n",
       "    </tr>\n",
       "  </tbody>\n",
       "</table>\n",
       "</div>"
      ],
      "text/plain": [
       "      N                                          Factorial  Recursive  \\\n",
       "0  2165  1217971911917252718968109433296170266083431434...   0.002003   \n",
       "1  2203  9567692329887596361031567707694096451554801004...   0.001003   \n",
       "2  2868  8096766443837134633832197023508842954757414586...   0.002027   \n",
       "3  2966  3001756599027096008170361392950831864888678615...   0.001972   \n",
       "4  3313  6842425973416112300731944827818785181610199008...   0.003001   \n",
       "5  3355  6344244510640784303976274784525880352705844621...   0.001999   \n",
       "6  3441  3105196211733875608386227989790827670004632565...   0.003000   \n",
       "7  3460  5164554695657782196771494005043899606815980566...   0.001976   \n",
       "8  3463  2142959856530032656413871970119865752163155298...   0.016999   \n",
       "9  3498  1952499244255623668064661326659569007076495100...   0.001999   \n",
       "\n",
       "   Iterative          Diff  \n",
       "0   0.001030  9.734631e-04  \n",
       "1   0.000999  4.291534e-06  \n",
       "2   0.002002  2.503395e-05  \n",
       "3   0.001002  9.701252e-04  \n",
       "4   0.001973  1.027584e-03  \n",
       "5   0.002026 -2.622604e-05  \n",
       "6   0.002000  9.996891e-04  \n",
       "7   0.001999 -2.312660e-05  \n",
       "8   0.002000  1.499987e-02  \n",
       "9   0.001999 -4.768372e-07  "
      ]
     },
     "execution_count": 9,
     "metadata": {},
     "output_type": "execute_result"
    }
   ],
   "source": [
    "results # display the results table / DataFrame"
   ]
  },
  {
   "cell_type": "markdown",
   "metadata": {},
   "source": [
    "## Summary"
   ]
  },
  {
   "cell_type": "markdown",
   "metadata": {},
   "source": [
    "The two algorithms under comparison in this lab are for computing the factorial of a given number, n, which is defined as the product of a given integer, n, and all the integers below it, i.e., 4! = 4 * 3 * 2 * 1 = 24. There are two distinct implantations of the algorithm, a recursive version (factorial_recursive) and an iterative version (factorial_iterative).\n",
    "\n",
    "Both algorithms have an asymptotic complexity of O(n), which is to say that the algorithms runtime grows linearly with the associated input. The factorial function itself is also a type of growth rate typically associated with permutations, or all possible variations of a given problem, and these are typically seen as not solvable in a realistic time frame.\n",
    "\n",
    "The recursive implementation of the factorial function takes one argument, n, and multiplies the results of successive calls to the function by the initial argument value, exiting when we reach the value 1. For example, factorial_recursive(4) would expand to: 4 * factorial_recursive(3) * factorial_recursive(2) * factorial_recursive(1), yielding 24 upon completion.\n",
    "\n",
    "The iterative implementation of the factorial function takes the same argument as the recursive version, except it keeps a local result variable and loops over it in reverse (n -> 1), decrementing by -1 each iteration, and saving the resulting computation in the local result variable. When the loop is complete it will have multiplied every integer less than itself up-to and including 1.\n",
    "\n",
    "As we see in the chart, the output of the factorial function is excessively large, so much so that just displaying the sheer number of digits being generated in a tabular form is difficult without truncation. The runtime of the recursive version and the iterative version are summarized in the chart as N increases, the recursive implementation of the algorithm is generally slower computationally (until the next to last spike which I believe is due to poor instrumentation of the runtime due to the Python garbage collector running during the timing of the function call).\n",
    "\n",
    "The big picture idea here and why these two algorithms in particular are useful to data engineers is that any given problem of an iterative or traversal nature can be solved both iteratively and recursively. There is an additional associated time and space complexity with the recursive version, however, the recursive version is easier to read, and the actual implementation is modeled closely to the exact problem definition."
   ]
  },
  {
   "cell_type": "code",
   "execution_count": 10,
   "metadata": {},
   "outputs": [
    {
     "data": {
      "image/png": "[encoded data removed]",
      "text/plain": [
       "<Figure size 921.6x633.6 with 1 Axes>"
      ]
     },
     "metadata": {},
     "output_type": "display_data"
    }
   ],
   "source": [
    "# Chart the relevant metrics about the three algorithms in comparision.\n",
    "ax = results[['N', 'Recursive', 'Iterative']].plot.line(x='N', title='Factorial Compare')\n",
    "ax.set_xlabel('Factoral')\n",
    "ax.set_ylabel('Execution Time')\n",
    "plt.show()"
   ]
  }
 ],
 "metadata": {
  "kernelspec": {
   "display_name": "Python 3",
   "language": "python",
   "name": "python3"
  },
  "language_info": {
   "codemirror_mode": {
    "name": "ipython",
    "version": 3
   },
   "file_extension": ".py",
   "mimetype": "text/x-python",
   "name": "python",
   "nbconvert_exporter": "python",
   "pygments_lexer": "ipython3",
   "version": "3.7.1"
  }
 },
 "nbformat": 4,
 "nbformat_minor": 2
}
