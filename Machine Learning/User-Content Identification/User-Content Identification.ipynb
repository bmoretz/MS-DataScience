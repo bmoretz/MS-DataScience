{
  "nbformat": 4,
  "nbformat_minor": 0,
  "metadata": {
    "colab": {
      "name": "Assignment_07.ipynb",
      "version": "0.3.2",
      "provenance": [],
      "collapsed_sections": [],
      "toc_visible": true,
      "include_colab_link": true
    },
    "kernelspec": {
      "display_name": "Python 3",
      "language": "python",
      "name": "python3"
    }
  },
  "cells": [
    {
      "cell_type": "markdown",
      "metadata": {
        "id": "view-in-github",
        "colab_type": "text"
      },
      "source": [
        "<a href=\"https://colab.research.google.com/github/bmoretz/MSDS-MachineLearning/blob/master/Assignment_07/Assignment_07.ipynb\" target=\"_parent\"><img src=\"https://colab.research.google.com/assets/colab-badge.svg\" alt=\"Open In Colab\"/></a>"
      ]
    },
    {
      "metadata": {
        "id": "sBnJGP7kvo9r",
        "colab_type": "text"
      },
      "cell_type": "markdown",
      "source": [
        "# Workspace Initialization"
      ]
    },
    {
      "metadata": {
        "id": "7RN7Fkvg5K5d",
        "colab_type": "text"
      },
      "cell_type": "markdown",
      "source": [
        "## Libraries & Standard Setup"
      ]
    },
    {
      "metadata": {
        "id": "sSLjb0O04sAU",
        "colab_type": "code",
        "outputId": "e1616b4c-4b6e-45e7-bed8-84baf616161b",
        "colab": {
          "base_uri": "https://localhost:8080/",
          "height": 1108
        }
      },
      "cell_type": "code",
      "source": [
        "!pip install jupyterthemes"
      ],
      "execution_count": 1,
      "outputs": [
        {
          "output_type": "stream",
          "text": [
            "Collecting jupyterthemes\n",
            "\u001b[?25l  Downloading https://files.pythonhosted.org/packages/4f/01/44ae9402942d64f70acd10868a92e82eeda5dcaffc10e28af87191633401/jupyterthemes-0.19.6-py2.py3-none-any.whl (7.0MB)\n",
            "\u001b[K    100% |████████████████████████████████| 7.0MB 3.8MB/s \n",
            "\u001b[?25hCollecting lesscpy>=0.11.2 (from jupyterthemes)\n",
            "\u001b[?25l  Downloading https://files.pythonhosted.org/packages/10/d0/fdd9874972e07ae8727a3d26b433891d8605b96999ea99bbf506e756a7b1/lesscpy-0.13.0-py2.py3-none-any.whl (48kB)\n",
            "\u001b[K    100% |████████████████████████████████| 51kB 20.1MB/s \n",
            "\u001b[?25hRequirement already satisfied: jupyter-core in /usr/local/lib/python3.6/dist-packages (from jupyterthemes) (4.4.0)\n",
            "Requirement already satisfied: ipython>=5.4.1 in /usr/local/lib/python3.6/dist-packages (from jupyterthemes) (5.5.0)\n",
            "Requirement already satisfied: matplotlib>=1.4.3 in /usr/local/lib/python3.6/dist-packages (from jupyterthemes) (2.1.2)\n",
            "Collecting notebook>=5.6.0 (from jupyterthemes)\n",
            "\u001b[?25l  Downloading https://files.pythonhosted.org/packages/a2/5d/d1907cd32ac00b5ead56f6e61d9794fa60ef105a22ac5da6e7556011580f/notebook-5.7.2-py2.py3-none-any.whl (9.0MB)\n",
            "\u001b[K    100% |████████████████████████████████| 9.0MB 3.7MB/s \n",
            "\u001b[?25hRequirement already satisfied: six in /usr/local/lib/python3.6/dist-packages (from lesscpy>=0.11.2->jupyterthemes) (1.11.0)\n",
            "Collecting ply (from lesscpy>=0.11.2->jupyterthemes)\n",
            "\u001b[?25l  Downloading https://files.pythonhosted.org/packages/a3/58/35da89ee790598a0700ea49b2a66594140f44dec458c07e8e3d4979137fc/ply-3.11-py2.py3-none-any.whl (49kB)\n",
            "\u001b[K    100% |████████████████████████████████| 51kB 17.2MB/s \n",
            "\u001b[?25hRequirement already satisfied: traitlets in /usr/local/lib/python3.6/dist-packages (from jupyter-core->jupyterthemes) (4.3.2)\n",
            "Requirement already satisfied: pexpect; sys_platform != \"win32\" in /usr/local/lib/python3.6/dist-packages (from ipython>=5.4.1->jupyterthemes) (4.6.0)\n",
            "Requirement already satisfied: pickleshare in /usr/local/lib/python3.6/dist-packages (from ipython>=5.4.1->jupyterthemes) (0.7.5)\n",
            "Requirement already satisfied: pygments in /usr/local/lib/python3.6/dist-packages (from ipython>=5.4.1->jupyterthemes) (2.1.3)\n",
            "Requirement already satisfied: setuptools>=18.5 in /usr/local/lib/python3.6/dist-packages (from ipython>=5.4.1->jupyterthemes) (40.6.2)\n",
            "Requirement already satisfied: decorator in /usr/local/lib/python3.6/dist-packages (from ipython>=5.4.1->jupyterthemes) (4.3.0)\n",
            "Requirement already satisfied: simplegeneric>0.8 in /usr/local/lib/python3.6/dist-packages (from ipython>=5.4.1->jupyterthemes) (0.8.1)\n",
            "Requirement already satisfied: prompt-toolkit<2.0.0,>=1.0.4 in /usr/local/lib/python3.6/dist-packages (from ipython>=5.4.1->jupyterthemes) (1.0.15)\n",
            "Requirement already satisfied: python-dateutil>=2.1 in /usr/local/lib/python3.6/dist-packages (from matplotlib>=1.4.3->jupyterthemes) (2.5.3)\n",
            "Requirement already satisfied: cycler>=0.10 in /usr/local/lib/python3.6/dist-packages (from matplotlib>=1.4.3->jupyterthemes) (0.10.0)\n",
            "Requirement already satisfied: pytz in /usr/local/lib/python3.6/dist-packages (from matplotlib>=1.4.3->jupyterthemes) (2018.7)\n",
            "Requirement already satisfied: numpy>=1.7.1 in /usr/local/lib/python3.6/dist-packages (from matplotlib>=1.4.3->jupyterthemes) (1.14.6)\n",
            "Requirement already satisfied: pyparsing!=2.0.4,!=2.1.2,!=2.1.6,>=2.0.1 in /usr/local/lib/python3.6/dist-packages (from matplotlib>=1.4.3->jupyterthemes) (2.3.0)\n",
            "Requirement already satisfied: jinja2 in /usr/local/lib/python3.6/dist-packages (from notebook>=5.6.0->jupyterthemes) (2.10)\n",
            "Collecting prometheus-client (from notebook>=5.6.0->jupyterthemes)\n",
            "  Downloading https://files.pythonhosted.org/packages/61/84/9aa657b215b04f21a72ca8e50ff159eef9795096683e4581a357baf4dde6/prometheus_client-0.4.2.tar.gz\n",
            "Requirement already satisfied: tornado>=4 in /usr/local/lib/python3.6/dist-packages (from notebook>=5.6.0->jupyterthemes) (4.5.3)\n",
            "Requirement already satisfied: pyzmq>=17 in /usr/local/lib/python3.6/dist-packages (from notebook>=5.6.0->jupyterthemes) (17.0.0)\n",
            "Collecting Send2Trash (from notebook>=5.6.0->jupyterthemes)\n",
            "  Downloading https://files.pythonhosted.org/packages/49/46/c3dc27481d1cc57b9385aff41c474ceb7714f7935b1247194adae45db714/Send2Trash-1.5.0-py3-none-any.whl\n",
            "Requirement already satisfied: jupyter-client>=5.2.0 in /usr/local/lib/python3.6/dist-packages (from notebook>=5.6.0->jupyterthemes) (5.2.3)\n",
            "Requirement already satisfied: ipython-genutils in /usr/local/lib/python3.6/dist-packages (from notebook>=5.6.0->jupyterthemes) (0.2.0)\n",
            "Requirement already satisfied: terminado>=0.8.1 in /usr/local/lib/python3.6/dist-packages (from notebook>=5.6.0->jupyterthemes) (0.8.1)\n",
            "Requirement already satisfied: nbconvert in /usr/local/lib/python3.6/dist-packages (from notebook>=5.6.0->jupyterthemes) (5.4.0)\n",
            "Requirement already satisfied: ipykernel in /usr/local/lib/python3.6/dist-packages (from notebook>=5.6.0->jupyterthemes) (4.6.1)\n",
            "Requirement already satisfied: nbformat in /usr/local/lib/python3.6/dist-packages (from notebook>=5.6.0->jupyterthemes) (4.4.0)\n",
            "Requirement already satisfied: ptyprocess>=0.5 in /usr/local/lib/python3.6/dist-packages (from pexpect; sys_platform != \"win32\"->ipython>=5.4.1->jupyterthemes) (0.6.0)\n",
            "Requirement already satisfied: wcwidth in /usr/local/lib/python3.6/dist-packages (from prompt-toolkit<2.0.0,>=1.0.4->ipython>=5.4.1->jupyterthemes) (0.1.7)\n",
            "Requirement already satisfied: MarkupSafe>=0.23 in /usr/local/lib/python3.6/dist-packages (from jinja2->notebook>=5.6.0->jupyterthemes) (1.1.0)\n",
            "Requirement already satisfied: testpath in /usr/local/lib/python3.6/dist-packages (from nbconvert->notebook>=5.6.0->jupyterthemes) (0.4.2)\n",
            "Requirement already satisfied: pandocfilters>=1.4.1 in /usr/local/lib/python3.6/dist-packages (from nbconvert->notebook>=5.6.0->jupyterthemes) (1.4.2)\n",
            "Requirement already satisfied: defusedxml in /usr/local/lib/python3.6/dist-packages (from nbconvert->notebook>=5.6.0->jupyterthemes) (0.5.0)\n",
            "Requirement already satisfied: entrypoints>=0.2.2 in /usr/local/lib/python3.6/dist-packages (from nbconvert->notebook>=5.6.0->jupyterthemes) (0.2.3)\n",
            "Requirement already satisfied: bleach in /usr/local/lib/python3.6/dist-packages (from nbconvert->notebook>=5.6.0->jupyterthemes) (3.0.2)\n",
            "Requirement already satisfied: mistune>=0.8.1 in /usr/local/lib/python3.6/dist-packages (from nbconvert->notebook>=5.6.0->jupyterthemes) (0.8.4)\n",
            "Requirement already satisfied: jsonschema!=2.5.0,>=2.4 in /usr/local/lib/python3.6/dist-packages (from nbformat->notebook>=5.6.0->jupyterthemes) (2.6.0)\n",
            "Requirement already satisfied: webencodings in /usr/local/lib/python3.6/dist-packages (from bleach->nbconvert->notebook>=5.6.0->jupyterthemes) (0.5.1)\n",
            "Building wheels for collected packages: prometheus-client\n",
            "  Running setup.py bdist_wheel for prometheus-client ... \u001b[?25l-\b \b\\\b \bdone\n",
            "\u001b[?25h  Stored in directory: /root/.cache/pip/wheels/b9/96/bc/e2acadc6bbfe57a1f631a34ca4ce6dd057af059b8d6878202b\n",
            "Successfully built prometheus-client\n",
            "\u001b[31mgoogle-colab 0.0.1a1 has requirement notebook~=5.2.0, but you'll have notebook 5.7.2 which is incompatible.\u001b[0m\n",
            "Installing collected packages: ply, lesscpy, prometheus-client, Send2Trash, notebook, jupyterthemes\n",
            "  Found existing installation: notebook 5.2.2\n",
            "    Uninstalling notebook-5.2.2:\n",
            "      Successfully uninstalled notebook-5.2.2\n",
            "Successfully installed Send2Trash-1.5.0 jupyterthemes-0.19.6 lesscpy-0.13.0 notebook-5.7.2 ply-3.11 prometheus-client-0.4.2\n"
          ],
          "name": "stdout"
        }
      ]
    },
    {
      "metadata": {
        "id": "4-e938y6g5aD",
        "colab_type": "code",
        "colab": {}
      },
      "cell_type": "code",
      "source": [
        "!pip install -U -q PyDrive"
      ],
      "execution_count": 0,
      "outputs": []
    },
    {
      "metadata": {
        "id": "qd7U8ykV0Yz0",
        "colab_type": "code",
        "colab": {}
      },
      "cell_type": "code",
      "source": [
        "%matplotlib inline\n",
        "\n",
        "import os\n",
        "import io\n",
        "\n",
        "# Core\n",
        "import pandas as pd\n",
        "import numpy as np\n",
        "\n",
        "# Visuals\n",
        "import matplotlib\n",
        "import matplotlib.pyplot as plt\n",
        "from matplotlib.pyplot import imshow\n",
        "import seaborn as sns\n",
        "\n",
        "plt.rcParams['axes.labelsize'] = 14\n",
        "plt.rcParams['xtick.labelsize'] = 12\n",
        "plt.rcParams['ytick.labelsize'] = 12\n",
        "\n",
        "# jt themes\n",
        "from jupyterthemes import jtplot\n",
        "\n",
        "# Display Images\n",
        "from PIL import Image, ImageFilter\n",
        "\n",
        "# IPython display\n",
        "from IPython.display import display\n",
        "\n",
        "# Loading Zip Files\n",
        "import zipfile\n",
        "\n",
        "# Working with images\n",
        "import cv2\n",
        "\n",
        "# Progress Bar (for long processes)\n",
        "from tqdm import tqdm"
      ],
      "execution_count": 0,
      "outputs": []
    },
    {
      "metadata": {
        "id": "qULKb8UEuv_q",
        "colab_type": "code",
        "colab": {}
      },
      "cell_type": "code",
      "source": [
        "import tensorflow as tf\n",
        "import time"
      ],
      "execution_count": 0,
      "outputs": []
    },
    {
      "metadata": {
        "id": "y8QGgWAR5AJM",
        "colab_type": "code",
        "outputId": "0bff16f3-4154-4980-f6d2-36ea392c31c8",
        "colab": {
          "base_uri": "https://localhost:8080/",
          "height": 257
        }
      },
      "cell_type": "code",
      "source": [
        "# Test Theme\n",
        "!jt -t grade3 -f fira -fs 115\n",
        "jtplot.style(theme='oceans16')\n",
        "\n",
        "# set \"context\" (paper, notebook, talk, poster)\n",
        "# scale font-size of ticklabels, legend, etc.\n",
        "# remove spines from x and y axes and make grid dashed\n",
        "jtplot.style(context='talk', fscale=1.4, spines=False, gridlines='--')\n",
        "\n",
        "# turn on X- and Y-axis tick marks (default=False)\n",
        "# turn off the axis grid lines (default=True)\n",
        "# and set the default figure size\n",
        "jtplot.style(ticks=True, grid=False, figsize=(6, 4.5))\n",
        "\n",
        "N = 50\n",
        "x = np.random.rand(N)\n",
        "y = np.random.rand(N)\n",
        "colors = np.random.rand(N)\n",
        "area = (30 * np.random.rand(N))**2\n",
        "\n",
        "plt.scatter(x, y, s=area, c=colors, alpha=0.5)\n",
        "plt.show()"
      ],
      "execution_count": 5,
      "outputs": [
        {
          "output_type": "display_data",
          "data": {
            "image/png": "[encoded data removed]",
            "text/plain": [
              "<matplotlib.figure.Figure at 0x7fd7ed3fc5f8>"
            ]
          },
          "metadata": {
            "tags": []
          }
        }
      ]
    },
    {
      "metadata": {
        "id": "K-dr1bJG7nEX",
        "colab_type": "text"
      },
      "cell_type": "markdown",
      "source": [
        "Looks good. Let's roll."
      ]
    },
    {
      "metadata": {
        "id": "5dMHt_ay2-2X",
        "colab_type": "text"
      },
      "cell_type": "markdown",
      "source": [
        "## Globals"
      ]
    },
    {
      "metadata": {
        "id": "DE6d4wBwToYm",
        "colab_type": "code",
        "colab": {}
      },
      "cell_type": "code",
      "source": [
        "RANDOM_SEED = 42\n",
        "\n",
        "IMG_WIDTH = 75\n",
        "IMG_HEIGHT = 75\n",
        "IMG_CHANNELS = 1\n",
        "\n",
        "IMG_SHAPE = [IMG_WIDTH, IMG_HEIGHT]\n",
        "IMG_LENGTH = IMG_WIDTH * IMG_HEIGHT"
      ],
      "execution_count": 0,
      "outputs": []
    },
    {
      "metadata": {
        "id": "p94aNZpc-c46",
        "colab_type": "text"
      },
      "cell_type": "markdown",
      "source": [
        "Function to make output stable across runs."
      ]
    },
    {
      "metadata": {
        "id": "kLJPGcAB-Zkp",
        "colab_type": "code",
        "colab": {}
      },
      "cell_type": "code",
      "source": [
        "def reset_graph(seed= RANDOM_SEED):\n",
        "    tf.reset_default_graph()\n",
        "    tf.set_random_seed(seed)\n",
        "    np.random.seed(seed)"
      ],
      "execution_count": 0,
      "outputs": []
    },
    {
      "metadata": {
        "id": "9QgN3nvPvzkD",
        "colab_type": "text"
      },
      "cell_type": "markdown",
      "source": [
        "# Project Dataset"
      ]
    },
    {
      "metadata": {
        "id": "v2lhUWKH2fzP",
        "colab_type": "text"
      },
      "cell_type": "markdown",
      "source": [
        "## Cats Vs. Dogs Training Data"
      ]
    },
    {
      "metadata": {
        "id": "xd1fKDr9JZPy",
        "colab_type": "text"
      },
      "cell_type": "markdown",
      "source": [
        "Load the cats vs. dogs dataset from mounted drive."
      ]
    },
    {
      "metadata": {
        "id": "GDCBmh7UPVI0",
        "colab_type": "code",
        "colab": {}
      },
      "cell_type": "code",
      "source": [
        "from google.colab import drive\n",
        "drive.mount('/content/drive')"
      ],
      "execution_count": 0,
      "outputs": []
    },
    {
      "metadata": {
        "id": "chHJ-U3rt2kn",
        "colab_type": "code",
        "colab": {}
      },
      "cell_type": "code",
      "source": [
        "def label_img(img_name):\n",
        "  if 'cat' in img_name: return [1, 0]\n",
        "  elif 'dog' in img_name: return [0, 1]"
      ],
      "execution_count": 0,
      "outputs": []
    },
    {
      "metadata": {
        "id": "sfiJM2gzRmoA",
        "colab_type": "code",
        "colab": {}
      },
      "cell_type": "code",
      "source": [
        "training_data = []\n",
        "\n",
        "with zipfile.ZipFile('/content/drive/My Drive/datasets/cats_vs_dogs/train.zip', 'r') as z:\n",
        "  for fn in tqdm(z.namelist()):\n",
        "    if not os.path.isdir(fn) and fn.endswith(\"jpg\"):\n",
        "      label = label_img(fn)\n",
        "\n",
        "      img_str = z.read(fn)\n",
        "\n",
        "      nparr = np.frombuffer(img_str, np.uint8)\n",
        "\n",
        "      img_np = cv2.imdecode(nparr, cv2.IMREAD_GRAYSCALE)\n",
        "      img = cv2.resize(img_np, (IMG_WIDTH, IMG_HEIGHT))\n",
        "\n",
        "      training_data.append([ np.array(img), np.array(label)])"
      ],
      "execution_count": 0,
      "outputs": []
    },
    {
      "metadata": {
        "id": "PWKHnRIm1xvB",
        "colab_type": "text"
      },
      "cell_type": "markdown",
      "source": [
        "## Data Set Exploration"
      ]
    },
    {
      "metadata": {
        "id": "SHQ9t9dyuzxM",
        "colab_type": "code",
        "colab": {}
      },
      "cell_type": "code",
      "source": [
        "training_data[0]"
      ],
      "execution_count": 0,
      "outputs": []
    },
    {
      "metadata": {
        "id": "ecjIzOF5dnu6",
        "colab_type": "text"
      },
      "cell_type": "markdown",
      "source": [
        "### Graphical Utility"
      ]
    },
    {
      "metadata": {
        "id": "21yam3EL-wxF",
        "colab_type": "text"
      },
      "cell_type": "markdown",
      "source": [
        "Peek an image and it's label from the training data."
      ]
    },
    {
      "metadata": {
        "id": "7W7NET8I3oQR",
        "colab_type": "code",
        "colab": {}
      },
      "cell_type": "code",
      "source": [
        "def peek_img( index, data = training_data):\n",
        "  img_type = 'Unknown'\n",
        "  \n",
        "  if np.array_equal(data[index][1], [1, 0]): img_type = 'Cat'\n",
        "  elif np.array_equal(data[index][1], [0, 1]): img_type = 'Dog'\n",
        "  \n",
        "  imshow(data[index][0], cmap = 'gray', interpolation = 'bicubic')\n",
        "  plt.title(img_type)\n",
        "  plt.show()"
      ],
      "execution_count": 0,
      "outputs": []
    },
    {
      "metadata": {
        "id": "W-3LgFeF-1oh",
        "colab_type": "text"
      },
      "cell_type": "markdown",
      "source": [
        "Show an image in grey scale format."
      ]
    },
    {
      "metadata": {
        "id": "o2MV3MnYrTZ4",
        "colab_type": "text"
      },
      "cell_type": "markdown",
      "source": [
        "### Raw Image Data"
      ]
    },
    {
      "metadata": {
        "id": "A-Grmx6x2XOL",
        "colab_type": "text"
      },
      "cell_type": "markdown",
      "source": [
        "Let's explore some of the training data. We'll start with the first image in the set in its raw form."
      ]
    },
    {
      "metadata": {
        "id": "hEFsQ0MHUQtq",
        "colab_type": "code",
        "colab": {}
      },
      "cell_type": "code",
      "source": [
        "training_data[0][0]"
      ],
      "execution_count": 0,
      "outputs": []
    },
    {
      "metadata": {
        "id": "CHD4e8mUrZ1h",
        "colab_type": "text"
      },
      "cell_type": "markdown",
      "source": [
        "### Graphical Version"
      ]
    },
    {
      "metadata": {
        "id": "xPSbjkrEpHRy",
        "colab_type": "text"
      },
      "cell_type": "markdown",
      "source": [
        "Now, let's view the actual image."
      ]
    },
    {
      "metadata": {
        "id": "WKcFrjHALNaA",
        "colab_type": "code",
        "colab": {}
      },
      "cell_type": "code",
      "source": [
        "peek_img(0)"
      ],
      "execution_count": 0,
      "outputs": []
    },
    {
      "metadata": {
        "id": "GMUqgfEWreWA",
        "colab_type": "text"
      },
      "cell_type": "markdown",
      "source": [
        "### Label verification"
      ]
    },
    {
      "metadata": {
        "id": "QSOJDxqa-EOc",
        "colab_type": "text"
      },
      "cell_type": "markdown",
      "source": [
        "Now let's find a dog and make sure it's labeled correctly. Let's find the first 'dog' label."
      ]
    },
    {
      "metadata": {
        "id": "_B1Gy1DvzqqF",
        "colab_type": "code",
        "colab": {}
      },
      "cell_type": "code",
      "source": [
        "dog_index = -1\n",
        "\n",
        "for i, x in enumerate(training_data):\n",
        "  if np.array_equal(x[1], [0, 1]):\n",
        "    dog_index = i\n",
        "    break\n",
        "\n",
        "dog_index"
      ],
      "execution_count": 0,
      "outputs": []
    },
    {
      "metadata": {
        "id": "um4bdJiN4VoU",
        "colab_type": "code",
        "colab": {}
      },
      "cell_type": "code",
      "source": [
        "peek_img(dog_index)"
      ],
      "execution_count": 0,
      "outputs": []
    },
    {
      "metadata": {
        "id": "lpZcMzQmWg8R",
        "colab_type": "text"
      },
      "cell_type": "markdown",
      "source": [
        "Let's get some random images from the set and display their image & training label."
      ]
    },
    {
      "metadata": {
        "id": "kr4y7ewJFJZ-",
        "colab_type": "code",
        "colab": {}
      },
      "cell_type": "code",
      "source": [
        "def plot_images(images, cls_true, indexes = None, cls_pred=None):\n",
        "    assert len(images) == len(cls_true) == 9\n",
        "    \n",
        "    # Create figure with 3x3 sub-plots.\n",
        "    fig, axes = plt.subplots(3, 3)\n",
        "    fig.subplots_adjust(hspace=0.5, wspace=1.3)\n",
        "\n",
        "    for i, ax in enumerate(axes.flat):\n",
        "        # Plot image.\n",
        "        ax.imshow(images[i].reshape(IMG_SHAPE), cmap='binary')\n",
        "\n",
        "        # Show true and predicted classes.\n",
        "        if cls_pred is None:\n",
        "            xlabel = \"True: {0}\".format(cls_true[i])\n",
        "        else:\n",
        "            xlabel = \"True: {0}, Pred: {1}\".format(cls_true[i], cls_pred[i])\n",
        "\n",
        "        # Show the classes as the label on the x-axis, and the image index on the y-axis.\n",
        "        ax.set_xlabel(xlabel)\n",
        "        \n",
        "        if indexes != None:\n",
        "          ax.set_ylabel(indexes[i])\n",
        "        \n",
        "        # Remove ticks from the plot.\n",
        "        ax.set_xticks([])\n",
        "        ax.set_yticks([])\n",
        "    \n",
        "    # Ensure the plot is shown correctly with multiple plots\n",
        "    # in a single Notebook cell.\n",
        "    plt.show()"
      ],
      "execution_count": 0,
      "outputs": []
    },
    {
      "metadata": {
        "id": "Y4aXC6RWuVXU",
        "colab_type": "code",
        "colab": {}
      },
      "cell_type": "code",
      "source": [
        "def plot_indexes(indexes):\n",
        "  subset = [training_data[i] for i in indexes]\n",
        "\n",
        "  images = []\n",
        "  labels = []\n",
        "\n",
        "  for i in subset:\n",
        "    x, y = i\n",
        "\n",
        "    images.append(x)\n",
        "\n",
        "    if np.array_equal(y, [1, 0]): labels.append('Cat')\n",
        "    elif np.array_equal(y, [0, 1]): labels.append('Dog')\n",
        "\n",
        "  plot_images(images, labels, indexes)"
      ],
      "execution_count": 0,
      "outputs": []
    },
    {
      "metadata": {
        "id": "P4A0dMCCXGsR",
        "colab_type": "text"
      },
      "cell_type": "markdown",
      "source": [
        "Get some random indices."
      ]
    },
    {
      "metadata": {
        "id": "41R1AE-7FMgg",
        "colab_type": "code",
        "colab": {}
      },
      "cell_type": "code",
      "source": [
        "import random\n",
        "\n",
        "indexes = []\n",
        "\n",
        "for x in range(9):\n",
        "  indexes.append(random.randint(0, len(training_data)))"
      ],
      "execution_count": 0,
      "outputs": []
    },
    {
      "metadata": {
        "id": "IgqRaLPhXJqN",
        "colab_type": "text"
      },
      "cell_type": "markdown",
      "source": [
        "Show some random images from the training data."
      ]
    },
    {
      "metadata": {
        "id": "tA08x-_FXJGk",
        "colab_type": "code",
        "colab": {}
      },
      "cell_type": "code",
      "source": [
        "plot_indexes(indexes)"
      ],
      "execution_count": 0,
      "outputs": []
    },
    {
      "metadata": {
        "id": "wpRhp_Iquniv",
        "colab_type": "text"
      },
      "cell_type": "markdown",
      "source": [
        "Shuffel the training data."
      ]
    },
    {
      "metadata": {
        "id": "J4192Ij4s5F5",
        "colab_type": "code",
        "colab": {}
      },
      "cell_type": "code",
      "source": [
        "from random import shuffle \n",
        "\n",
        "shuffle(training_data)"
      ],
      "execution_count": 0,
      "outputs": []
    },
    {
      "metadata": {
        "id": "LfAG1Ky1urDC",
        "colab_type": "text"
      },
      "cell_type": "markdown",
      "source": [
        "Replot the same indexes to ensure shuffeling occured."
      ]
    },
    {
      "metadata": {
        "id": "5_-PLFUsueFU",
        "colab_type": "code",
        "colab": {}
      },
      "cell_type": "code",
      "source": [
        "plot_indexes(indexes)"
      ],
      "execution_count": 0,
      "outputs": []
    },
    {
      "metadata": {
        "id": "t-Avb__9vBbu",
        "colab_type": "text"
      },
      "cell_type": "markdown",
      "source": [
        "## Split Train & Test"
      ]
    },
    {
      "metadata": {
        "id": "D7BmQrnd15nT",
        "colab_type": "code",
        "colab": {}
      },
      "cell_type": "code",
      "source": [
        "train_size = int(len(training_data) * .8)\n",
        "train_size"
      ],
      "execution_count": 0,
      "outputs": []
    },
    {
      "metadata": {
        "id": "XEQfakF0vGFK",
        "colab_type": "code",
        "colab": {}
      },
      "cell_type": "code",
      "source": [
        "train = training_data[-train_size:]\n",
        "display('Train Size: {}'.format(len(train)))\n",
        "\n",
        "test = training_data[:-train_size]\n",
        "display('Test Size: {}'.format(len(test)))"
      ],
      "execution_count": 0,
      "outputs": []
    },
    {
      "metadata": {
        "id": "Jnd2r7KVvcUH",
        "colab_type": "text"
      },
      "cell_type": "markdown",
      "source": [
        "Training data."
      ]
    },
    {
      "metadata": {
        "id": "BqsMyxtevPRG",
        "colab_type": "code",
        "colab": {}
      },
      "cell_type": "code",
      "source": [
        "X_train = np.array([i[0] for i in train]).reshape(-1,IMG_WIDTH, IMG_HEIGHT,1)\n",
        "y_train = np.array([i[1] for i in train])"
      ],
      "execution_count": 0,
      "outputs": []
    },
    {
      "metadata": {
        "id": "o65eZy6yvgcg",
        "colab_type": "text"
      },
      "cell_type": "markdown",
      "source": [
        "Testing data."
      ]
    },
    {
      "metadata": {
        "id": "irrZrRQ1veB8",
        "colab_type": "code",
        "colab": {}
      },
      "cell_type": "code",
      "source": [
        "X_test = np.array([i[0] for i in test]).reshape(-1,IMG_WIDTH, IMG_HEIGHT,1)\n",
        "y_test = np.array([i[1] for i in test])"
      ],
      "execution_count": 0,
      "outputs": []
    },
    {
      "metadata": {
        "id": "gQTXm1Us-NXT",
        "colab_type": "text"
      },
      "cell_type": "markdown",
      "source": [
        "# Deep Classification Model"
      ]
    },
    {
      "metadata": {
        "id": "-zSklUhCTvA6",
        "colab_type": "text"
      },
      "cell_type": "markdown",
      "source": [
        "Reset model to default state."
      ]
    },
    {
      "metadata": {
        "id": "TbK7yXNuTrM0",
        "colab_type": "code",
        "colab": {}
      },
      "cell_type": "code",
      "source": [
        "reset_graph()"
      ],
      "execution_count": 0,
      "outputs": []
    },
    {
      "metadata": {
        "id": "13U3onaqruYs",
        "colab_type": "text"
      },
      "cell_type": "markdown",
      "source": [
        "## Model Variables"
      ]
    },
    {
      "metadata": {
        "id": "x6mGIej4vUlN",
        "colab_type": "text"
      },
      "cell_type": "markdown",
      "source": [
        "Model Learning Rate"
      ]
    },
    {
      "metadata": {
        "id": "fC1O9cNgvTwo",
        "colab_type": "code",
        "colab": {}
      },
      "cell_type": "code",
      "source": [
        "LR = 1e-3"
      ],
      "execution_count": 0,
      "outputs": []
    },
    {
      "metadata": {
        "id": "lvJgXGSGw4w9",
        "colab_type": "text"
      },
      "cell_type": "markdown",
      "source": [
        "Model Name"
      ]
    },
    {
      "metadata": {
        "id": "i4UbCrXkw1YC",
        "colab_type": "code",
        "colab": {}
      },
      "cell_type": "code",
      "source": [
        "MODEL_NAME = 'dogsvscats-{}-{}.model'.format(LR, '2conv-basic')"
      ],
      "execution_count": 0,
      "outputs": []
    },
    {
      "metadata": {
        "id": "MBUMvQcnvm-o",
        "colab_type": "text"
      },
      "cell_type": "markdown",
      "source": [
        "## TensorFlow"
      ]
    },
    {
      "metadata": {
        "id": "cTVyX58QuuCA",
        "colab_type": "code",
        "colab": {}
      },
      "cell_type": "code",
      "source": [
        "!pip install tflearn"
      ],
      "execution_count": 0,
      "outputs": []
    },
    {
      "metadata": {
        "id": "8AEV640LQiEY",
        "colab_type": "code",
        "colab": {}
      },
      "cell_type": "code",
      "source": [
        "import tflearn\n",
        "from tflearn.layers.conv import conv_2d, max_pool_2d\n",
        "from tflearn.layers.core import input_data, dropout, fully_connected\n",
        "from tflearn.layers.estimator import regression"
      ],
      "execution_count": 0,
      "outputs": []
    },
    {
      "metadata": {
        "id": "pMn72U0zv2uI",
        "colab_type": "text"
      },
      "cell_type": "markdown",
      "source": [
        "## Model Versions"
      ]
    },
    {
      "metadata": {
        "id": "c1YjFKFeIGwz",
        "colab_type": "code",
        "colab": {}
      },
      "cell_type": "code",
      "source": [
        "def get_model_baseline():\n",
        "  convnet = input_data(shape=[None, IMG_WIDTH, IMG_HEIGHT, 1], name='input')\n",
        "\n",
        "  convnet = conv_2d(convnet, 32, 5, activation='relu')\n",
        "  convnet = max_pool_2d(convnet, 5)\n",
        "\n",
        "  convnet = conv_2d(convnet, 64, 5, activation='relu')\n",
        "  convnet = max_pool_2d(convnet, 5)\n",
        "\n",
        "  convnet = fully_connected(convnet, 1024, activation='relu')\n",
        "  convnet = dropout(convnet, 0.8)\n",
        "\n",
        "  convnet = fully_connected(convnet, 2, activation='softmax')\n",
        "  convnet = regression(convnet, optimizer='adam', learning_rate=LR, loss='categorical_crossentropy', name='targets')\n",
        "\n",
        "  return tflearn.DNN(convnet, tensorboard_dir='log')"
      ],
      "execution_count": 0,
      "outputs": []
    },
    {
      "metadata": {
        "id": "YqEDOEdSuxVF",
        "colab_type": "code",
        "colab": {}
      },
      "cell_type": "code",
      "source": [
        "def get_model_v2():\n",
        "  convnet = input_data(shape=[None, IMG_WIDTH, IMG_HEIGHT, 1], name='input')\n",
        "\n",
        "  convnet = conv_2d(convnet, 32, 5, activation='relu')\n",
        "  convnet = max_pool_2d(convnet, 5)\n",
        "\n",
        "  convnet = conv_2d(convnet, 64, 5, activation='relu')\n",
        "  convnet = max_pool_2d(convnet, 5)\n",
        "\n",
        "  convnet = conv_2d(convnet, 128, 5, activation='relu')\n",
        "  convnet = max_pool_2d(convnet, 5)\n",
        "\n",
        "  convnet = conv_2d(convnet, 64, 5, activation='relu')\n",
        "  convnet = max_pool_2d(convnet, 5)\n",
        "\n",
        "  convnet = conv_2d(convnet, 32, 5, activation='relu')\n",
        "  convnet = max_pool_2d(convnet, 5)\n",
        "\n",
        "  convnet = fully_connected(convnet, 1024, activation='relu')\n",
        "  convnet = dropout(convnet, 0.8)\n",
        "\n",
        "  convnet = fully_connected(convnet, 2, activation='softmax')\n",
        "  convnet = regression(convnet, optimizer='adam', learning_rate=LR, loss='categorical_crossentropy', name='targets')\n",
        "\n",
        "  return tflearn.DNN(convnet, tensorboard_dir='log')"
      ],
      "execution_count": 0,
      "outputs": []
    },
    {
      "metadata": {
        "id": "7cz4Jvx5waCZ",
        "colab_type": "text"
      },
      "cell_type": "markdown",
      "source": [
        "### Model Fit"
      ]
    },
    {
      "metadata": {
        "id": "xYJrhzT52zC5",
        "colab_type": "code",
        "colab": {}
      },
      "cell_type": "code",
      "source": [
        "display('Train Size: {}'.format(len(X_train)))"
      ],
      "execution_count": 0,
      "outputs": []
    },
    {
      "metadata": {
        "id": "3HXVTfvyIYYG",
        "colab_type": "code",
        "colab": {}
      },
      "cell_type": "code",
      "source": [
        "model_baseline = get_model_baseline()\n",
        "\n",
        "start_time = time.clock()\n",
        "\n",
        "model_baseline.fit({'input': X_train}, {'targets': y_train}, n_epoch=3, validation_set=({'input': X_test}, {'targets': y_test}), \n",
        "    snapshot_step=500, show_metric=True, run_id=MODEL_NAME)\n",
        "\n",
        "end_time = time.clock()\n",
        "\n",
        "runtime = end_time - start_time  # seconds of wall-clock time "
      ],
      "execution_count": 0,
      "outputs": []
    },
    {
      "metadata": {
        "id": "O0Bnwk4twb8M",
        "colab_type": "code",
        "colab": {}
      },
      "cell_type": "code",
      "source": [
        "model_v2 = get_model_v2()\n",
        "\n",
        "start_time = time.clock()\n",
        "\n",
        "model_v2.fit({'input': X_train}, {'targets': y_train}, n_epoch=3, validation_set=({'input': X_test}, {'targets': y_test}), \n",
        "    snapshot_step=500, show_metric=True, run_id=MODEL_NAME)\n",
        "\n",
        "end_time = time.clock()\n",
        "\n",
        "runtime = end_time - start_time  # seconds of wall-clock time "
      ],
      "execution_count": 0,
      "outputs": []
    },
    {
      "metadata": {
        "id": "whOY5CrYrLiA",
        "colab_type": "code",
        "colab": {}
      },
      "cell_type": "code",
      "source": [
        "display('Model Train Time: {} minutes'.format(round(runtime / 100, 2)))"
      ],
      "execution_count": 0,
      "outputs": []
    },
    {
      "metadata": {
        "id": "vlDYER8P0RRG",
        "colab_type": "text"
      },
      "cell_type": "markdown",
      "source": [
        "# Validation"
      ]
    },
    {
      "metadata": {
        "id": "piZ4ofeH0yRz",
        "colab_type": "text"
      },
      "cell_type": "markdown",
      "source": [
        "Load our testing data."
      ]
    },
    {
      "metadata": {
        "id": "--RqucbW0XUn",
        "colab_type": "code",
        "colab": {}
      },
      "cell_type": "code",
      "source": [
        "test_data = []\n",
        "\n",
        "with zipfile.ZipFile('/content/drive/My Drive/datasets/cats_vs_dogs/test1.zip', 'r') as z:\n",
        "  for fn in tqdm(z.namelist()):\n",
        "    if not os.path.isdir(fn) and fn.endswith(\"jpg\"):\n",
        "      label = label_img(fn)\n",
        "\n",
        "      img_str = z.read(fn)\n",
        "\n",
        "      nparr = np.frombuffer(img_str, np.uint8)\n",
        "\n",
        "      img_np = cv2.imdecode(nparr, cv2.IMREAD_GRAYSCALE)\n",
        "      img = cv2.resize(img_np, (IMG_WIDTH, IMG_HEIGHT))\n",
        "\n",
        "      test_data.append([ np.array(img), np.array(label)])"
      ],
      "execution_count": 0,
      "outputs": []
    },
    {
      "metadata": {
        "id": "zj0GmU1z1ISH",
        "colab_type": "text"
      },
      "cell_type": "markdown",
      "source": [
        "Run our model against some test data."
      ]
    },
    {
      "metadata": {
        "id": "uR6gM_GWI35g",
        "colab_type": "text"
      },
      "cell_type": "markdown",
      "source": [
        "## Visual Inspection"
      ]
    },
    {
      "metadata": {
        "id": "mmpxqUQ10SrC",
        "colab_type": "code",
        "colab": {}
      },
      "cell_type": "code",
      "source": [
        "import matplotlib.pyplot as plt\n",
        "\n",
        "def visual_inspect_model( model ):\n",
        "  fig=plt.figure(figsize=(5,5))\n",
        "  fig.subplots_adjust(hspace=0.5, wspace=1.3)\n",
        "\n",
        "  for num,data in enumerate(test_data[:12]):\n",
        "\n",
        "      img_num = data[1]\n",
        "      img_data = data[0]\n",
        "\n",
        "      y = fig.add_subplot(4,3,num+1)\n",
        "      orig = img_data\n",
        "      data = img_data.reshape(IMG_WIDTH,IMG_HEIGHT,1)\n",
        "\n",
        "      model_out = model.predict([data])[0]\n",
        "\n",
        "      if np.argmax(model_out) == 1: str_label='Dog'\n",
        "      else: str_label='Cat'\n",
        "\n",
        "      y.imshow(orig,cmap='gray')\n",
        "      plt.title(str_label)\n",
        "      y.axes.get_xaxis().set_visible(False)\n",
        "      y.axes.get_yaxis().set_visible(False)\n",
        "\n",
        "  plt.show()"
      ],
      "execution_count": 0,
      "outputs": []
    },
    {
      "metadata": {
        "id": "Zo689GP3I6LE",
        "colab_type": "code",
        "colab": {}
      },
      "cell_type": "code",
      "source": [
        "visual_inspect_model(model_baseline)"
      ],
      "execution_count": 0,
      "outputs": []
    },
    {
      "metadata": {
        "id": "jrSRBfHBI6Pu",
        "colab_type": "code",
        "colab": {}
      },
      "cell_type": "code",
      "source": [
        "visual_inspect_model(model_v2)"
      ],
      "execution_count": 0,
      "outputs": []
    },
    {
      "metadata": {
        "id": "un6KzneG4XBg",
        "colab_type": "text"
      },
      "cell_type": "markdown",
      "source": [
        "## Test Data Summary"
      ]
    },
    {
      "metadata": {
        "id": "BhmwQMFt0cWL",
        "colab_type": "code",
        "colab": {}
      },
      "cell_type": "code",
      "source": [
        "def validate_model(model):\n",
        "  total = len(X_test)\n",
        "  correct = 0\n",
        "\n",
        "  for num, data in enumerate(X_test):\n",
        "    y_pred = model.predict([data])[0]\n",
        "\n",
        "    if np.argmax(y_pred) == 1: img_pred='Dog'\n",
        "    else: img_pred='Cat'\n",
        "\n",
        "    if np.array_equal(y_test[num], [1, 0]): img_actual = 'Cat'\n",
        "    elif np.array_equal(y_test[num], [0, 1]): img_actual = 'Dog'\n",
        "\n",
        "    if img_actual == img_pred:\n",
        "      correct = correct + 1\n",
        "      \n",
        "    display('Total Test Images: {}, Correctly Predicted: {}, {:.2%}'.format(total, correct, correct / total))"
      ],
      "execution_count": 0,
      "outputs": []
    },
    {
      "metadata": {
        "id": "qzfypRGl2w9U",
        "colab_type": "code",
        "colab": {}
      },
      "cell_type": "code",
      "source": [
        "validate_model(baseline_model)"
      ],
      "execution_count": 0,
      "outputs": []
    },
    {
      "metadata": {
        "id": "J6MS2rhPIuPR",
        "colab_type": "code",
        "colab": {}
      },
      "cell_type": "code",
      "source": [
        "validate_model(model_v2)"
      ],
      "execution_count": 0,
      "outputs": []
    }
  ]
}