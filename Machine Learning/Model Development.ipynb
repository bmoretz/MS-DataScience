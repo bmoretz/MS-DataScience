{
  "nbformat": 4,
  "nbformat_minor": 0,
  "metadata": {
    "colab": {
      "name": "Assignment_05.ipynb",
      "version": "0.3.2",
      "provenance": [],
      "toc_visible": true,
      "include_colab_link": true
    },
    "kernelspec": {
      "display_name": "Python 3",
      "language": "python",
      "name": "python3"
    }
  },
  "cells": [
    {
      "cell_type": "markdown",
      "metadata": {
        "id": "view-in-github",
        "colab_type": "text"
      },
      "source": [
        "<a href=\"https://colab.research.google.com/github/bmoretz/MSDS-MachineLearning/blob/master/Assignment_05/Assignment_05.ipynb\" target=\"_parent\"><img src=\"https://colab.research.google.com/assets/colab-badge.svg\" alt=\"Open In Colab\"/></a>"
      ]
    },
    {
      "metadata": {
        "id": "7RN7Fkvg5K5d",
        "colab_type": "text"
      },
      "cell_type": "markdown",
      "source": [
        "# Libraries & Standard Setup"
      ]
    },
    {
      "metadata": {
        "id": "sSLjb0O04sAU",
        "colab_type": "code",
        "outputId": "5f102fce-7bc1-41ea-a55b-2099da8be149",
        "colab": {
          "base_uri": "https://localhost:8080/",
          "height": 748
        }
      },
      "cell_type": "code",
      "source": [
        "!pip install jupyterthemes"
      ],
      "execution_count": 266,
      "outputs": [
        {
          "output_type": "stream",
          "text": [
            "Requirement already satisfied: jupyterthemes in /usr/local/lib/python3.6/dist-packages (0.19.6)\n",
            "Requirement already satisfied: lesscpy>=0.11.2 in /usr/local/lib/python3.6/dist-packages (from jupyterthemes) (0.13.0)\n",
            "Requirement already satisfied: matplotlib>=1.4.3 in /usr/local/lib/python3.6/dist-packages (from jupyterthemes) (2.1.2)\n",
            "Requirement already satisfied: jupyter-core in /usr/local/lib/python3.6/dist-packages (from jupyterthemes) (4.4.0)\n",
            "Requirement already satisfied: notebook>=5.6.0 in /usr/local/lib/python3.6/dist-packages (from jupyterthemes) (5.7.0)\n",
            "Requirement already satisfied: ipython>=5.4.1 in /usr/local/lib/python3.6/dist-packages (from jupyterthemes) (5.5.0)\n",
            "Requirement already satisfied: six in /usr/local/lib/python3.6/dist-packages (from lesscpy>=0.11.2->jupyterthemes) (1.11.0)\n",
            "Requirement already satisfied: ply in /usr/local/lib/python3.6/dist-packages (from lesscpy>=0.11.2->jupyterthemes) (3.11)\n",
            "Requirement already satisfied: numpy>=1.7.1 in /usr/local/lib/python3.6/dist-packages (from matplotlib>=1.4.3->jupyterthemes) (1.14.6)\n",
            "Requirement already satisfied: pyparsing!=2.0.4,!=2.1.2,!=2.1.6,>=2.0.1 in /usr/local/lib/python3.6/dist-packages (from matplotlib>=1.4.3->jupyterthemes) (2.3.0)\n",
            "Requirement already satisfied: python-dateutil>=2.1 in /usr/local/lib/python3.6/dist-packages (from matplotlib>=1.4.3->jupyterthemes) (2.5.3)\n",
            "Requirement already satisfied: pytz in /usr/local/lib/python3.6/dist-packages (from matplotlib>=1.4.3->jupyterthemes) (2018.7)\n",
            "Requirement already satisfied: cycler>=0.10 in /usr/local/lib/python3.6/dist-packages (from matplotlib>=1.4.3->jupyterthemes) (0.10.0)\n",
            "Requirement already satisfied: traitlets in /usr/local/lib/python3.6/dist-packages (from jupyter-core->jupyterthemes) (4.3.2)\n",
            "Requirement already satisfied: terminado>=0.8.1 in /usr/local/lib/python3.6/dist-packages (from notebook>=5.6.0->jupyterthemes) (0.8.1)\n",
            "Requirement already satisfied: ipykernel in /usr/local/lib/python3.6/dist-packages (from notebook>=5.6.0->jupyterthemes) (4.6.1)\n",
            "Requirement already satisfied: pyzmq>=17 in /usr/local/lib/python3.6/dist-packages (from notebook>=5.6.0->jupyterthemes) (17.1.2)\n",
            "Requirement already satisfied: tornado>=4 in /usr/local/lib/python3.6/dist-packages (from notebook>=5.6.0->jupyterthemes) (4.5.3)\n",
            "Requirement already satisfied: prometheus-client in /usr/local/lib/python3.6/dist-packages (from notebook>=5.6.0->jupyterthemes) (0.4.2)\n",
            "Requirement already satisfied: jinja2 in /usr/local/lib/python3.6/dist-packages (from notebook>=5.6.0->jupyterthemes) (2.10)\n",
            "Requirement already satisfied: nbformat in /usr/local/lib/python3.6/dist-packages (from notebook>=5.6.0->jupyterthemes) (4.4.0)\n",
            "Requirement already satisfied: nbconvert in /usr/local/lib/python3.6/dist-packages (from notebook>=5.6.0->jupyterthemes) (5.4.0)\n",
            "Requirement already satisfied: ipython-genutils in /usr/local/lib/python3.6/dist-packages (from notebook>=5.6.0->jupyterthemes) (0.2.0)\n",
            "Requirement already satisfied: Send2Trash in /usr/local/lib/python3.6/dist-packages (from notebook>=5.6.0->jupyterthemes) (1.5.0)\n",
            "Requirement already satisfied: jupyter-client>=5.2.0 in /usr/local/lib/python3.6/dist-packages (from notebook>=5.6.0->jupyterthemes) (5.2.3)\n",
            "Requirement already satisfied: setuptools>=18.5 in /usr/local/lib/python3.6/dist-packages (from ipython>=5.4.1->jupyterthemes) (40.5.0)\n",
            "Requirement already satisfied: pexpect; sys_platform != \"win32\" in /usr/local/lib/python3.6/dist-packages (from ipython>=5.4.1->jupyterthemes) (4.6.0)\n",
            "Requirement already satisfied: prompt-toolkit<2.0.0,>=1.0.4 in /usr/local/lib/python3.6/dist-packages (from ipython>=5.4.1->jupyterthemes) (1.0.15)\n",
            "Requirement already satisfied: decorator in /usr/local/lib/python3.6/dist-packages (from ipython>=5.4.1->jupyterthemes) (4.3.0)\n",
            "Requirement already satisfied: pickleshare in /usr/local/lib/python3.6/dist-packages (from ipython>=5.4.1->jupyterthemes) (0.7.5)\n",
            "Requirement already satisfied: simplegeneric>0.8 in /usr/local/lib/python3.6/dist-packages (from ipython>=5.4.1->jupyterthemes) (0.8.1)\n",
            "Requirement already satisfied: pygments in /usr/local/lib/python3.6/dist-packages (from ipython>=5.4.1->jupyterthemes) (2.1.3)\n",
            "Requirement already satisfied: ptyprocess; os_name != \"nt\" in /usr/local/lib/python3.6/dist-packages (from terminado>=0.8.1->notebook>=5.6.0->jupyterthemes) (0.6.0)\n",
            "Requirement already satisfied: MarkupSafe>=0.23 in /usr/local/lib/python3.6/dist-packages (from jinja2->notebook>=5.6.0->jupyterthemes) (1.0)\n",
            "Requirement already satisfied: jsonschema!=2.5.0,>=2.4 in /usr/local/lib/python3.6/dist-packages (from nbformat->notebook>=5.6.0->jupyterthemes) (2.6.0)\n",
            "Requirement already satisfied: mistune>=0.8.1 in /usr/local/lib/python3.6/dist-packages (from nbconvert->notebook>=5.6.0->jupyterthemes) (0.8.4)\n",
            "Requirement already satisfied: pandocfilters>=1.4.1 in /usr/local/lib/python3.6/dist-packages (from nbconvert->notebook>=5.6.0->jupyterthemes) (1.4.2)\n",
            "Requirement already satisfied: testpath in /usr/local/lib/python3.6/dist-packages (from nbconvert->notebook>=5.6.0->jupyterthemes) (0.4.2)\n",
            "Requirement already satisfied: defusedxml in /usr/local/lib/python3.6/dist-packages (from nbconvert->notebook>=5.6.0->jupyterthemes) (0.5.0)\n",
            "Requirement already satisfied: entrypoints>=0.2.2 in /usr/local/lib/python3.6/dist-packages (from nbconvert->notebook>=5.6.0->jupyterthemes) (0.2.3)\n",
            "Requirement already satisfied: bleach in /usr/local/lib/python3.6/dist-packages (from nbconvert->notebook>=5.6.0->jupyterthemes) (3.0.2)\n",
            "Requirement already satisfied: wcwidth in /usr/local/lib/python3.6/dist-packages (from prompt-toolkit<2.0.0,>=1.0.4->ipython>=5.4.1->jupyterthemes) (0.1.7)\n",
            "Requirement already satisfied: webencodings in /usr/local/lib/python3.6/dist-packages (from bleach->nbconvert->notebook>=5.6.0->jupyterthemes) (0.5.1)\n"
          ],
          "name": "stdout"
        }
      ]
    },
    {
      "metadata": {
        "id": "qd7U8ykV0Yz0",
        "colab_type": "code",
        "colab": {}
      },
      "cell_type": "code",
      "source": [
        "%matplotlib inline\n",
        "\n",
        "import os\n",
        "\n",
        "# Core\n",
        "import pandas as pd\n",
        "import numpy as np\n",
        "\n",
        "# Visuals\n",
        "import matplotlib\n",
        "import matplotlib.pyplot as plt\n",
        "import seaborn as sns\n",
        "\n",
        "plt.rcParams['axes.labelsize'] = 14\n",
        "plt.rcParams['xtick.labelsize'] = 12\n",
        "plt.rcParams['ytick.labelsize'] = 12\n",
        "\n",
        "# jt themes\n",
        "from jupyterthemes import jtplot\n",
        "\n",
        "# IPython display\n",
        "from IPython.display import display\n",
        "\n",
        "from scipy.io import loadmat # for loading .MAT files\n",
        "import urllib.request"
      ],
      "execution_count": 0,
      "outputs": []
    },
    {
      "metadata": {
        "id": "y8QGgWAR5AJM",
        "colab_type": "code",
        "outputId": "4a998fc4-60ca-4663-dbfd-9a0ed16849a2",
        "colab": {
          "base_uri": "https://localhost:8080/",
          "height": 257
        }
      },
      "cell_type": "code",
      "source": [
        "# Test Theme\n",
        "!jt -t grade3 -f fira -fs 115\n",
        "jtplot.style(theme='oceans16')\n",
        "\n",
        "# set \"context\" (paper, notebook, talk, poster)\n",
        "# scale font-size of ticklabels, legend, etc.\n",
        "# remove spines from x and y axes and make grid dashed\n",
        "jtplot.style(context='talk', fscale=1.4, spines=False, gridlines='--')\n",
        "\n",
        "# turn on X- and Y-axis tick marks (default=False)\n",
        "# turn off the axis grid lines (default=True)\n",
        "# and set the default figure size\n",
        "jtplot.style(ticks=True, grid=False, figsize=(6, 4.5))\n",
        "\n",
        "N = 50\n",
        "x = np.random.rand(N)\n",
        "y = np.random.rand(N)\n",
        "colors = np.random.rand(N)\n",
        "area = (30 * np.random.rand(N))**2\n",
        "\n",
        "plt.scatter(x, y, s=area, c=colors, alpha=0.5)\n",
        "plt.show()"
      ],
      "execution_count": 268,
      "outputs": [
        {
          "output_type": "display_data",
          "data": {
            "image/png": "[encoded data removed]",
            "text/plain": [
              "<matplotlib.figure.Figure at 0x7f5d4c5f1128>"
            ]
          },
          "metadata": {
            "tags": []
          }
        }
      ]
    },
    {
      "metadata": {
        "id": "K-dr1bJG7nEX",
        "colab_type": "text"
      },
      "cell_type": "markdown",
      "source": [
        "Looks good. Let's roll."
      ]
    },
    {
      "metadata": {
        "id": "zDbJf-pz2Fpo",
        "colab_type": "code",
        "colab": {}
      },
      "cell_type": "code",
      "source": [
        "# santatize Dataset\n",
        "def santatize_set( dataframe ):\n",
        "    if dataframe.isnull().values.any() == True:\n",
        "        cleaned = dataframe.dropna()\n",
        "        print('Dropped {} invalid samples'.format(dataframe.count - cleaned.count))\n",
        "        dataframe = cleaned\n",
        "    return dataframe"
      ],
      "execution_count": 0,
      "outputs": []
    },
    {
      "metadata": {
        "id": "4SxIFj5j8q2I",
        "colab_type": "code",
        "colab": {}
      },
      "cell_type": "code",
      "source": [
        "# saves a plot for reporting later. \n",
        "def save_fig(fig_id, tight_layout=True):\n",
        "    path = os.path.join(PROJECT_ROOT_DIR, \"images\", fig_id + \".png\")\n",
        "    print(\"Saving figure\", fig_id)\n",
        "    if tight_layout:\n",
        "        plt.tight_layout()\n",
        "    plt.savefig(path, format='png', dpi=300)"
      ],
      "execution_count": 0,
      "outputs": []
    },
    {
      "metadata": {
        "id": "ecjIzOF5dnu6",
        "colab_type": "text"
      },
      "cell_type": "markdown",
      "source": [
        "# Utility"
      ]
    },
    {
      "metadata": {
        "id": "YwUJS8y4dp_s",
        "colab_type": "code",
        "colab": {}
      },
      "cell_type": "code",
      "source": [
        "def plot_digit(data):\n",
        "    image = data.reshape(28, 28)\n",
        "    plt.imshow(image, cmap = matplotlib.cm.binary,\n",
        "               interpolation=\"nearest\")\n",
        "    plt.axis(\"off\")"
      ],
      "execution_count": 0,
      "outputs": []
    },
    {
      "metadata": {
        "id": "tIrfm3lTdrve",
        "colab_type": "code",
        "colab": {}
      },
      "cell_type": "code",
      "source": [
        "def plot_digits(instances, images_per_row=10, **options):\n",
        "    size = 28\n",
        "    images_per_row = min(len(instances), images_per_row)\n",
        "    images = [instance.reshape(size,size) for instance in instances]\n",
        "    n_rows = (len(instances) - 1) // images_per_row + 1\n",
        "    row_images = []\n",
        "    n_empty = n_rows * images_per_row - len(instances)\n",
        "    images.append(np.zeros((size, size * n_empty)))\n",
        "    for row in range(n_rows):\n",
        "        rimages = images[row * images_per_row : (row + 1) * images_per_row]\n",
        "        row_images.append(np.concatenate(rimages, axis=1))\n",
        "    image = np.concatenate(row_images, axis=0)\n",
        "    plt.imshow(image, cmap = matplotlib.cm.binary, **options)\n",
        "    plt.axis(\"off\")"
      ],
      "execution_count": 0,
      "outputs": []
    },
    {
      "metadata": {
        "id": "v2lhUWKH2fzP",
        "colab_type": "text"
      },
      "cell_type": "markdown",
      "source": [
        "# Dataset"
      ]
    },
    {
      "metadata": {
        "id": "1kmPts6scKV5",
        "colab_type": "text"
      },
      "cell_type": "markdown",
      "source": [
        "This 'homebrew' method is the only way I could reliably get MNIST data. The 'fetch_mldata' literally works 1 / 50 tries."
      ]
    },
    {
      "metadata": {
        "id": "IFjla4CsaXbN",
        "colab_type": "code",
        "colab": {}
      },
      "cell_type": "code",
      "source": [
        "from six.moves import urllib\n",
        "\n",
        "from scipy.io import loadmat\n",
        "mnist_alternative_url = \"https://raw.githubusercontent.com/bmoretz/MSDS-MachineLearning/master/datasets/mnist-original.mat\"\n",
        "mnist_path = \"./mnist-original.mat\"\n",
        "response = urllib.request.urlopen(mnist_alternative_url)\n",
        "with open(mnist_path, \"wb\") as f:\n",
        "    content = response.read()\n",
        "    f.write(content)\n",
        "mnist_raw = loadmat(mnist_path)\n",
        "mnist = {\n",
        "    \"data\": mnist_raw[\"data\"].T,\n",
        "    \"target\": mnist_raw[\"label\"][0],\n",
        "    \"COL_NAMES\": [\"label\", \"data\"],\n",
        "    \"DESCR\": \"mldata.org dataset: mnist-original\",\n",
        "}"
      ],
      "execution_count": 0,
      "outputs": []
    },
    {
      "metadata": {
        "id": "Iz-nnx6YabYF",
        "colab_type": "code",
        "colab": {}
      },
      "cell_type": "code",
      "source": [
        "X, y = mnist['data'], mnist['target']"
      ],
      "execution_count": 0,
      "outputs": []
    },
    {
      "metadata": {
        "id": "vasvN1N0R6o-",
        "colab_type": "code",
        "colab": {
          "base_uri": "https://localhost:8080/",
          "height": 34
        },
        "outputId": "42ad3093-3f63-4e47-b024-3ae00ab26784"
      },
      "cell_type": "code",
      "source": [
        "X.shape"
      ],
      "execution_count": 275,
      "outputs": [
        {
          "output_type": "execute_result",
          "data": {
            "text/plain": [
              "(70000, 784)"
            ]
          },
          "metadata": {
            "tags": []
          },
          "execution_count": 275
        }
      ]
    },
    {
      "metadata": {
        "id": "vN6O8rnK80iK",
        "colab_type": "code",
        "colab": {
          "base_uri": "https://localhost:8080/",
          "height": 34
        },
        "outputId": "0683da5b-ae2f-46ab-e689-37fcbde341c4"
      },
      "cell_type": "code",
      "source": [
        "y.shape"
      ],
      "execution_count": 276,
      "outputs": [
        {
          "output_type": "execute_result",
          "data": {
            "text/plain": [
              "(70000,)"
            ]
          },
          "metadata": {
            "tags": []
          },
          "execution_count": 276
        }
      ]
    },
    {
      "metadata": {
        "id": "TFWclIVudKTE",
        "colab_type": "text"
      },
      "cell_type": "markdown",
      "source": [
        "# Exploration"
      ]
    },
    {
      "metadata": {
        "id": "N-p06ObleQsC",
        "colab_type": "text"
      },
      "cell_type": "markdown",
      "source": [
        "Let's grab a random image and inspect it."
      ]
    },
    {
      "metadata": {
        "id": "ULGVrpsRdOd1",
        "colab_type": "code",
        "colab": {
          "base_uri": "https://localhost:8080/",
          "height": 257
        },
        "outputId": "c24d1b72-e39e-4fe5-d0b5-e056cd582a36"
      },
      "cell_type": "code",
      "source": [
        "some_digit = X[36000]\n",
        "plot_digit(some_digit)"
      ],
      "execution_count": 277,
      "outputs": [
        {
          "output_type": "display_data",
          "data": {
            "image/png": "[encoded data removed]",
            "text/plain": [
              "<matplotlib.figure.Figure at 0x7f5d4f34c128>"
            ]
          },
          "metadata": {
            "tags": []
          }
        }
      ]
    },
    {
      "metadata": {
        "id": "4Ja8TC6xeU9F",
        "colab_type": "text"
      },
      "cell_type": "markdown",
      "source": [
        "Let's grab a few more random images and display a grid so we can get a sense of the overall structure."
      ]
    },
    {
      "metadata": {
        "id": "SAOiR11JdkGL",
        "colab_type": "code",
        "colab": {
          "base_uri": "https://localhost:8080/",
          "height": 551
        },
        "outputId": "b489f0bc-934b-408b-9454-23796de33bf5"
      },
      "cell_type": "code",
      "source": [
        "plt.figure(figsize=(9,9))\n",
        "example_images = np.r_[X[:12000:600], X[13000:30600:600], X[30600:60000:590]]\n",
        "plot_digits(example_images, images_per_row=10)\n",
        "plt.show()"
      ],
      "execution_count": 278,
      "outputs": [
        {
          "output_type": "display_data",
          "data": {
            "image/png": "[encoded data removed]",
            "text/plain": [
              "<matplotlib.figure.Figure at 0x7f5d4c5c3ba8>"
            ]
          },
          "metadata": {
            "tags": []
          }
        }
      ]
    },
    {
      "metadata": {
        "id": "5N8VUvZ_ejka",
        "colab_type": "text"
      },
      "cell_type": "markdown",
      "source": [
        "# Prepare Model Data"
      ]
    },
    {
      "metadata": {
        "id": "-8OSw9MUeuPi",
        "colab_type": "text"
      },
      "cell_type": "markdown",
      "source": [
        "Split the data to 60,000 images as training data and 10,000 as test data."
      ]
    },
    {
      "metadata": {
        "id": "wp0SVz-sTjre",
        "colab_type": "text"
      },
      "cell_type": "markdown",
      "source": [
        ""
      ]
    },
    {
      "metadata": {
        "id": "iTc3oPJoesSl",
        "colab_type": "code",
        "colab": {}
      },
      "cell_type": "code",
      "source": [
        "X_train, X_test, y_train, y_test = X[:60000], X[60000:], y[:60000], y[60000:]"
      ],
      "execution_count": 0,
      "outputs": []
    },
    {
      "metadata": {
        "id": "c8cqWo5pe0Bz",
        "colab_type": "text"
      },
      "cell_type": "markdown",
      "source": [
        "# Random Forest Classifier"
      ]
    },
    {
      "metadata": {
        "id": "Yb8ezjdFe3xu",
        "colab_type": "code",
        "colab": {}
      },
      "cell_type": "code",
      "source": [
        "from sklearn.ensemble import RandomForestClassifier"
      ],
      "execution_count": 0,
      "outputs": []
    },
    {
      "metadata": {
        "id": "3SL3gpCde8Nl",
        "colab_type": "code",
        "colab": {}
      },
      "cell_type": "code",
      "source": [
        "rf_clf = RandomForestClassifier(n_estimators=100, max_leaf_nodes=10, n_jobs=-1)"
      ],
      "execution_count": 0,
      "outputs": []
    },
    {
      "metadata": {
        "id": "nRaXWaVufCNW",
        "colab_type": "text"
      },
      "cell_type": "markdown",
      "source": [
        "# Random Forest, Performance Benchmark"
      ]
    },
    {
      "metadata": {
        "id": "grGTc3VdfLBi",
        "colab_type": "text"
      },
      "cell_type": "markdown",
      "source": [
        "Let's repeat the trial ten times, and record  the results."
      ]
    },
    {
      "metadata": {
        "id": "t1mGTRPffvhc",
        "colab_type": "code",
        "colab": {}
      },
      "cell_type": "code",
      "source": [
        "import time"
      ],
      "execution_count": 0,
      "outputs": []
    },
    {
      "metadata": {
        "id": "hxwpnRYyf99F",
        "colab_type": "code",
        "colab": {}
      },
      "cell_type": "code",
      "source": [
        "np.random.seed(seed = 42) # fix seed so we can reproduce."
      ],
      "execution_count": 0,
      "outputs": []
    },
    {
      "metadata": {
        "id": "hgk9q0wafIdR",
        "colab_type": "code",
        "colab": {}
      },
      "cell_type": "code",
      "source": [
        "x_time = [] # empty list for storing test results\n",
        "n = 0  # initialize count"
      ],
      "execution_count": 0,
      "outputs": []
    },
    {
      "metadata": {
        "id": "G5zqpibBfaIJ",
        "colab_type": "code",
        "colab": {}
      },
      "cell_type": "code",
      "source": [
        "while (n < replications): \n",
        "    start_time = time.clock()\n",
        "    # generate 1 million random negative binomials and store in a vector\n",
        "    rf_clf.fit(X_train, y_train)\n",
        "    end_time = time.clock()\n",
        "    runtime = end_time - start_time  # seconds of wall-clock time\n",
        "    x_time.append(runtime * 1000)  # report in milliseconds \n",
        "    n = n + 1"
      ],
      "execution_count": 0,
      "outputs": []
    },
    {
      "metadata": {
        "id": "EY7hnTjFgfw5",
        "colab_type": "code",
        "colab": {
          "base_uri": "https://localhost:8080/",
          "height": 297
        },
        "outputId": "15541a5c-dc04-44e5-84ef-1d7dac084725"
      },
      "cell_type": "code",
      "source": [
        "pd.options.display.float_format = '{:,}'.format # pretty display format\n",
        "rf_fit_times = pd.DataFrame(x_time, columns=['time']) # save results\n",
        "rf_fit_times.describe().round(2)"
      ],
      "execution_count": 286,
      "outputs": [
        {
          "output_type": "execute_result",
          "data": {
            "text/html": [
              "<div>\n",
              "<style scoped>\n",
              "    .dataframe tbody tr th:only-of-type {\n",
              "        vertical-align: middle;\n",
              "    }\n",
              "\n",
              "    .dataframe tbody tr th {\n",
              "        vertical-align: top;\n",
              "    }\n",
              "\n",
              "    .dataframe thead th {\n",
              "        text-align: right;\n",
              "    }\n",
              "</style>\n",
              "<table border=\"1\" class=\"dataframe\">\n",
              "  <thead>\n",
              "    <tr style=\"text-align: right;\">\n",
              "      <th></th>\n",
              "      <th>time</th>\n",
              "    </tr>\n",
              "  </thead>\n",
              "  <tbody>\n",
              "    <tr>\n",
              "      <th>count</th>\n",
              "      <td>10.0</td>\n",
              "    </tr>\n",
              "    <tr>\n",
              "      <th>mean</th>\n",
              "      <td>30,487.75</td>\n",
              "    </tr>\n",
              "    <tr>\n",
              "      <th>std</th>\n",
              "      <td>273.94</td>\n",
              "    </tr>\n",
              "    <tr>\n",
              "      <th>min</th>\n",
              "      <td>29,918.32</td>\n",
              "    </tr>\n",
              "    <tr>\n",
              "      <th>25%</th>\n",
              "      <td>30,363.82</td>\n",
              "    </tr>\n",
              "    <tr>\n",
              "      <th>50%</th>\n",
              "      <td>30,551.69</td>\n",
              "    </tr>\n",
              "    <tr>\n",
              "      <th>75%</th>\n",
              "      <td>30,619.67</td>\n",
              "    </tr>\n",
              "    <tr>\n",
              "      <th>max</th>\n",
              "      <td>30,918.09</td>\n",
              "    </tr>\n",
              "  </tbody>\n",
              "</table>\n",
              "</div>"
            ],
            "text/plain": [
              "           time\n",
              "count      10.0\n",
              "mean  30,487.75\n",
              "std      273.94\n",
              "min   29,918.32\n",
              "25%   30,363.82\n",
              "50%   30,551.69\n",
              "75%   30,619.67\n",
              "max   30,918.09"
            ]
          },
          "metadata": {
            "tags": []
          },
          "execution_count": 286
        }
      ]
    },
    {
      "metadata": {
        "id": "kMUaQ6ySlhhp",
        "colab_type": "text"
      },
      "cell_type": "markdown",
      "source": [
        "# Prediction Accuracy"
      ]
    },
    {
      "metadata": {
        "id": "8uF2kTHJlmr5",
        "colab_type": "code",
        "colab": {
          "base_uri": "https://localhost:8080/",
          "height": 34
        },
        "outputId": "09ef7ef7-29f8-4178-e7f3-1ac5cb752f25"
      },
      "cell_type": "code",
      "source": [
        "from sklearn.metrics import f1_score\n",
        "\n",
        "y_predict = rf_clf.predict(X_test)\n",
        "rf_f1Score = f1_score(y_test, y_predict, average='weighted')\n",
        "\n",
        "display('F1 Score: {:.4f}'.format(rf_f1Score))"
      ],
      "execution_count": 287,
      "outputs": [
        {
          "output_type": "display_data",
          "data": {
            "text/plain": [
              "'F1 Score: 0.7642'"
            ]
          },
          "metadata": {
            "tags": []
          }
        }
      ]
    },
    {
      "metadata": {
        "id": "Fmkl8Nnimzba",
        "colab_type": "text"
      },
      "cell_type": "markdown",
      "source": [
        "# Principal Component Analysis"
      ]
    },
    {
      "metadata": {
        "id": "aMc5ZXHvnGwN",
        "colab_type": "code",
        "colab": {}
      },
      "cell_type": "code",
      "source": [
        "from sklearn.decomposition import PCA"
      ],
      "execution_count": 0,
      "outputs": []
    },
    {
      "metadata": {
        "id": "a5dDmz2Lm4ou",
        "colab_type": "text"
      },
      "cell_type": "markdown",
      "source": [
        "Generate principal components that represent 95 percent of the variability in the explanatory variables."
      ]
    },
    {
      "metadata": {
        "id": "uaYwlMMbm288",
        "colab_type": "code",
        "colab": {}
      },
      "cell_type": "code",
      "source": [
        "pca = PCA(n_components=0.95)"
      ],
      "execution_count": 0,
      "outputs": []
    },
    {
      "metadata": {
        "id": "9Znw6G9vnbMU",
        "colab_type": "text"
      },
      "cell_type": "markdown",
      "source": [
        "Runtime to identify the principal components."
      ]
    },
    {
      "metadata": {
        "id": "-X208dDzobp9",
        "colab_type": "text"
      },
      "cell_type": "markdown",
      "source": [
        "# Principal Component Analysis, Performance Benchmark"
      ]
    },
    {
      "metadata": {
        "id": "gG8IklfhnJtD",
        "colab_type": "code",
        "colab": {}
      },
      "cell_type": "code",
      "source": [
        "pca_time = [] # empty list for storing test results\n",
        "n = 0  # initialize count"
      ],
      "execution_count": 0,
      "outputs": []
    },
    {
      "metadata": {
        "id": "nWWDMAaRnTH9",
        "colab_type": "text"
      },
      "cell_type": "markdown",
      "source": [
        "Time to Identify Pricipal Components"
      ]
    },
    {
      "metadata": {
        "id": "qatTG8uxnR6z",
        "colab_type": "code",
        "colab": {}
      },
      "cell_type": "code",
      "source": [
        "while (n < replications): \n",
        "    start_time = time.clock()\n",
        "    # generate 1 million random negative binomials and store in a vector\n",
        "    X_pca = pca.fit_transform(X) # run on all 70,000 observations\n",
        "    end_time = time.clock()\n",
        "    runtime = end_time - start_time  # seconds of wall-clock time\n",
        "    pca_time.append(runtime * 1000)  # report in milliseconds \n",
        "    n = n + 1"
      ],
      "execution_count": 0,
      "outputs": []
    },
    {
      "metadata": {
        "id": "yp0nqO9Snikd",
        "colab_type": "code",
        "colab": {
          "base_uri": "https://localhost:8080/",
          "height": 297
        },
        "outputId": "17a54a5d-3a82-4b68-f4d1-95ebbe15c692"
      },
      "cell_type": "code",
      "source": [
        "pca_fit_times = pd.DataFrame(pca_time, columns=['time']) # save results\n",
        "pca_fit_times.describe().round(2)"
      ],
      "execution_count": 292,
      "outputs": [
        {
          "output_type": "execute_result",
          "data": {
            "text/html": [
              "<div>\n",
              "<style scoped>\n",
              "    .dataframe tbody tr th:only-of-type {\n",
              "        vertical-align: middle;\n",
              "    }\n",
              "\n",
              "    .dataframe tbody tr th {\n",
              "        vertical-align: top;\n",
              "    }\n",
              "\n",
              "    .dataframe thead th {\n",
              "        text-align: right;\n",
              "    }\n",
              "</style>\n",
              "<table border=\"1\" class=\"dataframe\">\n",
              "  <thead>\n",
              "    <tr style=\"text-align: right;\">\n",
              "      <th></th>\n",
              "      <th>time</th>\n",
              "    </tr>\n",
              "  </thead>\n",
              "  <tbody>\n",
              "    <tr>\n",
              "      <th>count</th>\n",
              "      <td>10.0</td>\n",
              "    </tr>\n",
              "    <tr>\n",
              "      <th>mean</th>\n",
              "      <td>31,061.41</td>\n",
              "    </tr>\n",
              "    <tr>\n",
              "      <th>std</th>\n",
              "      <td>1,052.88</td>\n",
              "    </tr>\n",
              "    <tr>\n",
              "      <th>min</th>\n",
              "      <td>30,431.46</td>\n",
              "    </tr>\n",
              "    <tr>\n",
              "      <th>25%</th>\n",
              "      <td>30,492.06</td>\n",
              "    </tr>\n",
              "    <tr>\n",
              "      <th>50%</th>\n",
              "      <td>30,589.6</td>\n",
              "    </tr>\n",
              "    <tr>\n",
              "      <th>75%</th>\n",
              "      <td>30,792.92</td>\n",
              "    </tr>\n",
              "    <tr>\n",
              "      <th>max</th>\n",
              "      <td>33,465.4</td>\n",
              "    </tr>\n",
              "  </tbody>\n",
              "</table>\n",
              "</div>"
            ],
            "text/plain": [
              "           time\n",
              "count      10.0\n",
              "mean  31,061.41\n",
              "std    1,052.88\n",
              "min   30,431.46\n",
              "25%   30,492.06\n",
              "50%    30,589.6\n",
              "75%   30,792.92\n",
              "max    33,465.4"
            ]
          },
          "metadata": {
            "tags": []
          },
          "execution_count": 292
        }
      ]
    },
    {
      "metadata": {
        "id": "vd45yVKPooHD",
        "colab_type": "text"
      },
      "cell_type": "markdown",
      "source": [
        "# Explained Variance"
      ]
    },
    {
      "metadata": {
        "id": "BXyoVHfzorLO",
        "colab_type": "code",
        "colab": {
          "base_uri": "https://localhost:8080/",
          "height": 297
        },
        "outputId": "14215f05-1bf2-445b-dee3-de6d11ce5d95"
      },
      "cell_type": "code",
      "source": [
        "pca_explained_variance = pca.explained_variance_ratio_\n",
        "\n",
        "explained_variance = pd.DataFrame(pca_explained_variance, columns=['Explained Variance'])\n",
        "\n",
        "explained_variance.describe().round(7)"
      ],
      "execution_count": 293,
      "outputs": [
        {
          "output_type": "execute_result",
          "data": {
            "text/html": [
              "<div>\n",
              "<style scoped>\n",
              "    .dataframe tbody tr th:only-of-type {\n",
              "        vertical-align: middle;\n",
              "    }\n",
              "\n",
              "    .dataframe tbody tr th {\n",
              "        vertical-align: top;\n",
              "    }\n",
              "\n",
              "    .dataframe thead th {\n",
              "        text-align: right;\n",
              "    }\n",
              "</style>\n",
              "<table border=\"1\" class=\"dataframe\">\n",
              "  <thead>\n",
              "    <tr style=\"text-align: right;\">\n",
              "      <th></th>\n",
              "      <th>Explained Variance</th>\n",
              "    </tr>\n",
              "  </thead>\n",
              "  <tbody>\n",
              "    <tr>\n",
              "      <th>count</th>\n",
              "      <td>154.0</td>\n",
              "    </tr>\n",
              "    <tr>\n",
              "      <th>mean</th>\n",
              "      <td>0.0061711</td>\n",
              "    </tr>\n",
              "    <tr>\n",
              "      <th>std</th>\n",
              "      <td>0.0132526</td>\n",
              "    </tr>\n",
              "    <tr>\n",
              "      <th>min</th>\n",
              "      <td>0.0004495</td>\n",
              "    </tr>\n",
              "    <tr>\n",
              "      <th>25%</th>\n",
              "      <td>0.0007517</td>\n",
              "    </tr>\n",
              "    <tr>\n",
              "      <th>50%</th>\n",
              "      <td>0.0015786</td>\n",
              "    </tr>\n",
              "    <tr>\n",
              "      <th>75%</th>\n",
              "      <td>0.0047611</td>\n",
              "    </tr>\n",
              "    <tr>\n",
              "      <th>max</th>\n",
              "      <td>0.0974612</td>\n",
              "    </tr>\n",
              "  </tbody>\n",
              "</table>\n",
              "</div>"
            ],
            "text/plain": [
              "       Explained Variance\n",
              "count               154.0\n",
              "mean            0.0061711\n",
              "std             0.0132526\n",
              "min             0.0004495\n",
              "25%             0.0007517\n",
              "50%             0.0015786\n",
              "75%             0.0047611\n",
              "max             0.0974612"
            ]
          },
          "metadata": {
            "tags": []
          },
          "execution_count": 293
        }
      ]
    },
    {
      "metadata": {
        "id": "bVlZUwqFYtnc",
        "colab_type": "code",
        "colab": {
          "base_uri": "https://localhost:8080/",
          "height": 34
        },
        "outputId": "841e03b6-1f0a-470b-9f93-4c5d9678a75d"
      },
      "cell_type": "code",
      "source": [
        "display( '{}'.format(explained_variance.sum().round(4) * 100))"
      ],
      "execution_count": 294,
      "outputs": [
        {
          "output_type": "display_data",
          "data": {
            "text/plain": [
              "'Explained Variance   95.03\\ndtype: float64'"
            ]
          },
          "metadata": {
            "tags": []
          }
        }
      ]
    },
    {
      "metadata": {
        "id": "jeZwyS2dByA0",
        "colab_type": "code",
        "colab": {
          "base_uri": "https://localhost:8080/",
          "height": 275
        },
        "outputId": "0fab0a9e-8b59-41b9-f67b-dc377e3432a8"
      },
      "cell_type": "code",
      "source": [
        "explained_variance.reset_index().plot.line(explained_variance['Explained Variance'].cumsum(), 'index', drawstyle='steps', legend = False)\n",
        "plt.show()"
      ],
      "execution_count": 295,
      "outputs": [
        {
          "output_type": "display_data",
          "data": {
            "image/png": "[encoded data removed]",
            "text/plain": [
              "<matplotlib.figure.Figure at 0x7f5d46cb5c18>"
            ]
          },
          "metadata": {
            "tags": []
          }
        }
      ]
    },
    {
      "metadata": {
        "id": "JtgOCrN4pUCo",
        "colab_type": "text"
      },
      "cell_type": "markdown",
      "source": [
        "# Random Forest with Principal Components"
      ]
    },
    {
      "metadata": {
        "id": "SAz365mwpbi-",
        "colab_type": "text"
      },
      "cell_type": "markdown",
      "source": [
        "Split the reduced data to 60,000 images as training data and 10,000 as test data."
      ]
    },
    {
      "metadata": {
        "id": "W5rS2lyVpZFY",
        "colab_type": "code",
        "colab": {}
      },
      "cell_type": "code",
      "source": [
        "X_pca_train, X_pca_test = X_pca[:60000], X_pca[60000:]"
      ],
      "execution_count": 0,
      "outputs": []
    },
    {
      "metadata": {
        "id": "2Ho612dipcsr",
        "colab_type": "code",
        "colab": {}
      },
      "cell_type": "code",
      "source": [
        "rf_clf_pca = RandomForestClassifier(n_estimators=100, max_leaf_nodes=10, n_jobs=-1)"
      ],
      "execution_count": 0,
      "outputs": []
    },
    {
      "metadata": {
        "id": "m0O-8YtgpmT0",
        "colab_type": "text"
      },
      "cell_type": "markdown",
      "source": [
        "Runtime to identify the principal components."
      ]
    },
    {
      "metadata": {
        "id": "PYdOn6HppkeU",
        "colab_type": "code",
        "colab": {}
      },
      "cell_type": "code",
      "source": [
        "x_pca_time = [] # empty list for storing test results\n",
        "n = 0  # initialize count"
      ],
      "execution_count": 0,
      "outputs": []
    },
    {
      "metadata": {
        "id": "WRs3AFtjpwRx",
        "colab_type": "text"
      },
      "cell_type": "markdown",
      "source": [
        "Time to Fit Random Forest Classifier using Principal Components."
      ]
    },
    {
      "metadata": {
        "id": "9_qNiWmbptsF",
        "colab_type": "code",
        "colab": {}
      },
      "cell_type": "code",
      "source": [
        "while (n < replications): \n",
        "    start_time = time.clock()\n",
        "    # generate 1 million random negative binomials and store in a vector\n",
        "    rf_clf_pca.fit(X_pca_train, y_train)\n",
        "    end_time = time.clock()\n",
        "    runtime = end_time - start_time  # seconds of wall-clock time\n",
        "    x_pca_time.append(runtime * 1000)  # report in milliseconds\n",
        "    n = n + 1"
      ],
      "execution_count": 0,
      "outputs": []
    },
    {
      "metadata": {
        "id": "Lt0_Mlbepw1c",
        "colab_type": "code",
        "colab": {
          "base_uri": "https://localhost:8080/",
          "height": 297
        },
        "outputId": "1ba5d2e0-41c6-4a13-db33-3ff63b1d5cb8"
      },
      "cell_type": "code",
      "source": [
        "x_pca_fit_times = pd.DataFrame(x_pca_time, columns=['time']) # save results\n",
        "x_pca_fit_times.describe().round(2)"
      ],
      "execution_count": 184,
      "outputs": [
        {
          "output_type": "execute_result",
          "data": {
            "text/html": [
              "<div>\n",
              "<style scoped>\n",
              "    .dataframe tbody tr th:only-of-type {\n",
              "        vertical-align: middle;\n",
              "    }\n",
              "\n",
              "    .dataframe tbody tr th {\n",
              "        vertical-align: top;\n",
              "    }\n",
              "\n",
              "    .dataframe thead th {\n",
              "        text-align: right;\n",
              "    }\n",
              "</style>\n",
              "<table border=\"1\" class=\"dataframe\">\n",
              "  <thead>\n",
              "    <tr style=\"text-align: right;\">\n",
              "      <th></th>\n",
              "      <th>time</th>\n",
              "    </tr>\n",
              "  </thead>\n",
              "  <tbody>\n",
              "    <tr>\n",
              "      <th>count</th>\n",
              "      <td>10.0</td>\n",
              "    </tr>\n",
              "    <tr>\n",
              "      <th>mean</th>\n",
              "      <td>56,922.6</td>\n",
              "    </tr>\n",
              "    <tr>\n",
              "      <th>std</th>\n",
              "      <td>1,358.6</td>\n",
              "    </tr>\n",
              "    <tr>\n",
              "      <th>min</th>\n",
              "      <td>54,925.87</td>\n",
              "    </tr>\n",
              "    <tr>\n",
              "      <th>25%</th>\n",
              "      <td>56,014.63</td>\n",
              "    </tr>\n",
              "    <tr>\n",
              "      <th>50%</th>\n",
              "      <td>56,858.76</td>\n",
              "    </tr>\n",
              "    <tr>\n",
              "      <th>75%</th>\n",
              "      <td>57,710.62</td>\n",
              "    </tr>\n",
              "    <tr>\n",
              "      <th>max</th>\n",
              "      <td>59,103.47</td>\n",
              "    </tr>\n",
              "  </tbody>\n",
              "</table>\n",
              "</div>"
            ],
            "text/plain": [
              "           time\n",
              "count      10.0\n",
              "mean   56,922.6\n",
              "std     1,358.6\n",
              "min   54,925.87\n",
              "25%   56,014.63\n",
              "50%   56,858.76\n",
              "75%   57,710.62\n",
              "max   59,103.47"
            ]
          },
          "metadata": {
            "tags": []
          },
          "execution_count": 184
        }
      ]
    },
    {
      "metadata": {
        "id": "YJ1mat_6qwYp",
        "colab_type": "text"
      },
      "cell_type": "markdown",
      "source": [
        "# Random Forest with Principal Componenets, Prediction"
      ]
    },
    {
      "metadata": {
        "id": "fih6_uaGq3Wg",
        "colab_type": "code",
        "colab": {}
      },
      "cell_type": "code",
      "source": [
        "y_predict_pca = rf_clf_pca.predict(X_pca_test)"
      ],
      "execution_count": 0,
      "outputs": []
    },
    {
      "metadata": {
        "id": "iNjf9mgerBKR",
        "colab_type": "code",
        "colab": {
          "base_uri": "https://localhost:8080/",
          "height": 34
        },
        "outputId": "fa3a3dff-ccf6-4c06-d6a2-fdecc08258de"
      },
      "cell_type": "code",
      "source": [
        "pca_f1Score = f1_score(y_test, y_predict_pca, average='weighted')\n",
        "\n",
        "display('PCA F1 Score: {:.4f}'.format(pca_f1Score))"
      ],
      "execution_count": 186,
      "outputs": [
        {
          "output_type": "display_data",
          "data": {
            "text/plain": [
              "'PCA F1 Score: 0.7726'"
            ]
          },
          "metadata": {
            "tags": []
          }
        }
      ]
    },
    {
      "metadata": {
        "id": "GFpjE_gws2VD",
        "colab_type": "text"
      },
      "cell_type": "markdown",
      "source": [
        "# Summary Comparison"
      ]
    },
    {
      "metadata": {
        "id": "oMTSlHpHs3t6",
        "colab_type": "code",
        "colab": {}
      },
      "cell_type": "code",
      "source": [
        "combined = pd.concat( [rf_fit_times, pca_fit_times, x_pca_fit_times], axis = 1)\n",
        "combined.columns = ['Random Forest', 'PCA', 'RF + PCA']"
      ],
      "execution_count": 0,
      "outputs": []
    },
    {
      "metadata": {
        "id": "wQDIVID3VHmZ",
        "colab_type": "code",
        "colab": {
          "base_uri": "https://localhost:8080/",
          "height": 85
        },
        "outputId": "07a026ae-bdf1-44c3-b94c-a743db12848a"
      },
      "cell_type": "code",
      "source": [
        "combined.mean().round(0)"
      ],
      "execution_count": 261,
      "outputs": [
        {
          "output_type": "execute_result",
          "data": {
            "text/plain": [
              "Random Forest   32,090.0\n",
              "PCA             31,942.0\n",
              "RF + PCA        56,923.0\n",
              "dtype: float64"
            ]
          },
          "metadata": {
            "tags": []
          },
          "execution_count": 261
        }
      ]
    },
    {
      "metadata": {
        "id": "PJyUWO-vZ8RS",
        "colab_type": "code",
        "colab": {
          "base_uri": "https://localhost:8080/",
          "height": 385
        },
        "outputId": "f4858a09-f62d-46d6-cc12-411739bc06cd"
      },
      "cell_type": "code",
      "source": [
        "ax = combined.mean().plot(kind='bar', title =\"Avearage Train Time\", figsize=(8, 4), legend=False, fontsize=12)\n",
        "ax.set_xlabel(\"Method\", fontsize=12)\n",
        "ax.set_ylabel(\"Time\", fontsize=12)\n",
        "plt.show()"
      ],
      "execution_count": 265,
      "outputs": [
        {
          "output_type": "display_data",
          "data": {
            "image/png": "[encoded data removed]",
            "text/plain": [
              "<matplotlib.figure.Figure at 0x7f5d41636128>"
            ]
          },
          "metadata": {
            "tags": []
          }
        }
      ]
    },
    {
      "metadata": {
        "id": "cg_89g2Km1OI",
        "colab_type": "code",
        "colab": {
          "base_uri": "https://localhost:8080/",
          "height": 362
        },
        "outputId": "46005f81-06e7-4cfb-b193-863f389fc4b4"
      },
      "cell_type": "code",
      "source": [
        "sizes = list(range(0, len(combined)))\n",
        "\n",
        "plt.rcParams[\"figure.figsize\"] = [8, 5]\n",
        "\n",
        "plt.plot(sizes, rf_fit_times, \"b-o\", label=\"Random Forest\")\n",
        "plt.plot(sizes, pca_fit_times, \"r-s\", label=\"PCA\")\n",
        "plt.plot(sizes, x_pca_fit_times, \"g-p\", label=\"PCA + RF\")\n",
        "\n",
        "plt.xlabel(\"Iteration\")\n",
        "plt.ylabel(\"Training time\")\n",
        "plt.title(\"Random Forest and PCA time complexity\")\n",
        "\n",
        "plt.show()"
      ],
      "execution_count": 251,
      "outputs": [
        {
          "output_type": "display_data",
          "data": {
            "image/png": "[encoded data removed]",
            "text/plain": [
              "<matplotlib.figure.Figure at 0x7f5d414f8978>"
            ]
          },
          "metadata": {
            "tags": []
          }
        }
      ]
    },
    {
      "metadata": {
        "id": "YirAZb61VDV8",
        "colab_type": "code",
        "colab": {}
      },
      "cell_type": "code",
      "source": [
        ""
      ],
      "execution_count": 0,
      "outputs": []
    }
  ]
}