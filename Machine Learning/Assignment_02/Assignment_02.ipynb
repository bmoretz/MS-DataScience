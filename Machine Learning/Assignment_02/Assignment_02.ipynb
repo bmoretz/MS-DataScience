{
  "nbformat": 4,
  "nbformat_minor": 0,
  "metadata": {
    "colab": {
      "name": "Assignment_02.ipynb",
      "version": "0.3.2",
      "provenance": [],
      "include_colab_link": true
    },
    "kernelspec": {
      "display_name": "Python 3",
      "language": "python",
      "name": "python3"
    }
  },
  "cells": [
    {
      "cell_type": "markdown",
      "metadata": {
        "id": "view-in-github",
        "colab_type": "text"
      },
      "source": [
        "<a href=\"https://colab.research.google.com/github/bmoretz/MSDS-MachineLearning/blob/master/Assignment_02/Assignment_02.ipynb\" target=\"_parent\"><img src=\"https://colab.research.google.com/assets/colab-badge.svg\" alt=\"Open In Colab\"/></a>"
      ]
    },
    {
      "metadata": {
        "id": "m241X7nlNdKQ",
        "colab_type": "text"
      },
      "cell_type": "markdown",
      "source": [
        "# Setup"
      ]
    },
    {
      "metadata": {
        "id": "jMjffes7z1Oa",
        "colab_type": "code",
        "colab": {}
      },
      "cell_type": "code",
      "source": [
        "import os\n",
        "%matplotlib inline\n",
        "import pandas as pd\n",
        "import numpy as np\n",
        "import matplotlib.pyplot as plt\n",
        "import seaborn as sns\n",
        "import urllib.request\n",
        "from pathlib import Path\n",
        "import urllib.parse\n",
        "import random\n",
        "\n",
        "# Where to save the figures\n",
        "PROJECT_ROOT_DIR = \".\"\n",
        "\n",
        "RANDOM_SEED = 1\n",
        "\n",
        "# santatize Dataset\n",
        "def santatize_set( dataframe ):\n",
        "    if dataframe.isnull().values.any() == True:\n",
        "        cleaned = dataframe.dropna()\n",
        "        print('Dropped {} invalid samples'.format(dataframe.count - cleaned.count))\n",
        "        dataframe = cleaned\n",
        "    return dataframe\n",
        "\n",
        "# saves a plot for reporting later. \n",
        "def save_fig(fig_id, tight_layout=True):\n",
        "    path = os.path.join(PROJECT_ROOT_DIR, \"images\", fig_id + \".png\")\n",
        "    print(\"Saving figure\", fig_id)\n",
        "    if tight_layout:\n",
        "        plt.tight_layout()\n",
        "    plt.savefig(path, format='png', dpi=300)"
      ],
      "execution_count": 0,
      "outputs": []
    },
    {
      "metadata": {
        "id": "Ed53sWGuOIy9",
        "colab_type": "text"
      },
      "cell_type": "markdown",
      "source": [
        "# Dataset"
      ]
    },
    {
      "metadata": {
        "id": "UZssBDUdz1Of",
        "colab_type": "code",
        "colab": {}
      },
      "cell_type": "code",
      "source": [
        "# fetch & load data\n",
        "DOWNLOAD_ROOT = \"https://raw.githubusercontent.com/bmoretz/MSDS-MachineLearning/master/\"\n",
        "DATA_PATH = \"datasets\"\n",
        "DATA_FILE = \"bank.csv\"\n",
        "FILE_URL = \"{}/{}/{}\".format(DOWNLOAD_ROOT, DATA_PATH, DATA_FILE)"
      ],
      "execution_count": 0,
      "outputs": []
    },
    {
      "metadata": {
        "id": "8fqE1TZpz1Om",
        "colab_type": "code",
        "colab": {}
      },
      "cell_type": "code",
      "source": [
        "# Load the CSV into a DataFrame\n",
        "bank = pd.read_csv(FILE_URL, sep = ';')"
      ],
      "execution_count": 0,
      "outputs": []
    },
    {
      "metadata": {
        "id": "sMjDaunRz1Ot",
        "colab_type": "code",
        "colab": {}
      },
      "cell_type": "code",
      "source": [
        "bank = santatize_set(bank)"
      ],
      "execution_count": 0,
      "outputs": []
    },
    {
      "metadata": {
        "id": "6bohRggDz1Ow",
        "colab_type": "code",
        "outputId": "f285ae36-b6f7-4cd8-e0ab-389bdd2f9928",
        "colab": {
          "base_uri": "https://localhost:8080/",
          "height": 306
        }
      },
      "cell_type": "code",
      "source": [
        "list(bank.columns.values)"
      ],
      "execution_count": 27,
      "outputs": [
        {
          "output_type": "execute_result",
          "data": {
            "text/plain": [
              "['age',\n",
              " 'job',\n",
              " 'marital',\n",
              " 'education',\n",
              " 'default',\n",
              " 'balance',\n",
              " 'housing',\n",
              " 'loan',\n",
              " 'contact',\n",
              " 'day',\n",
              " 'month',\n",
              " 'duration',\n",
              " 'campaign',\n",
              " 'pdays',\n",
              " 'previous',\n",
              " 'poutcome',\n",
              " 'response']"
            ]
          },
          "metadata": {
            "tags": []
          },
          "execution_count": 27
        }
      ]
    },
    {
      "metadata": {
        "id": "bl3hfvrCz1O2",
        "colab_type": "code",
        "outputId": "3224cad1-8f4c-41da-89ef-003ca24939b2",
        "colab": {
          "base_uri": "https://localhost:8080/",
          "height": 204
        }
      },
      "cell_type": "code",
      "source": [
        "# examine the raw data\n",
        "bank.head()"
      ],
      "execution_count": 28,
      "outputs": [
        {
          "output_type": "execute_result",
          "data": {
            "text/html": [
              "<div>\n",
              "<style scoped>\n",
              "    .dataframe tbody tr th:only-of-type {\n",
              "        vertical-align: middle;\n",
              "    }\n",
              "\n",
              "    .dataframe tbody tr th {\n",
              "        vertical-align: top;\n",
              "    }\n",
              "\n",
              "    .dataframe thead th {\n",
              "        text-align: right;\n",
              "    }\n",
              "</style>\n",
              "<table border=\"1\" class=\"dataframe\">\n",
              "  <thead>\n",
              "    <tr style=\"text-align: right;\">\n",
              "      <th></th>\n",
              "      <th>age</th>\n",
              "      <th>job</th>\n",
              "      <th>marital</th>\n",
              "      <th>education</th>\n",
              "      <th>default</th>\n",
              "      <th>balance</th>\n",
              "      <th>housing</th>\n",
              "      <th>loan</th>\n",
              "      <th>contact</th>\n",
              "      <th>day</th>\n",
              "      <th>month</th>\n",
              "      <th>duration</th>\n",
              "      <th>campaign</th>\n",
              "      <th>pdays</th>\n",
              "      <th>previous</th>\n",
              "      <th>poutcome</th>\n",
              "      <th>response</th>\n",
              "    </tr>\n",
              "  </thead>\n",
              "  <tbody>\n",
              "    <tr>\n",
              "      <th>0</th>\n",
              "      <td>30</td>\n",
              "      <td>unemployed</td>\n",
              "      <td>married</td>\n",
              "      <td>primary</td>\n",
              "      <td>no</td>\n",
              "      <td>1787</td>\n",
              "      <td>no</td>\n",
              "      <td>no</td>\n",
              "      <td>cellular</td>\n",
              "      <td>19</td>\n",
              "      <td>oct</td>\n",
              "      <td>79</td>\n",
              "      <td>1</td>\n",
              "      <td>-1</td>\n",
              "      <td>0</td>\n",
              "      <td>unknown</td>\n",
              "      <td>no</td>\n",
              "    </tr>\n",
              "    <tr>\n",
              "      <th>1</th>\n",
              "      <td>33</td>\n",
              "      <td>services</td>\n",
              "      <td>married</td>\n",
              "      <td>secondary</td>\n",
              "      <td>no</td>\n",
              "      <td>4789</td>\n",
              "      <td>yes</td>\n",
              "      <td>yes</td>\n",
              "      <td>cellular</td>\n",
              "      <td>11</td>\n",
              "      <td>may</td>\n",
              "      <td>220</td>\n",
              "      <td>1</td>\n",
              "      <td>339</td>\n",
              "      <td>4</td>\n",
              "      <td>failure</td>\n",
              "      <td>no</td>\n",
              "    </tr>\n",
              "    <tr>\n",
              "      <th>2</th>\n",
              "      <td>35</td>\n",
              "      <td>management</td>\n",
              "      <td>single</td>\n",
              "      <td>tertiary</td>\n",
              "      <td>no</td>\n",
              "      <td>1350</td>\n",
              "      <td>yes</td>\n",
              "      <td>no</td>\n",
              "      <td>cellular</td>\n",
              "      <td>16</td>\n",
              "      <td>apr</td>\n",
              "      <td>185</td>\n",
              "      <td>1</td>\n",
              "      <td>330</td>\n",
              "      <td>1</td>\n",
              "      <td>failure</td>\n",
              "      <td>no</td>\n",
              "    </tr>\n",
              "    <tr>\n",
              "      <th>3</th>\n",
              "      <td>30</td>\n",
              "      <td>management</td>\n",
              "      <td>married</td>\n",
              "      <td>tertiary</td>\n",
              "      <td>no</td>\n",
              "      <td>1476</td>\n",
              "      <td>yes</td>\n",
              "      <td>yes</td>\n",
              "      <td>unknown</td>\n",
              "      <td>3</td>\n",
              "      <td>jun</td>\n",
              "      <td>199</td>\n",
              "      <td>4</td>\n",
              "      <td>-1</td>\n",
              "      <td>0</td>\n",
              "      <td>unknown</td>\n",
              "      <td>no</td>\n",
              "    </tr>\n",
              "    <tr>\n",
              "      <th>4</th>\n",
              "      <td>59</td>\n",
              "      <td>blue-collar</td>\n",
              "      <td>married</td>\n",
              "      <td>secondary</td>\n",
              "      <td>no</td>\n",
              "      <td>0</td>\n",
              "      <td>yes</td>\n",
              "      <td>no</td>\n",
              "      <td>unknown</td>\n",
              "      <td>5</td>\n",
              "      <td>may</td>\n",
              "      <td>226</td>\n",
              "      <td>1</td>\n",
              "      <td>-1</td>\n",
              "      <td>0</td>\n",
              "      <td>unknown</td>\n",
              "      <td>no</td>\n",
              "    </tr>\n",
              "  </tbody>\n",
              "</table>\n",
              "</div>"
            ],
            "text/plain": [
              "   age          job  marital  education default  balance housing loan  \\\n",
              "0   30   unemployed  married    primary      no     1787      no   no   \n",
              "1   33     services  married  secondary      no     4789     yes  yes   \n",
              "2   35   management   single   tertiary      no     1350     yes   no   \n",
              "3   30   management  married   tertiary      no     1476     yes  yes   \n",
              "4   59  blue-collar  married  secondary      no        0     yes   no   \n",
              "\n",
              "    contact  day month  duration  campaign  pdays  previous poutcome response  \n",
              "0  cellular   19   oct        79         1     -1         0  unknown       no  \n",
              "1  cellular   11   may       220         1    339         4  failure       no  \n",
              "2  cellular   16   apr       185         1    330         1  failure       no  \n",
              "3   unknown    3   jun       199         4     -1         0  unknown       no  \n",
              "4   unknown    5   may       226         1     -1         0  unknown       no  "
            ]
          },
          "metadata": {
            "tags": []
          },
          "execution_count": 28
        }
      ]
    },
    {
      "metadata": {
        "id": "ZFKtA2ivz1O5",
        "colab_type": "code",
        "colab": {}
      },
      "cell_type": "code",
      "source": [
        "# mapping function to convert text no/yes to integer 0/1\n",
        "convert_to_binary = {'no' : 0, 'yes' : 1}"
      ],
      "execution_count": 0,
      "outputs": []
    },
    {
      "metadata": {
        "id": "uR271uP9z1O6",
        "colab_type": "code",
        "colab": {}
      },
      "cell_type": "code",
      "source": [
        "# Convert yes/no string to binary\n",
        "\n",
        "# Suggested baseline variables\n",
        "\n",
        "default = bank['default'].map(convert_to_binary)\n",
        "housing = bank['housing'].map(convert_to_binary)\n",
        "loan = bank['loan'].map(convert_to_binary)\n",
        "\n",
        "# response\n",
        "response = bank['response'].map(convert_to_binary)"
      ],
      "execution_count": 0,
      "outputs": []
    },
    {
      "metadata": {
        "id": "_mySJouxOj7U",
        "colab_type": "text"
      },
      "cell_type": "markdown",
      "source": [
        "# Data Exploration"
      ]
    },
    {
      "metadata": {
        "id": "PjWjov-5z1PB",
        "colab_type": "code",
        "outputId": "7b255094-967e-40a2-cff3-c22a0c3ede35",
        "colab": {
          "base_uri": "https://localhost:8080/",
          "height": 271
        }
      },
      "cell_type": "code",
      "source": [
        "bank['response'].value_counts().plot(kind=\"bar\")\n",
        "plt.show()"
      ],
      "execution_count": 32,
      "outputs": [
        {
          "output_type": "display_data",
          "data": {
            "image/png": "[encoded data removed]",
            "text/plain": [
              "<matplotlib.figure.Figure at 0x7fe50703a240>"
            ]
          },
          "metadata": {
            "tags": []
          }
        }
      ]
    },
    {
      "metadata": {
        "id": "m5tZSeUjz1PE",
        "colab_type": "code",
        "outputId": "4c8eb9be-06c8-4d32-81aa-fdef69b2a9c9",
        "colab": {
          "base_uri": "https://localhost:8080/",
          "height": 34
        }
      },
      "cell_type": "code",
      "source": [
        "( response == 1 ).sum() / len(response) * 100"
      ],
      "execution_count": 33,
      "outputs": [
        {
          "output_type": "execute_result",
          "data": {
            "text/plain": [
              "11.523999115239992"
            ]
          },
          "metadata": {
            "tags": []
          },
          "execution_count": 33
        }
      ]
    },
    {
      "metadata": {
        "id": "9BHlATTLz1PH",
        "colab_type": "code",
        "outputId": "556e3a1f-a058-4574-c179-66282fb253de",
        "colab": {
          "base_uri": "https://localhost:8080/",
          "height": 142
        }
      },
      "cell_type": "code",
      "source": [
        "# What does the average 'yes' person look like?\n",
        "pd.options.display.float_format = '{:,.2f}'.format\n",
        "bank.groupby('response').mean() # Note higher balance and duration in 'yes'"
      ],
      "execution_count": 34,
      "outputs": [
        {
          "output_type": "execute_result",
          "data": {
            "text/html": [
              "<div>\n",
              "<style scoped>\n",
              "    .dataframe tbody tr th:only-of-type {\n",
              "        vertical-align: middle;\n",
              "    }\n",
              "\n",
              "    .dataframe tbody tr th {\n",
              "        vertical-align: top;\n",
              "    }\n",
              "\n",
              "    .dataframe thead th {\n",
              "        text-align: right;\n",
              "    }\n",
              "</style>\n",
              "<table border=\"1\" class=\"dataframe\">\n",
              "  <thead>\n",
              "    <tr style=\"text-align: right;\">\n",
              "      <th></th>\n",
              "      <th>age</th>\n",
              "      <th>balance</th>\n",
              "      <th>day</th>\n",
              "      <th>duration</th>\n",
              "      <th>campaign</th>\n",
              "      <th>pdays</th>\n",
              "      <th>previous</th>\n",
              "    </tr>\n",
              "    <tr>\n",
              "      <th>response</th>\n",
              "      <th></th>\n",
              "      <th></th>\n",
              "      <th></th>\n",
              "      <th></th>\n",
              "      <th></th>\n",
              "      <th></th>\n",
              "      <th></th>\n",
              "    </tr>\n",
              "  </thead>\n",
              "  <tbody>\n",
              "    <tr>\n",
              "      <th>no</th>\n",
              "      <td>41.00</td>\n",
              "      <td>1,403.21</td>\n",
              "      <td>15.95</td>\n",
              "      <td>226.35</td>\n",
              "      <td>2.86</td>\n",
              "      <td>36.01</td>\n",
              "      <td>0.47</td>\n",
              "    </tr>\n",
              "    <tr>\n",
              "      <th>yes</th>\n",
              "      <td>42.49</td>\n",
              "      <td>1,571.96</td>\n",
              "      <td>15.66</td>\n",
              "      <td>552.74</td>\n",
              "      <td>2.27</td>\n",
              "      <td>68.64</td>\n",
              "      <td>1.09</td>\n",
              "    </tr>\n",
              "  </tbody>\n",
              "</table>\n",
              "</div>"
            ],
            "text/plain": [
              "           age  balance   day  duration  campaign  pdays  previous\n",
              "response                                                          \n",
              "no       41.00 1,403.21 15.95    226.35      2.86  36.01      0.47\n",
              "yes      42.49 1,571.96 15.66    552.74      2.27  68.64      1.09"
            ]
          },
          "metadata": {
            "tags": []
          },
          "execution_count": 34
        }
      ]
    },
    {
      "metadata": {
        "id": "zhVNWGxGz1PK",
        "colab_type": "code",
        "outputId": "fa6b177a-5369-43ff-f76f-d47cba0cd4a4",
        "colab": {
          "base_uri": "https://localhost:8080/",
          "height": 335
        }
      },
      "cell_type": "code",
      "source": [
        "# All Customers\n",
        "distributions = bank[['age', 'balance', 'duration', 'pdays']].hist( bins = 5, figsize=(15, 5), layout=(1,4))"
      ],
      "execution_count": 35,
      "outputs": [
        {
          "output_type": "display_data",
          "data": {
            "image/png": "[encoded data removed]",
            "text/plain": [
              "<matplotlib.figure.Figure at 0x7fe5046dd630>"
            ]
          },
          "metadata": {
            "tags": []
          }
        }
      ]
    },
    {
      "metadata": {
        "id": "r5q239eEz1PQ",
        "colab_type": "code",
        "outputId": "dcbcb8ba-2f8b-4cc9-8126-f3f21ac3ef70",
        "colab": {
          "base_uri": "https://localhost:8080/",
          "height": 335
        }
      },
      "cell_type": "code",
      "source": [
        "# Participating Customers\n",
        "distributions = bank[response == 1][['age', 'balance', 'duration', 'pdays']].hist( bins = 5, figsize=(15, 5), layout=(1,4))"
      ],
      "execution_count": 36,
      "outputs": [
        {
          "output_type": "display_data",
          "data": {
            "image/png": "[encoded data removed]",
            "text/plain": [
              "<matplotlib.figure.Figure at 0x7fe5045e6a58>"
            ]
          },
          "metadata": {
            "tags": []
          }
        }
      ]
    },
    {
      "metadata": {
        "id": "h_va_2X3z1PU",
        "colab_type": "code",
        "colab": {}
      },
      "cell_type": "code",
      "source": [
        "def get_pct_interest( df ):\n",
        "    return 'Interested: {:.2f}'.format( ( df['yes'] / df['no'] ) * 100 )"
      ],
      "execution_count": 0,
      "outputs": []
    },
    {
      "metadata": {
        "id": "FRlXrlaFz1PY",
        "colab_type": "code",
        "outputId": "4bd2a43d-95af-4286-c721-9fbe31421a11",
        "colab": {
          "base_uri": "https://localhost:8080/",
          "height": 68
        }
      },
      "cell_type": "code",
      "source": [
        "balances = bank[(bank['balance'] > 5000) & (bank['balance'] < 10000)]['response'].value_counts()\n",
        "balances"
      ],
      "execution_count": 38,
      "outputs": [
        {
          "output_type": "execute_result",
          "data": {
            "text/plain": [
              "no     188\n",
              "yes     29\n",
              "Name: response, dtype: int64"
            ]
          },
          "metadata": {
            "tags": []
          },
          "execution_count": 38
        }
      ]
    },
    {
      "metadata": {
        "id": "BhySIoyTz1Pc",
        "colab_type": "code",
        "outputId": "f95509cd-33d9-4d73-fd6f-0f8c5a490baa",
        "colab": {
          "base_uri": "https://localhost:8080/",
          "height": 34
        }
      },
      "cell_type": "code",
      "source": [
        "get_pct_interest(balances)"
      ],
      "execution_count": 39,
      "outputs": [
        {
          "output_type": "execute_result",
          "data": {
            "text/plain": [
              "'Interested: 15.43'"
            ]
          },
          "metadata": {
            "tags": []
          },
          "execution_count": 39
        }
      ]
    },
    {
      "metadata": {
        "id": "UmF5T6GNz1Pg",
        "colab_type": "code",
        "outputId": "608fe8e4-7878-4bcd-eaa5-197a4c84aad9",
        "colab": {
          "base_uri": "https://localhost:8080/",
          "height": 271
        }
      },
      "cell_type": "code",
      "source": [
        "balances.plot(kind=\"bar\")\n",
        "plt.show()"
      ],
      "execution_count": 40,
      "outputs": [
        {
          "output_type": "display_data",
          "data": {
            "image/png": "[encoded data removed]",
            "text/plain": [
              "<matplotlib.figure.Figure at 0x7fe504591da0>"
            ]
          },
          "metadata": {
            "tags": []
          }
        }
      ]
    },
    {
      "metadata": {
        "id": "cnFx4HyMz1Pk",
        "colab_type": "code",
        "outputId": "da55e32d-ec1f-4308-be2e-7666f90ef012",
        "colab": {
          "base_uri": "https://localhost:8080/",
          "height": 68
        }
      },
      "cell_type": "code",
      "source": [
        "# break-down of loan for targeted customers\n",
        "loans = bank[response == 1]['loan'].value_counts()\n",
        "loans"
      ],
      "execution_count": 41,
      "outputs": [
        {
          "output_type": "execute_result",
          "data": {
            "text/plain": [
              "no     478\n",
              "yes     43\n",
              "Name: loan, dtype: int64"
            ]
          },
          "metadata": {
            "tags": []
          },
          "execution_count": 41
        }
      ]
    },
    {
      "metadata": {
        "id": "aWJhXL4lz1Po",
        "colab_type": "code",
        "outputId": "bde9fcb1-a1bb-4c43-990e-2a3fb2edc24c",
        "colab": {
          "base_uri": "https://localhost:8080/",
          "height": 34
        }
      },
      "cell_type": "code",
      "source": [
        "get_pct_interest(loans)"
      ],
      "execution_count": 42,
      "outputs": [
        {
          "output_type": "execute_result",
          "data": {
            "text/plain": [
              "'Interested: 9.00'"
            ]
          },
          "metadata": {
            "tags": []
          },
          "execution_count": 42
        }
      ]
    },
    {
      "metadata": {
        "id": "EySC4nMlz1Ps",
        "colab_type": "code",
        "outputId": "1cec9b99-46d3-4235-d4a7-c2185aefd9c2",
        "colab": {
          "base_uri": "https://localhost:8080/",
          "height": 274
        }
      },
      "cell_type": "code",
      "source": [
        "loans.plot(kind=\"bar\")\n",
        "plt.show()"
      ],
      "execution_count": 43,
      "outputs": [
        {
          "output_type": "display_data",
          "data": {
            "image/png": "[encoded data removed]",
            "text/plain": [
              "<matplotlib.figure.Figure at 0x7fe504489390>"
            ]
          },
          "metadata": {
            "tags": []
          }
        }
      ]
    },
    {
      "metadata": {
        "id": "CSrp1sXwz1Pv",
        "colab_type": "code",
        "outputId": "3c85782b-eecc-4d5b-d8a7-4ae99ae3eee4",
        "colab": {
          "base_uri": "https://localhost:8080/",
          "height": 68
        }
      },
      "cell_type": "code",
      "source": [
        "# break-down of default for targeted customers\n",
        "defaults = bank[response == 1]['default'].value_counts()\n",
        "defaults"
      ],
      "execution_count": 44,
      "outputs": [
        {
          "output_type": "execute_result",
          "data": {
            "text/plain": [
              "no     512\n",
              "yes      9\n",
              "Name: default, dtype: int64"
            ]
          },
          "metadata": {
            "tags": []
          },
          "execution_count": 44
        }
      ]
    },
    {
      "metadata": {
        "id": "Z3ZuAmaFz1P0",
        "colab_type": "code",
        "outputId": "9403359b-6bfd-470f-bc59-3e56716db2f0",
        "colab": {
          "base_uri": "https://localhost:8080/",
          "height": 34
        }
      },
      "cell_type": "code",
      "source": [
        "get_pct_interest(defaults)"
      ],
      "execution_count": 45,
      "outputs": [
        {
          "output_type": "execute_result",
          "data": {
            "text/plain": [
              "'Interested: 1.76'"
            ]
          },
          "metadata": {
            "tags": []
          },
          "execution_count": 45
        }
      ]
    },
    {
      "metadata": {
        "id": "qpGE5bnLz1P4",
        "colab_type": "code",
        "outputId": "618ca56f-bacb-44d0-c87e-f3faf5bcb4ae",
        "colab": {
          "base_uri": "https://localhost:8080/",
          "height": 271
        }
      },
      "cell_type": "code",
      "source": [
        "defaults.plot(kind='bar')\n",
        "plt.show()"
      ],
      "execution_count": 46,
      "outputs": [
        {
          "output_type": "display_data",
          "data": {
            "image/png": "[encoded data removed]",
            "text/plain": [
              "<matplotlib.figure.Figure at 0x7fe504420470>"
            ]
          },
          "metadata": {
            "tags": []
          }
        }
      ]
    },
    {
      "metadata": {
        "id": "rwtQHJaoz1P9",
        "colab_type": "code",
        "outputId": "49645917-95e7-4261-ecc8-3a5346100e68",
        "colab": {
          "base_uri": "https://localhost:8080/",
          "height": 309
        }
      },
      "cell_type": "code",
      "source": [
        "# Use age distribution to cut into bins\n",
        "bank['age_group'] = pd.cut(bank.age, bins=[g for g in range(20, 90, 5)], include_lowest=True)\n",
        "bank.head()"
      ],
      "execution_count": 47,
      "outputs": [
        {
          "output_type": "execute_result",
          "data": {
            "text/html": [
              "<div>\n",
              "<style scoped>\n",
              "    .dataframe tbody tr th:only-of-type {\n",
              "        vertical-align: middle;\n",
              "    }\n",
              "\n",
              "    .dataframe tbody tr th {\n",
              "        vertical-align: top;\n",
              "    }\n",
              "\n",
              "    .dataframe thead th {\n",
              "        text-align: right;\n",
              "    }\n",
              "</style>\n",
              "<table border=\"1\" class=\"dataframe\">\n",
              "  <thead>\n",
              "    <tr style=\"text-align: right;\">\n",
              "      <th></th>\n",
              "      <th>age</th>\n",
              "      <th>job</th>\n",
              "      <th>marital</th>\n",
              "      <th>education</th>\n",
              "      <th>default</th>\n",
              "      <th>balance</th>\n",
              "      <th>housing</th>\n",
              "      <th>loan</th>\n",
              "      <th>contact</th>\n",
              "      <th>day</th>\n",
              "      <th>month</th>\n",
              "      <th>duration</th>\n",
              "      <th>campaign</th>\n",
              "      <th>pdays</th>\n",
              "      <th>previous</th>\n",
              "      <th>poutcome</th>\n",
              "      <th>response</th>\n",
              "      <th>age_group</th>\n",
              "    </tr>\n",
              "  </thead>\n",
              "  <tbody>\n",
              "    <tr>\n",
              "      <th>0</th>\n",
              "      <td>30</td>\n",
              "      <td>unemployed</td>\n",
              "      <td>married</td>\n",
              "      <td>primary</td>\n",
              "      <td>no</td>\n",
              "      <td>1787</td>\n",
              "      <td>no</td>\n",
              "      <td>no</td>\n",
              "      <td>cellular</td>\n",
              "      <td>19</td>\n",
              "      <td>oct</td>\n",
              "      <td>79</td>\n",
              "      <td>1</td>\n",
              "      <td>-1</td>\n",
              "      <td>0</td>\n",
              "      <td>unknown</td>\n",
              "      <td>no</td>\n",
              "      <td>(25.0, 30.0]</td>\n",
              "    </tr>\n",
              "    <tr>\n",
              "      <th>1</th>\n",
              "      <td>33</td>\n",
              "      <td>services</td>\n",
              "      <td>married</td>\n",
              "      <td>secondary</td>\n",
              "      <td>no</td>\n",
              "      <td>4789</td>\n",
              "      <td>yes</td>\n",
              "      <td>yes</td>\n",
              "      <td>cellular</td>\n",
              "      <td>11</td>\n",
              "      <td>may</td>\n",
              "      <td>220</td>\n",
              "      <td>1</td>\n",
              "      <td>339</td>\n",
              "      <td>4</td>\n",
              "      <td>failure</td>\n",
              "      <td>no</td>\n",
              "      <td>(30.0, 35.0]</td>\n",
              "    </tr>\n",
              "    <tr>\n",
              "      <th>2</th>\n",
              "      <td>35</td>\n",
              "      <td>management</td>\n",
              "      <td>single</td>\n",
              "      <td>tertiary</td>\n",
              "      <td>no</td>\n",
              "      <td>1350</td>\n",
              "      <td>yes</td>\n",
              "      <td>no</td>\n",
              "      <td>cellular</td>\n",
              "      <td>16</td>\n",
              "      <td>apr</td>\n",
              "      <td>185</td>\n",
              "      <td>1</td>\n",
              "      <td>330</td>\n",
              "      <td>1</td>\n",
              "      <td>failure</td>\n",
              "      <td>no</td>\n",
              "      <td>(30.0, 35.0]</td>\n",
              "    </tr>\n",
              "    <tr>\n",
              "      <th>3</th>\n",
              "      <td>30</td>\n",
              "      <td>management</td>\n",
              "      <td>married</td>\n",
              "      <td>tertiary</td>\n",
              "      <td>no</td>\n",
              "      <td>1476</td>\n",
              "      <td>yes</td>\n",
              "      <td>yes</td>\n",
              "      <td>unknown</td>\n",
              "      <td>3</td>\n",
              "      <td>jun</td>\n",
              "      <td>199</td>\n",
              "      <td>4</td>\n",
              "      <td>-1</td>\n",
              "      <td>0</td>\n",
              "      <td>unknown</td>\n",
              "      <td>no</td>\n",
              "      <td>(25.0, 30.0]</td>\n",
              "    </tr>\n",
              "    <tr>\n",
              "      <th>4</th>\n",
              "      <td>59</td>\n",
              "      <td>blue-collar</td>\n",
              "      <td>married</td>\n",
              "      <td>secondary</td>\n",
              "      <td>no</td>\n",
              "      <td>0</td>\n",
              "      <td>yes</td>\n",
              "      <td>no</td>\n",
              "      <td>unknown</td>\n",
              "      <td>5</td>\n",
              "      <td>may</td>\n",
              "      <td>226</td>\n",
              "      <td>1</td>\n",
              "      <td>-1</td>\n",
              "      <td>0</td>\n",
              "      <td>unknown</td>\n",
              "      <td>no</td>\n",
              "      <td>(55.0, 60.0]</td>\n",
              "    </tr>\n",
              "  </tbody>\n",
              "</table>\n",
              "</div>"
            ],
            "text/plain": [
              "   age          job  marital  education default  balance housing loan  \\\n",
              "0   30   unemployed  married    primary      no     1787      no   no   \n",
              "1   33     services  married  secondary      no     4789     yes  yes   \n",
              "2   35   management   single   tertiary      no     1350     yes   no   \n",
              "3   30   management  married   tertiary      no     1476     yes  yes   \n",
              "4   59  blue-collar  married  secondary      no        0     yes   no   \n",
              "\n",
              "    contact  day month  duration  campaign  pdays  previous poutcome response  \\\n",
              "0  cellular   19   oct        79         1     -1         0  unknown       no   \n",
              "1  cellular   11   may       220         1    339         4  failure       no   \n",
              "2  cellular   16   apr       185         1    330         1  failure       no   \n",
              "3   unknown    3   jun       199         4     -1         0  unknown       no   \n",
              "4   unknown    5   may       226         1     -1         0  unknown       no   \n",
              "\n",
              "      age_group  \n",
              "0  (25.0, 30.0]  \n",
              "1  (30.0, 35.0]  \n",
              "2  (30.0, 35.0]  \n",
              "3  (25.0, 30.0]  \n",
              "4  (55.0, 60.0]  "
            ]
          },
          "metadata": {
            "tags": []
          },
          "execution_count": 47
        }
      ]
    },
    {
      "metadata": {
        "id": "ddvUAoR8z1QC",
        "colab_type": "code",
        "outputId": "c1264d5a-c99c-4d99-9c41-0d3023046d81",
        "colab": {
          "base_uri": "https://localhost:8080/",
          "height": 563
        }
      },
      "cell_type": "code",
      "source": [
        "# age classification\n",
        "fig=plt.figure()\n",
        "fig, ax = plt.subplots(figsize=(12,8))\n",
        "sns.countplot(y='response', hue='age_group', data=bank, palette=\"Blues_d\")\n",
        "plt.title('Response by Age Group')\n",
        "plt.show()"
      ],
      "execution_count": 48,
      "outputs": [
        {
          "output_type": "stream",
          "text": [
            "/usr/local/lib/python3.6/dist-packages/seaborn/categorical.py:1468: FutureWarning: remove_na is deprecated and is a private function. Do not use.\n",
            "  stat_data = remove_na(group_data[hue_mask])\n"
          ],
          "name": "stderr"
        },
        {
          "output_type": "display_data",
          "data": {
            "text/plain": [
              "<matplotlib.figure.Figure at 0x7fe504409780>"
            ]
          },
          "metadata": {
            "tags": []
          }
        },
        {
          "output_type": "display_data",
          "data": {
            "image/png": "[encoded data removed]",
            "text/plain": [
              "<matplotlib.figure.Figure at 0x7fe504409f98>"
            ]
          },
          "metadata": {
            "tags": []
          }
        }
      ]
    },
    {
      "metadata": {
        "id": "jL36Wovyz1QE",
        "colab_type": "code",
        "colab": {}
      },
      "cell_type": "code",
      "source": [
        "# Cut balances into 'groups'.\n",
        "balance_intervals = pd.cut(bank.balance, bins=[g for g in range(-5000, 72000, 2500)], include_lowest=True) # bin avg balance by group"
      ],
      "execution_count": 0,
      "outputs": []
    },
    {
      "metadata": {
        "id": "Iv3hCPkDz1QH",
        "colab_type": "code",
        "outputId": "7ca225dd-3425-46bf-a749-0f2185bee86c",
        "colab": {
          "base_uri": "https://localhost:8080/",
          "height": 170
        }
      },
      "cell_type": "code",
      "source": [
        "balance_intervals.head()"
      ],
      "execution_count": 50,
      "outputs": [
        {
          "output_type": "execute_result",
          "data": {
            "text/plain": [
              "0       (0.0, 2500.0]\n",
              "1    (2500.0, 5000.0]\n",
              "2       (0.0, 2500.0]\n",
              "3       (0.0, 2500.0]\n",
              "4      (-2500.0, 0.0]\n",
              "Name: balance, dtype: category\n",
              "Categories (30, interval[float64]): [(-5000.001, -2500.0] < (-2500.0, 0.0] < (0.0, 2500.0] <\n",
              "                                     (2500.0, 5000.0] ... (60000.0, 62500.0] < (62500.0, 65000.0] <\n",
              "                                     (65000.0, 67500.0] < (67500.0, 70000.0]]"
            ]
          },
          "metadata": {
            "tags": []
          },
          "execution_count": 50
        }
      ]
    },
    {
      "metadata": {
        "id": "I7bAjIvBz1QK",
        "colab_type": "code",
        "colab": {}
      },
      "cell_type": "code",
      "source": [
        "# We could potentially use the intervaled balance data transformed into a normalized value (0,1), however,\n",
        "# a regular min/max scaler should perform just as well."
      ],
      "execution_count": 0,
      "outputs": []
    },
    {
      "metadata": {
        "id": "e4AdSocnOqJx",
        "colab_type": "text"
      },
      "cell_type": "markdown",
      "source": [
        "# Model Setup"
      ]
    },
    {
      "metadata": {
        "id": "CllhonEIz1QL",
        "colab_type": "code",
        "colab": {}
      },
      "cell_type": "code",
      "source": [
        "from sklearn.preprocessing import MinMaxScaler"
      ],
      "execution_count": 0,
      "outputs": []
    },
    {
      "metadata": {
        "id": "fLID06HBz1QN",
        "colab_type": "code",
        "colab": {}
      },
      "cell_type": "code",
      "source": [
        "balance_transformed = ( bank.balance / 1.0 ).values.reshape(-1,1)"
      ],
      "execution_count": 0,
      "outputs": []
    },
    {
      "metadata": {
        "id": "uAGVl-6rz1QP",
        "colab_type": "code",
        "colab": {}
      },
      "cell_type": "code",
      "source": [
        "min_max_scaler = MinMaxScaler(feature_range=(0, 1)).fit(balance_transformed)"
      ],
      "execution_count": 0,
      "outputs": []
    },
    {
      "metadata": {
        "id": "RWW9TrTEz1QR",
        "colab_type": "code",
        "colab": {}
      },
      "cell_type": "code",
      "source": [
        "balance_scaled = min_max_scaler.transform(balance_transformed)"
      ],
      "execution_count": 0,
      "outputs": []
    },
    {
      "metadata": {
        "id": "81MJgJOyz1QT",
        "colab_type": "code",
        "outputId": "46ca91df-cc78-43a9-de96-cfcffc1eb727",
        "colab": {
          "base_uri": "https://localhost:8080/",
          "height": 280
        }
      },
      "cell_type": "code",
      "source": [
        "mm_scaler_plot = sns.distplot(balance_scaled).set_title('Balance Min/Max Scaler')"
      ],
      "execution_count": 56,
      "outputs": [
        {
          "output_type": "display_data",
          "data": {
            "image/png": "[encoded data removed]",
            "text/plain": [
              "<matplotlib.figure.Figure at 0x7fe503db7860>"
            ]
          },
          "metadata": {
            "tags": []
          }
        }
      ]
    },
    {
      "metadata": {
        "id": "dE0nuQmTz1QV",
        "colab_type": "code",
        "colab": {}
      },
      "cell_type": "code",
      "source": [
        "balance_norm = balance_scaled.flatten()"
      ],
      "execution_count": 0,
      "outputs": []
    },
    {
      "metadata": {
        "id": "E7nwn3tXz1QX",
        "colab_type": "code",
        "outputId": "7df76a7b-80af-4c22-ac39-4e424ad3cb68",
        "colab": {
          "base_uri": "https://localhost:8080/",
          "height": 34
        }
      },
      "cell_type": "code",
      "source": [
        "balance_norm.shape"
      ],
      "execution_count": 58,
      "outputs": [
        {
          "output_type": "execute_result",
          "data": {
            "text/plain": [
              "(4521,)"
            ]
          },
          "metadata": {
            "tags": []
          },
          "execution_count": 58
        }
      ]
    },
    {
      "metadata": {
        "id": "-TV1Abvmz1Qc",
        "colab_type": "code",
        "outputId": "8a05edd1-c19e-4b2b-848c-f36e1f14818a",
        "colab": {
          "base_uri": "https://localhost:8080/",
          "height": 34
        }
      },
      "cell_type": "code",
      "source": [
        "np.array(loan).shape"
      ],
      "execution_count": 59,
      "outputs": [
        {
          "output_type": "execute_result",
          "data": {
            "text/plain": [
              "(4521,)"
            ]
          },
          "metadata": {
            "tags": []
          },
          "execution_count": 59
        }
      ]
    },
    {
      "metadata": {
        "id": "Vg8_UZ1yz1Qe",
        "colab_type": "code",
        "outputId": "32583a85-1ef1-460e-97f1-1c16efcdc216",
        "colab": {
          "base_uri": "https://localhost:8080/",
          "height": 34
        }
      },
      "cell_type": "code",
      "source": [
        "np.array(default).shape"
      ],
      "execution_count": 60,
      "outputs": [
        {
          "output_type": "execute_result",
          "data": {
            "text/plain": [
              "(4521,)"
            ]
          },
          "metadata": {
            "tags": []
          },
          "execution_count": 60
        }
      ]
    },
    {
      "metadata": {
        "id": "GzmmpU5Kz1Qi",
        "colab_type": "code",
        "colab": {}
      },
      "cell_type": "code",
      "source": [
        "# Prepare Data for Model\n",
        "# Let's remove default, as this will simplifiy our model and it seems to have little impact on client interest.\n",
        "model_data = np.array( [ np.array(housing), np.array(loan), np.array(balance_norm), np.array(response)]).T"
      ],
      "execution_count": 0,
      "outputs": []
    },
    {
      "metadata": {
        "id": "XJrBeGM1z1Qk",
        "colab_type": "code",
        "outputId": "0910be2a-a7e9-435d-8d49-e78c781f2c46",
        "colab": {
          "base_uri": "https://localhost:8080/",
          "height": 85
        }
      },
      "cell_type": "code",
      "source": [
        "np.array( [np.array(loan), np.array(balance_norm) ])"
      ],
      "execution_count": 62,
      "outputs": [
        {
          "output_type": "execute_result",
          "data": {
            "text/plain": [
              "array([[0.        , 1.        , 0.        , ..., 0.        , 0.        ,\n",
              "        1.        ],\n",
              "       [0.06845546, 0.10875022, 0.06258976, ..., 0.04842888, 0.05973074,\n",
              "        0.05971732]])"
            ]
          },
          "metadata": {
            "tags": []
          },
          "execution_count": 62
        }
      ]
    },
    {
      "metadata": {
        "id": "DPHzySwJz1Qr",
        "colab_type": "code",
        "colab": {}
      },
      "cell_type": "code",
      "source": [
        "assert len(bank) == len(model_data) # Ensure we have the same number of observations."
      ],
      "execution_count": 0,
      "outputs": []
    },
    {
      "metadata": {
        "id": "UPYi0xEoz1Qt",
        "colab_type": "code",
        "outputId": "f4dd60d6-4361-4ecc-fd19-8ea779a187e2",
        "colab": {
          "base_uri": "https://localhost:8080/",
          "height": 34
        }
      },
      "cell_type": "code",
      "source": [
        "model_data.shape"
      ],
      "execution_count": 64,
      "outputs": [
        {
          "output_type": "execute_result",
          "data": {
            "text/plain": [
              "(4521, 4)"
            ]
          },
          "metadata": {
            "tags": []
          },
          "execution_count": 64
        }
      ]
    },
    {
      "metadata": {
        "id": "z5tVXvZNz1Qz",
        "colab_type": "code",
        "colab": {}
      },
      "cell_type": "code",
      "source": [
        "# cross-validation scoring code adapted from Scikit Learn documentation\n",
        "from sklearn.metrics import roc_auc_score"
      ],
      "execution_count": 0,
      "outputs": []
    },
    {
      "metadata": {
        "collapsed": true,
        "id": "qo2BLbMPz1Q1",
        "colab_type": "code",
        "outputId": "7eff9827-264b-458e-f8f8-50284671606e",
        "colab": {
          "base_uri": "https://localhost:8080/",
          "height": 51
        }
      },
      "cell_type": "code",
      "source": [
        "# specify the set of classifiers being evaluated\n",
        "from sklearn.naive_bayes import BernoulliNB\n",
        "from sklearn.linear_model import LogisticRegression\n",
        "\n",
        "classifier_names = [\"Naive_Bayes\", \"Logistic_Regression\"]\n",
        "\n",
        "classifiers = [BernoulliNB(alpha=1.0, binarize=0.5, \n",
        "                           class_prior = [0.5, 0.5], fit_prior=False), \n",
        "               LogisticRegression(solver = 'lbfgs')]\n",
        "\n",
        "# dimensions of the additive model X input and y response\n",
        "print('\\nData dimensions:', model_data.shape)"
      ],
      "execution_count": 66,
      "outputs": [
        {
          "output_type": "stream",
          "text": [
            "\n",
            "Data dimensions: (4521, 4)\n"
          ],
          "name": "stdout"
        }
      ]
    },
    {
      "metadata": {
        "id": "b-5jXxYGz1Q6",
        "colab_type": "code",
        "colab": {}
      },
      "cell_type": "code",
      "source": [
        "# --------------------------------------------------------\n",
        "# specify the k-fold cross-validation design\n",
        "from sklearn.model_selection import KFold"
      ],
      "execution_count": 0,
      "outputs": []
    },
    {
      "metadata": {
        "id": "m-IS7CWGz1Q9",
        "colab_type": "code",
        "colab": {}
      },
      "cell_type": "code",
      "source": [
        "# ten-fold cross-validation employed here\n",
        "N_FOLDS = 10\n",
        "\n",
        "# set up numpy array for storing results\n",
        "cv_results = np.zeros((N_FOLDS, len(classifier_names)))"
      ],
      "execution_count": 0,
      "outputs": []
    },
    {
      "metadata": {
        "id": "Do_rLv5Dz1Q_",
        "colab_type": "code",
        "outputId": "74fd94c7-2104-4e5f-c080-fa24432392b9",
        "colab": {
          "base_uri": "https://localhost:8080/",
          "height": 3553
        }
      },
      "cell_type": "code",
      "source": [
        "kf = KFold(n_splits = N_FOLDS, shuffle=False, random_state = RANDOM_SEED)\n",
        "\n",
        "# check the splitting process by looking at fold observation counts\n",
        "index_for_fold = 0  # fold count initialized\n",
        "\n",
        "for train_index, test_index in kf.split(model_data):\n",
        "    print('\\nFold index:', index_for_fold,\n",
        "          '------------------------------------------')\n",
        "#   note that 0:model_data.shape[1]-1 slices for explanatory variables\n",
        "#   and model_data.shape[1]-1 is the index for the response variable    \n",
        "    X_train = model_data[train_index, 0:model_data.shape[1]-1]\n",
        "    X_test = model_data[test_index, 0:model_data.shape[1]-1]\n",
        "    y_train = model_data[train_index, model_data.shape[1]-1]\n",
        "    y_test = model_data[test_index, model_data.shape[1]-1]   \n",
        "\n",
        "    print('\\nShape of input data for this fold:',\n",
        "          '\\nData Set: (Observations, Variables)')\n",
        "    print('X_train:', X_train.shape)\n",
        "    print('X_test:',X_test.shape)\n",
        "    print('y_train:', y_train.shape)\n",
        "    print('y_test:',y_test.shape)\n",
        "\n",
        "    index_for_method = 0  # initialize\n",
        "    for name, clf in zip(classifier_names, classifiers):\n",
        "        print('\\nClassifier evaluation for:', name)\n",
        "        print('  Scikit Learn method:', clf)\n",
        "        clf.fit(X_train, y_train)  # fit on the train set for this fold\n",
        "        # evaluate on the test set for this fold\n",
        "        y_test_predict = clf.predict_proba(X_test)\n",
        "        fold_method_result = roc_auc_score(y_test, y_test_predict[:,1]) \n",
        "        print('Area under ROC curve:', fold_method_result)\n",
        "        cv_results[index_for_fold, index_for_method] = fold_method_result\n",
        "        index_for_method += 1\n",
        "  \n",
        "    index_for_fold += 1\n",
        "\n",
        "cv_results_df = pd.DataFrame(cv_results)\n",
        "cv_results_df.columns = classifier_names\n",
        "\n",
        "print('\\n----------------------------------------------')\n",
        "print('Average results from ', N_FOLDS, '-fold cross-validation\\n',\n",
        "      '\\nMethod                 Area under ROC Curve', sep = '')     \n",
        "print(cv_results_df.mean())"
      ],
      "execution_count": 69,
      "outputs": [
        {
          "output_type": "stream",
          "text": [
            "\n",
            "Fold index: 0 ------------------------------------------\n",
            "\n",
            "Shape of input data for this fold: \n",
            "Data Set: (Observations, Variables)\n",
            "X_train: (4068, 3)\n",
            "X_test: (453, 3)\n",
            "y_train: (4068,)\n",
            "y_test: (453,)\n",
            "\n",
            "Classifier evaluation for: Naive_Bayes\n",
            "  Scikit Learn method: BernoulliNB(alpha=1.0, binarize=0.5, class_prior=[0.5, 0.5], fit_prior=False)\n",
            "Area under ROC curve: 0.588184476342371\n",
            "\n",
            "Classifier evaluation for: Logistic_Regression\n",
            "  Scikit Learn method: LogisticRegression(C=1.0, class_weight=None, dual=False, fit_intercept=True,\n",
            "          intercept_scaling=1, max_iter=100, multi_class='ovr', n_jobs=1,\n",
            "          penalty='l2', random_state=None, solver='lbfgs', tol=0.0001,\n",
            "          verbose=0, warm_start=False)\n",
            "Area under ROC curve: 0.6086744639376218\n",
            "\n",
            "Fold index: 1 ------------------------------------------\n",
            "\n",
            "Shape of input data for this fold: \n",
            "Data Set: (Observations, Variables)\n",
            "X_train: (4069, 3)\n",
            "X_test: (452, 3)\n",
            "y_train: (4069,)\n",
            "y_test: (452,)\n",
            "\n",
            "Classifier evaluation for: Naive_Bayes\n",
            "  Scikit Learn method: BernoulliNB(alpha=1.0, binarize=0.5, class_prior=[0.5, 0.5], fit_prior=False)\n",
            "Area under ROC curve: 0.627704005140287\n",
            "\n",
            "Classifier evaluation for: Logistic_Regression\n",
            "  Scikit Learn method: LogisticRegression(C=1.0, class_weight=None, dual=False, fit_intercept=True,\n",
            "          intercept_scaling=1, max_iter=100, multi_class='ovr', n_jobs=1,\n",
            "          penalty='l2', random_state=None, solver='lbfgs', tol=0.0001,\n",
            "          verbose=0, warm_start=False)\n",
            "Area under ROC curve: 0.6794013707431998\n",
            "\n",
            "Fold index: 2 ------------------------------------------\n",
            "\n",
            "Shape of input data for this fold: \n",
            "Data Set: (Observations, Variables)\n",
            "X_train: (4069, 3)\n",
            "X_test: (452, 3)\n",
            "y_train: (4069,)\n",
            "y_test: (452,)\n",
            "\n",
            "Classifier evaluation for: Naive_Bayes\n",
            "  Scikit Learn method: BernoulliNB(alpha=1.0, binarize=0.5, class_prior=[0.5, 0.5], fit_prior=False)\n",
            "Area under ROC curve: 0.6587169613162961\n",
            "\n",
            "Classifier evaluation for: Logistic_Regression\n",
            "  Scikit Learn method: LogisticRegression(C=1.0, class_weight=None, dual=False, fit_intercept=True,\n",
            "          intercept_scaling=1, max_iter=100, multi_class='ovr', n_jobs=1,\n",
            "          penalty='l2', random_state=None, solver='lbfgs', tol=0.0001,\n",
            "          verbose=0, warm_start=False)\n",
            "Area under ROC curve: 0.6938342377034834\n",
            "\n",
            "Fold index: 3 ------------------------------------------\n",
            "\n",
            "Shape of input data for this fold: \n",
            "Data Set: (Observations, Variables)\n",
            "X_train: (4069, 3)\n",
            "X_test: (452, 3)\n",
            "y_train: (4069,)\n",
            "y_test: (452,)\n",
            "\n",
            "Classifier evaluation for: Naive_Bayes\n",
            "  Scikit Learn method: BernoulliNB(alpha=1.0, binarize=0.5, class_prior=[0.5, 0.5], fit_prior=False)\n",
            "Area under ROC curve: 0.6358687395553755\n",
            "\n",
            "Classifier evaluation for: Logistic_Regression\n",
            "  Scikit Learn method: LogisticRegression(C=1.0, class_weight=None, dual=False, fit_intercept=True,\n",
            "          intercept_scaling=1, max_iter=100, multi_class='ovr', n_jobs=1,\n",
            "          penalty='l2', random_state=None, solver='lbfgs', tol=0.0001,\n",
            "          verbose=0, warm_start=False)\n",
            "Area under ROC curve: 0.6426545804425989\n",
            "\n",
            "Fold index: 4 ------------------------------------------\n",
            "\n",
            "Shape of input data for this fold: \n",
            "Data Set: (Observations, Variables)\n",
            "X_train: (4069, 3)\n",
            "X_test: (452, 3)\n",
            "y_train: (4069,)\n",
            "y_test: (452,)\n",
            "\n",
            "Classifier evaluation for: Naive_Bayes\n",
            "  Scikit Learn method: BernoulliNB(alpha=1.0, binarize=0.5, class_prior=[0.5, 0.5], fit_prior=False)\n",
            "Area under ROC curve: 0.5741478344723492\n",
            "\n",
            "Classifier evaluation for: Logistic_Regression\n",
            "  Scikit Learn method: LogisticRegression(C=1.0, class_weight=None, dual=False, fit_intercept=True,\n",
            "          intercept_scaling=1, max_iter=100, multi_class='ovr', n_jobs=1,\n",
            "          penalty='l2', random_state=None, solver='lbfgs', tol=0.0001,\n",
            "          verbose=0, warm_start=False)\n",
            "Area under ROC curve: 0.600771456123433\n",
            "\n",
            "Fold index: 5 ------------------------------------------\n",
            "\n",
            "Shape of input data for this fold: \n",
            "Data Set: (Observations, Variables)\n",
            "X_train: (4069, 3)\n",
            "X_test: (452, 3)\n",
            "y_train: (4069,)\n",
            "y_test: (452,)\n",
            "\n",
            "Classifier evaluation for: Naive_Bayes\n",
            "  Scikit Learn method: BernoulliNB(alpha=1.0, binarize=0.5, class_prior=[0.5, 0.5], fit_prior=False)\n",
            "Area under ROC curve: 0.575841196368168\n",
            "\n",
            "Classifier evaluation for: Logistic_Regression\n",
            "  Scikit Learn method: LogisticRegression(C=1.0, class_weight=None, dual=False, fit_intercept=True,\n",
            "          intercept_scaling=1, max_iter=100, multi_class='ovr', n_jobs=1,\n",
            "          penalty='l2', random_state=None, solver='lbfgs', tol=0.0001,\n",
            "          verbose=0, warm_start=False)\n",
            "Area under ROC curve: 0.6109726425731411\n",
            "\n",
            "Fold index: 6 ------------------------------------------\n",
            "\n",
            "Shape of input data for this fold: \n",
            "Data Set: (Observations, Variables)\n",
            "X_train: (4069, 3)\n",
            "X_test: (452, 3)\n",
            "y_train: (4069,)\n",
            "y_test: (452,)\n",
            "\n",
            "Classifier evaluation for: Naive_Bayes\n",
            "  Scikit Learn method: BernoulliNB(alpha=1.0, binarize=0.5, class_prior=[0.5, 0.5], fit_prior=False)\n",
            "Area under ROC curve: 0.5654429555183323\n",
            "\n",
            "Classifier evaluation for: Logistic_Regression\n",
            "  Scikit Learn method: LogisticRegression(C=1.0, class_weight=None, dual=False, fit_intercept=True,\n",
            "          intercept_scaling=1, max_iter=100, multi_class='ovr', n_jobs=1,\n",
            "          penalty='l2', random_state=None, solver='lbfgs', tol=0.0001,\n",
            "          verbose=0, warm_start=False)\n",
            "Area under ROC curve: 0.6126233016936535\n",
            "\n",
            "Fold index: 7 ------------------------------------------\n",
            "\n",
            "Shape of input data for this fold: \n",
            "Data Set: (Observations, Variables)\n",
            "X_train: (4069, 3)\n",
            "X_test: (452, 3)\n",
            "y_train: (4069,)\n",
            "y_test: (452,)\n",
            "\n",
            "Classifier evaluation for: Naive_Bayes\n",
            "  Scikit Learn method: BernoulliNB(alpha=1.0, binarize=0.5, class_prior=[0.5, 0.5], fit_prior=False)\n",
            "Area under ROC curve: 0.7297794117647058\n",
            "\n",
            "Classifier evaluation for: Logistic_Regression\n",
            "  Scikit Learn method: LogisticRegression(C=1.0, class_weight=None, dual=False, fit_intercept=True,\n",
            "          intercept_scaling=1, max_iter=100, multi_class='ovr', n_jobs=1,\n",
            "          penalty='l2', random_state=None, solver='lbfgs', tol=0.0001,\n",
            "          verbose=0, warm_start=False)\n",
            "Area under ROC curve: 0.7661820409982174\n",
            "\n",
            "Fold index: 8 ------------------------------------------\n",
            "\n",
            "Shape of input data for this fold: \n",
            "Data Set: (Observations, Variables)\n",
            "X_train: (4069, 3)\n",
            "X_test: (452, 3)\n",
            "y_train: (4069,)\n",
            "y_test: (452,)\n",
            "\n",
            "Classifier evaluation for: Naive_Bayes\n",
            "  Scikit Learn method: BernoulliNB(alpha=1.0, binarize=0.5, class_prior=[0.5, 0.5], fit_prior=False)\n",
            "Area under ROC curve: 0.5681420532463234\n",
            "\n",
            "Classifier evaluation for: Logistic_Regression\n",
            "  Scikit Learn method: LogisticRegression(C=1.0, class_weight=None, dual=False, fit_intercept=True,\n",
            "          intercept_scaling=1, max_iter=100, multi_class='ovr', n_jobs=1,\n",
            "          penalty='l2', random_state=None, solver='lbfgs', tol=0.0001,\n",
            "          verbose=0, warm_start=False)\n",
            "Area under ROC curve: 0.5691823899371069\n",
            "\n",
            "Fold index: 9 ------------------------------------------\n",
            "\n",
            "Shape of input data for this fold: \n",
            "Data Set: (Observations, Variables)\n",
            "X_train: (4069, 3)\n",
            "X_test: (452, 3)\n",
            "y_train: (4069,)\n",
            "y_test: (452,)\n",
            "\n",
            "Classifier evaluation for: Naive_Bayes\n",
            "  Scikit Learn method: BernoulliNB(alpha=1.0, binarize=0.5, class_prior=[0.5, 0.5], fit_prior=False)\n",
            "Area under ROC curve: 0.5748730964467005\n",
            "\n",
            "Classifier evaluation for: Logistic_Regression\n",
            "  Scikit Learn method: LogisticRegression(C=1.0, class_weight=None, dual=False, fit_intercept=True,\n",
            "          intercept_scaling=1, max_iter=100, multi_class='ovr', n_jobs=1,\n",
            "          penalty='l2', random_state=None, solver='lbfgs', tol=0.0001,\n",
            "          verbose=0, warm_start=False)\n",
            "Area under ROC curve: 0.5684622790127779\n",
            "\n",
            "----------------------------------------------\n",
            "Average results from 10-fold cross-validation\n",
            "\n",
            "Method                 Area under ROC Curve\n",
            "Naive_Bayes           0.61\n",
            "Logistic_Regression   0.64\n",
            "dtype: float64\n"
          ],
          "name": "stdout"
        }
      ]
    },
    {
      "metadata": {
        "id": "54DI-jwHz1RC",
        "colab_type": "code",
        "colab": {}
      },
      "cell_type": "code",
      "source": [
        "# Save the cross-validation results.\n",
        "cv_results_df = pd.DataFrame(cv_results)\n",
        "cv_results_df.columns = classifier_names\n",
        "with open(\"cv-results.txt\", \"w\") as text_file:\n",
        "    text_file.write('\\nResults from '+ str(N_FOLDS) + '-fold cross-validation\\n'+\n",
        "                     '\\nMethod Area under ROC Curve:\\n'+ \n",
        "                     str(cv_results_df))"
      ],
      "execution_count": 0,
      "outputs": []
    },
    {
      "metadata": {
        "id": "FIvNG6Nlz1RD",
        "colab_type": "code",
        "outputId": "ebc6b9f2-0bfe-469f-c5b9-0f23ff75bb2e",
        "colab": {
          "base_uri": "https://localhost:8080/",
          "height": 68
        }
      },
      "cell_type": "code",
      "source": [
        "pd.options.display.float_format = '{:,.6f}'.format\n",
        "cv_results_df.mean() # same as the results in the display above"
      ],
      "execution_count": 71,
      "outputs": [
        {
          "output_type": "execute_result",
          "data": {
            "text/plain": [
              "Naive_Bayes           0.609870\n",
              "Logistic_Regression   0.635276\n",
              "dtype: float64"
            ]
          },
          "metadata": {
            "tags": []
          },
          "execution_count": 71
        }
      ]
    },
    {
      "metadata": {
        "id": "cKz-RrkmO0T8",
        "colab_type": "text"
      },
      "cell_type": "markdown",
      "source": [
        "# Cross-Validation"
      ]
    },
    {
      "metadata": {
        "id": "NT86AsBZz1RH",
        "colab_type": "code",
        "colab": {}
      },
      "cell_type": "code",
      "source": [
        "# --------------------------------------------------------\n",
        "# Select method and apply to specific test cases\n",
        "# --------------------------------------------------------\n",
        "my_default = np.array([1, 1, 1, 1, 0, 0, 0, 0], np.int32)\n",
        "my_housing = np.array([1, 1, 0, 0, 1, 1, 0, 0], np.int32)\n",
        "my_loan = np.array([1, 0, 1, 0, 1, 0, 1, 0], np.int32)\n",
        "my_balance = np.array([0.711511285478781, 0.0021481256355315725, 0.6445270302627165, 0.4290191027692939, 0.9745602622830137, 0.22044449870397131, 0.9525469584778188, 0.5836707211569383], np.float64)"
      ],
      "execution_count": 0,
      "outputs": []
    },
    {
      "metadata": {
        "id": "4LouZIbsz1RJ",
        "colab_type": "code",
        "colab": {}
      },
      "cell_type": "code",
      "source": [
        "my_X_test = np.vstack([ my_housing, my_loan, my_balance]).T"
      ],
      "execution_count": 0,
      "outputs": []
    },
    {
      "metadata": {
        "id": "F8DWVR5uz1RM",
        "colab_type": "code",
        "outputId": "bb096156-6e34-45ae-cd79-5ae2cbe25dc0",
        "colab": {
          "base_uri": "https://localhost:8080/",
          "height": 85
        }
      },
      "cell_type": "code",
      "source": [
        "# fit logistic regression to full data set\n",
        "clf = LogisticRegression( solver = 'lbfgs')\n",
        "X_train = model_data[:, 0:model_data.shape[1]-1]\n",
        "y_train = model_data[:, model_data.shape[1]-1]\n",
        "clf.fit(X_train, y_train)"
      ],
      "execution_count": 74,
      "outputs": [
        {
          "output_type": "execute_result",
          "data": {
            "text/plain": [
              "LogisticRegression(C=1.0, class_weight=None, dual=False, fit_intercept=True,\n",
              "          intercept_scaling=1, max_iter=100, multi_class='ovr', n_jobs=1,\n",
              "          penalty='l2', random_state=None, solver='lbfgs', tol=0.0001,\n",
              "          verbose=0, warm_start=False)"
            ]
          },
          "metadata": {
            "tags": []
          },
          "execution_count": 74
        }
      ]
    },
    {
      "metadata": {
        "id": "VXBucR5Zz1RO",
        "colab_type": "code",
        "colab": {}
      },
      "cell_type": "code",
      "source": [
        "# predict specific test cases\n",
        "y_my_test_predict = clf.predict_proba(my_X_test)"
      ],
      "execution_count": 0,
      "outputs": []
    },
    {
      "metadata": {
        "id": "7PzUei8Qz1RR",
        "colab_type": "code",
        "outputId": "5ebfeeb3-1ba7-4248-bb72-e6d7bedc5d57",
        "colab": {
          "base_uri": "https://localhost:8080/",
          "height": 51
        }
      },
      "cell_type": "code",
      "source": [
        "y_scores = clf.decision_function(my_X_test)\n",
        "y_scores"
      ],
      "execution_count": 76,
      "outputs": [
        {
          "output_type": "execute_result",
          "data": {
            "text/plain": [
              "array([-2.84598588, -2.28542119, -2.21818891, -1.53770368, -2.78211094,\n",
              "       -2.23241331, -2.14339388, -1.50015036])"
            ]
          },
          "metadata": {
            "tags": []
          },
          "execution_count": 76
        }
      ]
    },
    {
      "metadata": {
        "id": "Yjla5ceXO4WW",
        "colab_type": "text"
      },
      "cell_type": "markdown",
      "source": [
        "# Summary"
      ]
    },
    {
      "metadata": {
        "id": "SV_lnQMiz1RU",
        "colab_type": "code",
        "outputId": "bd1e8857-aa40-47a7-8b60-94b1a7667037",
        "colab": {
          "base_uri": "https://localhost:8080/",
          "height": 221
        }
      },
      "cell_type": "code",
      "source": [
        "# create DataFrame for displaying test cases and predicted probabilities\n",
        "my_targeting_df = pd.DataFrame(np.hstack([my_X_test, y_my_test_predict]))\n",
        "my_targeting_df.columns = ['housing', 'loan', 'balance',\n",
        "                           'predict_NO', 'predict_YES']\n",
        "print('\\n\\nLogistic regression model predictions for test cases:')\n",
        "print(my_targeting_df)"
      ],
      "execution_count": 77,
      "outputs": [
        {
          "output_type": "stream",
          "text": [
            "\n",
            "\n",
            "Logistic regression model predictions for test cases:\n",
            "   housing     loan  balance  predict_NO  predict_YES\n",
            "0 1.000000 1.000000 0.711511    0.945111     0.054889\n",
            "1 1.000000 0.000000 0.002148    0.907662     0.092338\n",
            "2 0.000000 1.000000 0.644527    0.901871     0.098129\n",
            "3 0.000000 0.000000 0.429019    0.823131     0.176869\n",
            "4 1.000000 1.000000 0.974560    0.941701     0.058299\n",
            "5 1.000000 0.000000 0.220444    0.903123     0.096877\n",
            "6 0.000000 1.000000 0.952547    0.895050     0.104950\n",
            "7 0.000000 0.000000 0.583671    0.817597     0.182403\n"
          ],
          "name": "stdout"
        }
      ]
    },
    {
      "metadata": {
        "id": "UwiHTPRKz1RZ",
        "colab_type": "code",
        "colab": {}
      },
      "cell_type": "code",
      "source": [
        ""
      ],
      "execution_count": 0,
      "outputs": []
    }
  ]
}