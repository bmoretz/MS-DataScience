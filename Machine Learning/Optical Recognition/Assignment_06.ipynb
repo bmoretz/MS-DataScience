{
  "nbformat": 4,
  "nbformat_minor": 0,
  "metadata": {
    "colab": {
      "name": "Assignment_06.ipynb",
      "version": "0.3.2",
      "provenance": [],
      "toc_visible": true,
      "include_colab_link": true
    },
    "kernelspec": {
      "display_name": "Python 3",
      "language": "python",
      "name": "python3"
    }
  },
  "cells": [
    {
      "cell_type": "markdown",
      "metadata": {
        "id": "view-in-github",
        "colab_type": "text"
      },
      "source": [
        "<a href=\"https://colab.research.google.com/github/bmoretz/MSDS-MachineLearning/blob/master/Assignment_06/Assignment_06.ipynb\" target=\"_parent\"><img src=\"https://colab.research.google.com/assets/colab-badge.svg\" alt=\"Open In Colab\"/></a>"
      ]
    },
    {
      "metadata": {
        "id": "sBnJGP7kvo9r",
        "colab_type": "text"
      },
      "cell_type": "markdown",
      "source": [
        "# Workspace Initialization"
      ]
    },
    {
      "metadata": {
        "id": "7RN7Fkvg5K5d",
        "colab_type": "text"
      },
      "cell_type": "markdown",
      "source": [
        "## Libraries & Standard Setup"
      ]
    },
    {
      "metadata": {
        "id": "sSLjb0O04sAU",
        "colab_type": "code",
        "outputId": "7a56a771-ac77-4aa7-a519-2281f456e0dd",
        "colab": {
          "base_uri": "https://localhost:8080/",
          "height": 748
        }
      },
      "cell_type": "code",
      "source": [
        "!pip install jupyterthemes"
      ],
      "execution_count": 4,
      "outputs": [
        {
          "output_type": "stream",
          "text": [
            "Requirement already satisfied: jupyterthemes in /usr/local/lib/python3.6/dist-packages (0.19.6)\n",
            "Requirement already satisfied: notebook>=5.6.0 in /usr/local/lib/python3.6/dist-packages (from jupyterthemes) (5.7.0)\n",
            "Requirement already satisfied: jupyter-core in /usr/local/lib/python3.6/dist-packages (from jupyterthemes) (4.4.0)\n",
            "Requirement already satisfied: matplotlib>=1.4.3 in /usr/local/lib/python3.6/dist-packages (from jupyterthemes) (2.1.2)\n",
            "Requirement already satisfied: lesscpy>=0.11.2 in /usr/local/lib/python3.6/dist-packages (from jupyterthemes) (0.13.0)\n",
            "Requirement already satisfied: ipython>=5.4.1 in /usr/local/lib/python3.6/dist-packages (from jupyterthemes) (5.5.0)\n",
            "Requirement already satisfied: jupyter-client>=5.2.0 in /usr/local/lib/python3.6/dist-packages (from notebook>=5.6.0->jupyterthemes) (5.2.3)\n",
            "Requirement already satisfied: nbformat in /usr/local/lib/python3.6/dist-packages (from notebook>=5.6.0->jupyterthemes) (4.4.0)\n",
            "Requirement already satisfied: prometheus-client in /usr/local/lib/python3.6/dist-packages (from notebook>=5.6.0->jupyterthemes) (0.4.2)\n",
            "Requirement already satisfied: ipython-genutils in /usr/local/lib/python3.6/dist-packages (from notebook>=5.6.0->jupyterthemes) (0.2.0)\n",
            "Requirement already satisfied: nbconvert in /usr/local/lib/python3.6/dist-packages (from notebook>=5.6.0->jupyterthemes) (5.4.0)\n",
            "Requirement already satisfied: tornado>=4 in /usr/local/lib/python3.6/dist-packages (from notebook>=5.6.0->jupyterthemes) (4.5.3)\n",
            "Requirement already satisfied: terminado>=0.8.1 in /usr/local/lib/python3.6/dist-packages (from notebook>=5.6.0->jupyterthemes) (0.8.1)\n",
            "Requirement already satisfied: Send2Trash in /usr/local/lib/python3.6/dist-packages (from notebook>=5.6.0->jupyterthemes) (1.5.0)\n",
            "Requirement already satisfied: traitlets>=4.2.1 in /usr/local/lib/python3.6/dist-packages (from notebook>=5.6.0->jupyterthemes) (4.3.2)\n",
            "Requirement already satisfied: ipykernel in /usr/local/lib/python3.6/dist-packages (from notebook>=5.6.0->jupyterthemes) (4.6.1)\n",
            "Requirement already satisfied: jinja2 in /usr/local/lib/python3.6/dist-packages (from notebook>=5.6.0->jupyterthemes) (2.10)\n",
            "Requirement already satisfied: pyzmq>=17 in /usr/local/lib/python3.6/dist-packages (from notebook>=5.6.0->jupyterthemes) (17.0.0)\n",
            "Requirement already satisfied: python-dateutil>=2.1 in /usr/local/lib/python3.6/dist-packages (from matplotlib>=1.4.3->jupyterthemes) (2.5.3)\n",
            "Requirement already satisfied: pytz in /usr/local/lib/python3.6/dist-packages (from matplotlib>=1.4.3->jupyterthemes) (2018.7)\n",
            "Requirement already satisfied: six>=1.10 in /usr/local/lib/python3.6/dist-packages (from matplotlib>=1.4.3->jupyterthemes) (1.11.0)\n",
            "Requirement already satisfied: cycler>=0.10 in /usr/local/lib/python3.6/dist-packages (from matplotlib>=1.4.3->jupyterthemes) (0.10.0)\n",
            "Requirement already satisfied: pyparsing!=2.0.4,!=2.1.2,!=2.1.6,>=2.0.1 in /usr/local/lib/python3.6/dist-packages (from matplotlib>=1.4.3->jupyterthemes) (2.3.0)\n",
            "Requirement already satisfied: numpy>=1.7.1 in /usr/local/lib/python3.6/dist-packages (from matplotlib>=1.4.3->jupyterthemes) (1.14.6)\n",
            "Requirement already satisfied: ply in /usr/local/lib/python3.6/dist-packages (from lesscpy>=0.11.2->jupyterthemes) (3.11)\n",
            "Requirement already satisfied: pickleshare in /usr/local/lib/python3.6/dist-packages (from ipython>=5.4.1->jupyterthemes) (0.7.5)\n",
            "Requirement already satisfied: decorator in /usr/local/lib/python3.6/dist-packages (from ipython>=5.4.1->jupyterthemes) (4.3.0)\n",
            "Requirement already satisfied: setuptools>=18.5 in /usr/local/lib/python3.6/dist-packages (from ipython>=5.4.1->jupyterthemes) (40.5.0)\n",
            "Requirement already satisfied: pexpect; sys_platform != \"win32\" in /usr/local/lib/python3.6/dist-packages (from ipython>=5.4.1->jupyterthemes) (4.6.0)\n",
            "Requirement already satisfied: simplegeneric>0.8 in /usr/local/lib/python3.6/dist-packages (from ipython>=5.4.1->jupyterthemes) (0.8.1)\n",
            "Requirement already satisfied: pygments in /usr/local/lib/python3.6/dist-packages (from ipython>=5.4.1->jupyterthemes) (2.1.3)\n",
            "Requirement already satisfied: prompt-toolkit<2.0.0,>=1.0.4 in /usr/local/lib/python3.6/dist-packages (from ipython>=5.4.1->jupyterthemes) (1.0.15)\n",
            "Requirement already satisfied: jsonschema!=2.5.0,>=2.4 in /usr/local/lib/python3.6/dist-packages (from nbformat->notebook>=5.6.0->jupyterthemes) (2.6.0)\n",
            "Requirement already satisfied: mistune>=0.8.1 in /usr/local/lib/python3.6/dist-packages (from nbconvert->notebook>=5.6.0->jupyterthemes) (0.8.4)\n",
            "Requirement already satisfied: defusedxml in /usr/local/lib/python3.6/dist-packages (from nbconvert->notebook>=5.6.0->jupyterthemes) (0.5.0)\n",
            "Requirement already satisfied: testpath in /usr/local/lib/python3.6/dist-packages (from nbconvert->notebook>=5.6.0->jupyterthemes) (0.4.2)\n",
            "Requirement already satisfied: bleach in /usr/local/lib/python3.6/dist-packages (from nbconvert->notebook>=5.6.0->jupyterthemes) (3.0.2)\n",
            "Requirement already satisfied: pandocfilters>=1.4.1 in /usr/local/lib/python3.6/dist-packages (from nbconvert->notebook>=5.6.0->jupyterthemes) (1.4.2)\n",
            "Requirement already satisfied: entrypoints>=0.2.2 in /usr/local/lib/python3.6/dist-packages (from nbconvert->notebook>=5.6.0->jupyterthemes) (0.2.3)\n",
            "Requirement already satisfied: ptyprocess; os_name != \"nt\" in /usr/local/lib/python3.6/dist-packages (from terminado>=0.8.1->notebook>=5.6.0->jupyterthemes) (0.6.0)\n",
            "Requirement already satisfied: MarkupSafe>=0.23 in /usr/local/lib/python3.6/dist-packages (from jinja2->notebook>=5.6.0->jupyterthemes) (1.1.0)\n",
            "Requirement already satisfied: wcwidth in /usr/local/lib/python3.6/dist-packages (from prompt-toolkit<2.0.0,>=1.0.4->ipython>=5.4.1->jupyterthemes) (0.1.7)\n",
            "Requirement already satisfied: webencodings in /usr/local/lib/python3.6/dist-packages (from bleach->nbconvert->notebook>=5.6.0->jupyterthemes) (0.5.1)\n"
          ],
          "name": "stdout"
        }
      ]
    },
    {
      "metadata": {
        "id": "qd7U8ykV0Yz0",
        "colab_type": "code",
        "colab": {}
      },
      "cell_type": "code",
      "source": [
        "%matplotlib inline\n",
        "\n",
        "import os\n",
        "\n",
        "# Core\n",
        "import pandas as pd\n",
        "import numpy as np\n",
        "\n",
        "# Visuals\n",
        "import matplotlib\n",
        "import matplotlib.pyplot as plt\n",
        "import seaborn as sns\n",
        "\n",
        "plt.rcParams['axes.labelsize'] = 14\n",
        "plt.rcParams['xtick.labelsize'] = 12\n",
        "plt.rcParams['ytick.labelsize'] = 12\n",
        "\n",
        "# jt themes\n",
        "from jupyterthemes import jtplot\n",
        "\n",
        "# IPython display\n",
        "from IPython.display import display\n",
        "\n",
        "from scipy.io import loadmat # for loading .MAT files\n",
        "import urllib.request"
      ],
      "execution_count": 0,
      "outputs": []
    },
    {
      "metadata": {
        "id": "qULKb8UEuv_q",
        "colab_type": "code",
        "colab": {}
      },
      "cell_type": "code",
      "source": [
        "import tensorflow as tf\n",
        "import time"
      ],
      "execution_count": 0,
      "outputs": []
    },
    {
      "metadata": {
        "id": "y8QGgWAR5AJM",
        "colab_type": "code",
        "outputId": "bbbc7f9b-3f85-4f33-e5cf-7f8006e2c958",
        "colab": {
          "base_uri": "https://localhost:8080/",
          "height": 257
        }
      },
      "cell_type": "code",
      "source": [
        "# Test Theme\n",
        "!jt -t grade3 -f fira -fs 115\n",
        "jtplot.style(theme='oceans16')\n",
        "\n",
        "# set \"context\" (paper, notebook, talk, poster)\n",
        "# scale font-size of ticklabels, legend, etc.\n",
        "# remove spines from x and y axes and make grid dashed\n",
        "jtplot.style(context='talk', fscale=1.4, spines=False, gridlines='--')\n",
        "\n",
        "# turn on X- and Y-axis tick marks (default=False)\n",
        "# turn off the axis grid lines (default=True)\n",
        "# and set the default figure size\n",
        "jtplot.style(ticks=True, grid=False, figsize=(6, 4.5))\n",
        "\n",
        "N = 50\n",
        "x = np.random.rand(N)\n",
        "y = np.random.rand(N)\n",
        "colors = np.random.rand(N)\n",
        "area = (30 * np.random.rand(N))**2\n",
        "\n",
        "plt.scatter(x, y, s=area, c=colors, alpha=0.5)\n",
        "plt.show()"
      ],
      "execution_count": 6,
      "outputs": [
        {
          "output_type": "display_data",
          "data": {
            "image/png": "[encoded data removed]",
            "text/plain": [
              "<matplotlib.figure.Figure at 0x7f4b361c4e80>"
            ]
          },
          "metadata": {
            "tags": []
          }
        }
      ]
    },
    {
      "metadata": {
        "id": "K-dr1bJG7nEX",
        "colab_type": "text"
      },
      "cell_type": "markdown",
      "source": [
        "Looks good. Let's roll."
      ]
    },
    {
      "metadata": {
        "id": "zDbJf-pz2Fpo",
        "colab_type": "code",
        "colab": {}
      },
      "cell_type": "code",
      "source": [
        "# santatize Dataset\n",
        "def santatize_set( dataframe ):\n",
        "    if dataframe.isnull().values.any() == True:\n",
        "        cleaned = dataframe.dropna()\n",
        "        print('Dropped {} invalid samples'.format(dataframe.count - cleaned.count))\n",
        "        dataframe = cleaned\n",
        "    return dataframe"
      ],
      "execution_count": 0,
      "outputs": []
    },
    {
      "metadata": {
        "id": "4SxIFj5j8q2I",
        "colab_type": "code",
        "colab": {}
      },
      "cell_type": "code",
      "source": [
        "# saves a plot for reporting later. \n",
        "def save_fig(fig_id, tight_layout=True):\n",
        "    path = os.path.join(PROJECT_ROOT_DIR, \"images\", fig_id + \".png\")\n",
        "    print(\"Saving figure\", fig_id)\n",
        "    if tight_layout:\n",
        "        plt.tight_layout()\n",
        "    plt.savefig(path, format='png', dpi=300)"
      ],
      "execution_count": 0,
      "outputs": []
    },
    {
      "metadata": {
        "id": "WOMi-itd0-F1",
        "colab_type": "code",
        "colab": {}
      },
      "cell_type": "code",
      "source": [
        "# to make this notebook's output stable across runs\n",
        "def reset_graph(seed=42):\n",
        "    tf.reset_default_graph()\n",
        "    tf.set_random_seed(seed)\n",
        "    np.random.seed(seed)"
      ],
      "execution_count": 0,
      "outputs": []
    },
    {
      "metadata": {
        "id": "ecjIzOF5dnu6",
        "colab_type": "text"
      },
      "cell_type": "markdown",
      "source": [
        "## Graphical Utility"
      ]
    },
    {
      "metadata": {
        "id": "QS1OsDhg7QJ7",
        "colab_type": "text"
      },
      "cell_type": "markdown",
      "source": [
        "Get an image from TensorFlow MNIST dataset."
      ]
    },
    {
      "metadata": {
        "id": "YwUJS8y4dp_s",
        "colab_type": "code",
        "colab": {}
      },
      "cell_type": "code",
      "source": [
        "def gen_image(arr):\n",
        "    two_d = (np.reshape(arr, (28, 28)) * 255).astype(np.uint8)\n",
        "    plt.imshow(two_d, interpolation='nearest')\n",
        "    return plt"
      ],
      "execution_count": 0,
      "outputs": []
    },
    {
      "metadata": {
        "id": "9QgN3nvPvzkD",
        "colab_type": "text"
      },
      "cell_type": "markdown",
      "source": [
        "# Project Dataset"
      ]
    },
    {
      "metadata": {
        "id": "v2lhUWKH2fzP",
        "colab_type": "text"
      },
      "cell_type": "markdown",
      "source": [
        "## MNIST Retrieval"
      ]
    },
    {
      "metadata": {
        "id": "1kmPts6scKV5",
        "colab_type": "text"
      },
      "cell_type": "markdown",
      "source": [
        "Use the MNIST dataset from TensorFlow."
      ]
    },
    {
      "metadata": {
        "id": "M1gwAJ0E0Uta",
        "colab_type": "code",
        "colab": {}
      },
      "cell_type": "code",
      "source": [
        "# Import MNIST data\n",
        "from tensorflow.examples.tutorials.mnist import input_data\n",
        "mnist = input_data.read_data_sets(\"MNIST_data/\", one_hot=True)"
      ],
      "execution_count": 0,
      "outputs": []
    },
    {
      "metadata": {
        "id": "TFWclIVudKTE",
        "colab_type": "text"
      },
      "cell_type": "markdown",
      "source": [
        "## MNIST Exploration"
      ]
    },
    {
      "metadata": {
        "id": "06Jw4luSwDWF",
        "colab_type": "text"
      },
      "cell_type": "markdown",
      "source": [
        "### Digits"
      ]
    },
    {
      "metadata": {
        "id": "N-p06ObleQsC",
        "colab_type": "text"
      },
      "cell_type": "markdown",
      "source": [
        "Let's grab some random images and inspect them."
      ]
    },
    {
      "metadata": {
        "id": "QCgxRPXw7y4m",
        "colab_type": "code",
        "colab": {
          "base_uri": "https://localhost:8080/",
          "height": 497
        },
        "outputId": "a7e585d8-2712-4d36-f8ca-7a55c7c54301"
      },
      "cell_type": "code",
      "source": [
        "batch_xs, batch_ys = mnist.test.next_batch(2)\n",
        "\n",
        "gen_image(batch_xs[0]).show()\n",
        "gen_image(batch_xs[1]).show()"
      ],
      "execution_count": 247,
      "outputs": [
        {
          "output_type": "display_data",
          "data": {
            "image/png": "[encoded data removed]",
            "text/plain": [
              "<matplotlib.figure.Figure at 0x7f4b11bd57b8>"
            ]
          },
          "metadata": {
            "tags": []
          }
        },
        {
          "output_type": "display_data",
          "data": {
            "image/png": "[encoded data removed]",
            "text/plain": [
              "<matplotlib.figure.Figure at 0x7f4b11c36cc0>"
            ]
          },
          "metadata": {
            "tags": []
          }
        }
      ]
    },
    {
      "metadata": {
        "id": "4Ja8TC6xeU9F",
        "colab_type": "text"
      },
      "cell_type": "markdown",
      "source": [
        "Let's grab a few more random images and display a grid so we can get a sense of the overall structure."
      ]
    },
    {
      "metadata": {
        "id": "SN38pmqkvb9H",
        "colab_type": "text"
      },
      "cell_type": "markdown",
      "source": [
        "# Model Initialization"
      ]
    },
    {
      "metadata": {
        "id": "nAoGPOmovNrg",
        "colab_type": "text"
      },
      "cell_type": "markdown",
      "source": [
        "## Network Parameters"
      ]
    },
    {
      "metadata": {
        "id": "b-SpQPaqvPPU",
        "colab_type": "code",
        "colab": {}
      },
      "cell_type": "code",
      "source": [
        "n_hidden_1 = 20 # 1st layer number of neurons\n",
        "n_hidden_2 = 20 # 2nd layer number of neurons \n",
        "n_hidden_3 = 20 # 3rd layer number of neurons\n",
        "n_hidden_4 = 20 # 4th layer number of neurons\n",
        "n_hidden_5 = 20 # 5th layer number of neurons\n",
        "n_input = 784   # MNIST data input (img shape: 28*28)\n",
        "n_classes = 10  # MNIST total classes (0-9 digits)"
      ],
      "execution_count": 0,
      "outputs": []
    },
    {
      "metadata": {
        "id": "0TAcWAXzvR08",
        "colab_type": "text"
      },
      "cell_type": "markdown",
      "source": [
        "## Graph Preparation"
      ]
    },
    {
      "metadata": {
        "id": "8_AXSE9AvPq7",
        "colab_type": "code",
        "colab": {}
      },
      "cell_type": "code",
      "source": [
        "X = tf.placeholder(\"float\", [None, n_input])\n",
        "Y = tf.placeholder(\"float\", [None, n_classes])"
      ],
      "execution_count": 0,
      "outputs": []
    },
    {
      "metadata": {
        "id": "eIXdOWb6wd26",
        "colab_type": "text"
      },
      "cell_type": "markdown",
      "source": [
        "Store layers, weights and bias."
      ]
    },
    {
      "metadata": {
        "id": "ELuQ1Yw6wl64",
        "colab_type": "text"
      },
      "cell_type": "markdown",
      "source": [
        "## Weights"
      ]
    },
    {
      "metadata": {
        "id": "IsKy5jizwb1t",
        "colab_type": "code",
        "colab": {}
      },
      "cell_type": "code",
      "source": [
        "weights = {\n",
        "    'h1': tf.Variable(tf.random_normal([n_input, n_hidden_1])),\n",
        "    'h2': tf.Variable(tf.random_normal([n_hidden_1, n_hidden_2])),\n",
        "    'h3': tf.Variable(tf.random_normal([n_hidden_2, n_hidden_3])),\n",
        "    'h4': tf.Variable(tf.random_normal([n_hidden_3, n_hidden_4])),\n",
        "    'h5': tf.Variable(tf.random_normal([n_hidden_4, n_hidden_5])),\n",
        "    'out': tf.Variable(tf.random_normal([n_hidden_5, n_classes]))\n",
        "}"
      ],
      "execution_count": 0,
      "outputs": []
    },
    {
      "metadata": {
        "id": "FMBiPpHCwtCJ",
        "colab_type": "text"
      },
      "cell_type": "markdown",
      "source": [
        "## Biases"
      ]
    },
    {
      "metadata": {
        "id": "2gvEZLzkwiCD",
        "colab_type": "code",
        "colab": {}
      },
      "cell_type": "code",
      "source": [
        "biases = {\n",
        "    'b1': tf.Variable(tf.random_normal([n_hidden_1])),\n",
        "    'b2': tf.Variable(tf.random_normal([n_hidden_2])),\n",
        "    'b3': tf.Variable(tf.random_normal([n_hidden_3])),\n",
        "    'b4': tf.Variable(tf.random_normal([n_hidden_4])),\n",
        "    'b5': tf.Variable(tf.random_normal([n_hidden_5])),\n",
        "    'out': tf.Variable(tf.random_normal([n_classes]))\n",
        "}"
      ],
      "execution_count": 0,
      "outputs": []
    },
    {
      "metadata": {
        "id": "WiM6X5TPwzNA",
        "colab_type": "text"
      },
      "cell_type": "markdown",
      "source": [
        "## Multilayer Perceptron Model"
      ]
    },
    {
      "metadata": {
        "id": "G-RxBqiYxJ3s",
        "colab_type": "text"
      },
      "cell_type": "markdown",
      "source": [
        "Create the multilayer perception model."
      ]
    },
    {
      "metadata": {
        "id": "PKrjAnO6wxWZ",
        "colab_type": "code",
        "colab": {}
      },
      "cell_type": "code",
      "source": [
        "def multilayer_perceptron(x, weights, biases):\n",
        "    # Hidden fully connected layer with neurons\n",
        "    layer_1 = tf.add(tf.matmul(x, weights['h1']), biases['b1'])\n",
        "    layer_1 = tf.nn.leaky_relu(layer_1)\n",
        "    layer_2 = tf.add(tf.matmul(layer_1, weights['h2']), biases['b2'])\n",
        "    layer_2 = tf.nn.leaky_relu(layer_2)\n",
        "    layer_3 = tf.add(tf.matmul(layer_2, weights['h3']), biases['b3'])\n",
        "    layer_3 = tf.nn.leaky_relu(layer_3)\n",
        "    layer_4 = tf.add(tf.matmul(layer_3, weights['h4']), biases['b4'])\n",
        "    layer_4 = tf.nn.leaky_relu(layer_4)\n",
        "    layer_5 = tf.add(tf.matmul(layer_4, weights['h5']), biases['b5'])\n",
        "    layer_5 = tf.nn.leaky_relu(layer_5)\n",
        "    # Output fully connected layer with a neuron for each class\n",
        "    out_layer = tf.matmul(layer_5, weights['out']) + biases['out']\n",
        "    return out_layer"
      ],
      "execution_count": 0,
      "outputs": []
    },
    {
      "metadata": {
        "id": "ev3bqy4BwxxW",
        "colab_type": "code",
        "colab": {}
      },
      "cell_type": "code",
      "source": [
        "logits = multilayer_perceptron(X, weights, biases)"
      ],
      "execution_count": 0,
      "outputs": []
    },
    {
      "metadata": {
        "id": "5NUGGvpXxaDp",
        "colab_type": "text"
      },
      "cell_type": "markdown",
      "source": [
        "# Model Execution"
      ]
    },
    {
      "metadata": {
        "id": "a-Fw4J2eMKdJ",
        "colab_type": "text"
      },
      "cell_type": "markdown",
      "source": [
        "Define the number of steps to display diagnostics."
      ]
    },
    {
      "metadata": {
        "id": "25NzlBP-LMyL",
        "colab_type": "code",
        "colab": {}
      },
      "cell_type": "code",
      "source": [
        "display_step = 0"
      ],
      "execution_count": 0,
      "outputs": []
    },
    {
      "metadata": {
        "id": "6SGwxcNZL05e",
        "colab_type": "text"
      },
      "cell_type": "markdown",
      "source": [
        "###  TensorFlow session to execute a end-to-end train & test cycle."
      ]
    },
    {
      "metadata": {
        "id": "pxdZwmlTxdDO",
        "colab_type": "code",
        "colab": {}
      },
      "cell_type": "code",
      "source": [
        "def run_model( weights, biases, learning_rate, training_epochs, batch_size ):\n",
        "\n",
        "  logits = multilayer_perceptron(X, weights, biases)\n",
        "\n",
        "  model_metrics = {}\n",
        "\n",
        "  # Optimizer\n",
        "  optimizer = tf.train.AdamOptimizer(learning_rate = learning_rate)\n",
        "\n",
        "  model_metrics['learning_rate'] = learning_rate\n",
        "\n",
        "  # Loss\n",
        "\n",
        "  loss_op = tf.reduce_mean(tf.nn.softmax_cross_entropy_with_logits(\n",
        "      logits=logits, labels=Y))\n",
        "\n",
        "  train_op = optimizer.minimize(loss_op)\n",
        "\n",
        "  model_metrics['learning_rate'] = learning_rate\n",
        "\n",
        "  init = tf.global_variables_initializer()\n",
        "\n",
        "  with tf.Session() as sess:\n",
        "      sess.run(init)\n",
        "\n",
        "      saver = tf.train.Saver()\n",
        "\n",
        "      start_time = time.clock()\n",
        "\n",
        "      model_metrics['training_epochs'] = training_epochs\n",
        "\n",
        "      model_metrics[\"epoches\"] = []\n",
        "\n",
        "      # Training cycle\n",
        "      for epoch in range(training_epochs):\n",
        "\n",
        "          avg_cost = 0.\n",
        "          total_batch = int(mnist.train.num_examples/batch_size)\n",
        "          model_metrics['total_batch'] = total_batch\n",
        "\n",
        "          # Loop over all batches\n",
        "          for i in range(total_batch):\n",
        "              batch_x, batch_y = mnist.train.next_batch(batch_size)\n",
        "              # Run optimization op (backprop) and cost op (to get loss value)\n",
        "              _, c = sess.run([train_op, loss_op], feed_dict={X: batch_x,\n",
        "                                                              Y: batch_y})\n",
        "              # Compute average loss\n",
        "              avg_cost += c / total_batch\n",
        "\n",
        "          \n",
        "          model_metrics[\"epoches\"].append((epoch+1, avg_cost))\n",
        "          \n",
        "          # Display logs per epoch step\n",
        "          if display_step != 0 and epoch % display_step == 0:\n",
        "              display(\"Epoch:\", '%04d' % (epoch+1), \"cost={:.9f}\".format(avg_cost))\n",
        "\n",
        "      model_metrics['avg_cost'] = avg_cost\n",
        "\n",
        "      end_time = time.clock()\n",
        "\n",
        "      runtime = end_time - start_time  # seconds of wall-clock time \n",
        "      model_metrics['run_time'] = runtime\n",
        "\n",
        "      # Apply Softmax to logits\n",
        "      pred = tf.nn.softmax(logits)\n",
        "\n",
        "      # Calculate Accuracy\n",
        "\n",
        "      correct_prediction = tf.equal(tf.argmax(pred, 1), tf.argmax(Y, 1))\n",
        "      model_metrics['correct_prediction'] = correct_prediction\n",
        "\n",
        "      accuracy = tf.reduce_mean(tf.cast(correct_prediction, \"float\"))\n",
        "      model_metrics['accuracy'] = accuracy\n",
        "      \n",
        "      model_metrics['train_accuracy'] = sess.run(accuracy, feed_dict={X: batch_x,\n",
        "                                    Y: batch_y})\n",
        "        \n",
        "      model_metrics['testing_accuracy'] = sess.run(accuracy, feed_dict={X: mnist.test.images,\n",
        "                                        Y: mnist.test.labels})\n",
        "      \n",
        "      return model_metrics"
      ],
      "execution_count": 0,
      "outputs": []
    },
    {
      "metadata": {
        "id": "zp27zFH_vKZb",
        "colab_type": "text"
      },
      "cell_type": "markdown",
      "source": [
        "# Model Evaluation & Benchmark"
      ]
    },
    {
      "metadata": {
        "id": "MYi6HLIVuwqF",
        "colab_type": "code",
        "colab": {}
      },
      "cell_type": "code",
      "source": [
        "# Default / baseline\n",
        "learning_rate = 0.0001\n",
        "training_epochs = 10\n",
        "batch_size = 10"
      ],
      "execution_count": 0,
      "outputs": []
    },
    {
      "metadata": {
        "id": "g6unzd-_LNUX",
        "colab_type": "text"
      },
      "cell_type": "markdown",
      "source": [
        "Run the model in the baseline setup."
      ]
    },
    {
      "metadata": {
        "id": "KU4oJRZtMQ2_",
        "colab_type": "code",
        "colab": {}
      },
      "cell_type": "code",
      "source": [
        "baseline_model = run_model( weights, biases, learning_rate = 0.0001, training_epochs = 10, batch_size = 10 )"
      ],
      "execution_count": 0,
      "outputs": []
    },
    {
      "metadata": {
        "id": "zvWCimFfMhmA",
        "colab_type": "code",
        "colab": {}
      },
      "cell_type": "code",
      "source": [
        "model_v2 = run_model( weights, biases, learning_rate = 0.0001, training_epochs = 10, batch_size = 10 )"
      ],
      "execution_count": 0,
      "outputs": []
    },
    {
      "metadata": {
        "id": "RAlqanoJNGaC",
        "colab_type": "code",
        "colab": {
          "base_uri": "https://localhost:8080/",
          "height": 8670
        },
        "outputId": "528ca244-2913-46e2-c0d6-c05c7c240a5e"
      },
      "cell_type": "code",
      "source": [
        "model_v3 = run_model( weights, biases, learning_rate = 0.01, training_epochs = 500, batch_size = 500 )"
      ],
      "execution_count": 257,
      "outputs": [
        {
          "output_type": "execute_result",
          "data": {
            "text/plain": [
              "{'accuracy': <tf.Tensor 'Mean_60:0' shape=() dtype=float32>,\n",
              " 'avg_cost': 0.0496249186975712,\n",
              " 'correct_prediction': <tf.Tensor 'Equal_32:0' shape=(?,) dtype=bool>,\n",
              " 'epoches': [(1, 307.3065018393779),\n",
              "  (2, 17.988549423217773),\n",
              "  (3, 6.796274896101521),\n",
              "  (4, 3.956680870056153),\n",
              "  (5, 2.792643356323243),\n",
              "  (6, 2.116216961904005),\n",
              "  (7, 1.6747753858566283),\n",
              "  (8, 1.418071698058735),\n",
              "  (9, 1.2584932912479752),\n",
              "  (10, 1.164622184363278),\n",
              "  (11, 1.0750481031157755),\n",
              "  (12, 1.0135645508766173),\n",
              "  (13, 1.0032992866906247),\n",
              "  (14, 0.9656077894297516),\n",
              "  (15, 0.9088678392496975),\n",
              "  (16, 0.8696760508147148),\n",
              "  (17, 0.8438437293876301),\n",
              "  (18, 0.8096489749171523),\n",
              "  (19, 0.7862046295946293),\n",
              "  (20, 0.7772574798627331),\n",
              "  (21, 0.7403971986337141),\n",
              "  (22, 0.728098487854004),\n",
              "  (23, 0.6952101019295777),\n",
              "  (24, 0.675619172508066),\n",
              "  (25, 0.6651068980043587),\n",
              "  (26, 0.6299811552871354),\n",
              "  (27, 0.6404991065913979),\n",
              "  (28, 0.6026559054851531),\n",
              "  (29, 0.5848753869533538),\n",
              "  (30, 0.5713707558133385),\n",
              "  (31, 0.5692630328915335),\n",
              "  (32, 0.5428686483339831),\n",
              "  (33, 0.5261183085766707),\n",
              "  (34, 0.5188434541225434),\n",
              "  (35, 0.5052889498797333),\n",
              "  (36, 0.4989611119031906),\n",
              "  (37, 0.48284329934553666),\n",
              "  (38, 0.46503831473263846),\n",
              "  (39, 0.4604074903509833),\n",
              "  (40, 0.4451083394614133),\n",
              "  (41, 0.43790423030203035),\n",
              "  (42, 0.4188986938108096),\n",
              "  (43, 0.41943049024451867),\n",
              "  (44, 0.4044558148492466),\n",
              "  (45, 0.4050203629515388),\n",
              "  (46, 0.3907917112112044),\n",
              "  (47, 0.3907402957027609),\n",
              "  (48, 0.3819417078386652),\n",
              "  (49, 0.3643618935888465),\n",
              "  (50, 0.37748280221765707),\n",
              "  (51, 0.37088679048148054),\n",
              "  (52, 0.3567729584195397),\n",
              "  (53, 0.35224439528855406),\n",
              "  (54, 0.34958596500483424),\n",
              "  (55, 0.3456246749921278),\n",
              "  (56, 0.3339107684113764),\n",
              "  (57, 0.32812618166208274),\n",
              "  (58, 0.32015134665099065),\n",
              "  (59, 0.30952123200351533),\n",
              "  (60, 0.3172869489951566),\n",
              "  (61, 0.31362702900713146),\n",
              "  (62, 0.29316802769899364),\n",
              "  (63, 0.30848158801143816),\n",
              "  (64, 0.30529296980662796),\n",
              "  (65, 0.28466548269445224),\n",
              "  (66, 0.2843466563658281),\n",
              "  (67, 0.2854837513782762),\n",
              "  (68, 0.2829018434340303),\n",
              "  (69, 0.26970906758850266),\n",
              "  (70, 0.26736343259161166),\n",
              "  (71, 0.2701900319619613),\n",
              "  (72, 0.25566057061607184),\n",
              "  (73, 0.2561909102580764),\n",
              "  (74, 0.24613218104297457),\n",
              "  (75, 0.2552080258727073),\n",
              "  (76, 0.23892029442570423),\n",
              "  (77, 0.2431721841747111),\n",
              "  (78, 0.2401394128799438),\n",
              "  (79, 0.23365434773943639),\n",
              "  (80, 0.22782232666557486),\n",
              "  (81, 0.22192556817423206),\n",
              "  (82, 0.22466139996593648),\n",
              "  (83, 0.21855599758299907),\n",
              "  (84, 0.21397648440165962),\n",
              "  (85, 0.2039347592402589),\n",
              "  (86, 0.21217199712991716),\n",
              "  (87, 0.2088835688477212),\n",
              "  (88, 0.19784835184162305),\n",
              "  (89, 0.19188606142997744),\n",
              "  (90, 0.19793889373540882),\n",
              "  (91, 0.19650553715499955),\n",
              "  (92, 0.18851310732689774),\n",
              "  (93, 0.1859832732514902),\n",
              "  (94, 0.18028517290949822),\n",
              "  (95, 0.17501886778257109),\n",
              "  (96, 0.17431956556710335),\n",
              "  (97, 0.1928829206661744),\n",
              "  (98, 0.1740616452287545),\n",
              "  (99, 0.17086188542571934),\n",
              "  (100, 0.16447619050741205),\n",
              "  (101, 0.16783021139827645),\n",
              "  (102, 0.16425305923277678),\n",
              "  (103, 0.15751188939267932),\n",
              "  (104, 0.1528908583928239),\n",
              "  (105, 0.145195610685782),\n",
              "  (106, 0.1522352735427293),\n",
              "  (107, 0.15781395713036708),\n",
              "  (108, 0.15847769691185523),\n",
              "  (109, 0.1478223117237741),\n",
              "  (110, 0.1491245417432352),\n",
              "  (111, 0.14318899749354888),\n",
              "  (112, 0.14933383478359738),\n",
              "  (113, 0.13687063272703767),\n",
              "  (114, 0.13450637669725848),\n",
              "  (115, 0.13372127318924124),\n",
              "  (116, 0.13647711439566182),\n",
              "  (117, 0.12658255648883907),\n",
              "  (118, 0.12941820343787025),\n",
              "  (119, 0.13147863488305703),\n",
              "  (120, 0.1383385443551974),\n",
              "  (121, 0.1308439662510698),\n",
              "  (122, 0.13060756745663554),\n",
              "  (123, 0.12650743245401166),\n",
              "  (124, 0.11950679926032365),\n",
              "  (125, 0.12462449060244997),\n",
              "  (126, 0.12450290207158433),\n",
              "  (127, 0.11064370250837373),\n",
              "  (128, 0.13764145252379503),\n",
              "  (129, 0.12417428120970725),\n",
              "  (130, 0.1177558436989784),\n",
              "  (131, 0.11766000498424883),\n",
              "  (132, 0.12500480423596774),\n",
              "  (133, 0.12091978195716035),\n",
              "  (134, 0.10885212753306736),\n",
              "  (135, 0.11297125328670854),\n",
              "  (136, 0.11785960590297526),\n",
              "  (137, 0.11041435673832896),\n",
              "  (138, 0.10548838258466936),\n",
              "  (139, 0.12214901853691448),\n",
              "  (140, 0.10187401023100719),\n",
              "  (141, 0.10952123274857348),\n",
              "  (142, 0.10084951550445768),\n",
              "  (143, 0.11229428706521337),\n",
              "  (144, 0.0996176474473693),\n",
              "  (145, 0.09123998108235269),\n",
              "  (146, 0.11279640025035903),\n",
              "  (147, 0.10294740823182197),\n",
              "  (148, 0.0948805257339369),\n",
              "  (149, 0.09155117727138774),\n",
              "  (150, 0.09415455978702413),\n",
              "  (151, 0.0870065141807903),\n",
              "  (152, 0.0859301522374153),\n",
              "  (153, 0.0969753834334287),\n",
              "  (154, 0.089954554729841),\n",
              "  (155, 0.09167687980966141),\n",
              "  (156, 0.08975002410059624),\n",
              "  (157, 0.08756786998022686),\n",
              "  (158, 0.09567305648868737),\n",
              "  (159, 0.1084908551113172),\n",
              "  (160, 0.09441631710664793),\n",
              "  (161, 0.08959500644017351),\n",
              "  (162, 0.08576828173615716),\n",
              "  (163, 0.08075458866290071),\n",
              "  (164, 0.08745492974465545),\n",
              "  (165, 0.09233022291551936),\n",
              "  (166, 0.0828351167792624),\n",
              "  (167, 0.08460157831961458),\n",
              "  (168, 0.08335523927076297),\n",
              "  (169, 0.08395293487066574),\n",
              "  (170, 0.09179245861755177),\n",
              "  (171, 0.08796323033219029),\n",
              "  (172, 0.07509845051575792),\n",
              "  (173, 0.07960494749925352),\n",
              "  (174, 0.0846769248728048),\n",
              "  (175, 0.07510346201333133),\n",
              "  (176, 0.08681667668914257),\n",
              "  (177, 0.08454644185575573),\n",
              "  (178, 0.07370696833187883),\n",
              "  (179, 0.07356804619458587),\n",
              "  (180, 0.07477386007932098),\n",
              "  (181, 0.0707753906195814),\n",
              "  (182, 0.0693040683526884),\n",
              "  (183, 0.0768586995418776),\n",
              "  (184, 0.07511131394315848),\n",
              "  (185, 0.0654298261146654),\n",
              "  (186, 0.07297518883239139),\n",
              "  (187, 0.0740305323492397),\n",
              "  (188, 0.07793026949194343),\n",
              "  (189, 0.06305824323472652),\n",
              "  (190, 0.075532317517156),\n",
              "  (191, 0.07323551333763383),\n",
              "  (192, 0.07241402728991074),\n",
              "  (193, 0.07319918122481217),\n",
              "  (194, 0.08722727007486605),\n",
              "  (195, 0.07238854305310682),\n",
              "  (196, 0.06468198851428247),\n",
              "  (197, 0.07021686531264677),\n",
              "  (198, 0.07471212646500629),\n",
              "  (199, 0.06782016213983298),\n",
              "  (200, 0.06325883232057096),\n",
              "  (201, 0.06261137994852933),\n",
              "  (202, 0.058281729979948564),\n",
              "  (203, 0.05851499265567822),\n",
              "  (204, 0.061843992414122285),\n",
              "  (205, 0.06283102717927913),\n",
              "  (206, 0.06613336589864709),\n",
              "  (207, 0.07066609419204971),\n",
              "  (208, 0.05293691161681306),\n",
              "  (209, 0.060338579829443593),\n",
              "  (210, 0.06071844669905574),\n",
              "  (211, 0.05674611992118034),\n",
              "  (212, 0.07415173795412887),\n",
              "  (213, 0.06094369510696693),\n",
              "  (214, 0.05853016246110199),\n",
              "  (215, 0.06138665962286972),\n",
              "  (216, 0.05350004219534722),\n",
              "  (217, 0.06374600661749188),\n",
              "  (218, 0.059266886148940434),\n",
              "  (219, 0.06377502300522545),\n",
              "  (220, 0.055648694272068394),\n",
              "  (221, 0.06350920283320274),\n",
              "  (222, 0.06235498550601983),\n",
              "  (223, 0.062179518541829154),\n",
              "  (224, 0.05576815022663635),\n",
              "  (225, 0.05261737700043756),\n",
              "  (226, 0.06391968307170003),\n",
              "  (227, 0.05790085208348256),\n",
              "  (228, 0.05017254720018668),\n",
              "  (229, 0.050691995922137384),\n",
              "  (230, 0.05837960280477998),\n",
              "  (231, 0.054645011049102646),\n",
              "  (232, 0.06703097117556768),\n",
              "  (233, 0.06307276797226885),\n",
              "  (234, 0.07269245728173042),\n",
              "  (235, 0.05220874994993213),\n",
              "  (236, 0.055844493091783735),\n",
              "  (237, 0.07429666778242044),\n",
              "  (238, 0.0657044054432349),\n",
              "  (239, 0.0513701053759591),\n",
              "  (240, 0.04710153969512743),\n",
              "  (241, 0.045745177059011016),\n",
              "  (242, 0.04727946231988343),\n",
              "  (243, 0.04013971841301431),\n",
              "  (244, 0.04690482565625147),\n",
              "  (245, 0.06134612834589046),\n",
              "  (246, 0.06574922080405736),\n",
              "  (247, 0.049961709612133864),\n",
              "  (248, 0.052927955172278655),\n",
              "  (249, 0.05785938809541139),\n",
              "  (250, 0.052016501399603766),\n",
              "  (251, 0.05366746842522512),\n",
              "  (252, 0.0610450181602077),\n",
              "  (253, 0.04725768161006272),\n",
              "  (254, 0.04169387979940934),\n",
              "  (255, 0.048955976192585446),\n",
              "  (256, 0.04266309476542202),\n",
              "  (257, 0.04600217709825799),\n",
              "  (258, 0.05472762803123756),\n",
              "  (259, 0.060510733418844),\n",
              "  (260, 0.045307962190021166),\n",
              "  (261, 0.05400748129256745),\n",
              "  (262, 0.04756559094583446),\n",
              "  (263, 0.05273201379247689),\n",
              "  (264, 0.05825859404761682),\n",
              "  (265, 0.04613433932377533),\n",
              "  (266, 0.04855929293923759),\n",
              "  (267, 0.04835512832823126),\n",
              "  (268, 0.049561944832517336),\n",
              "  (269, 0.0534062714823945),\n",
              "  (270, 0.0334827366285026),\n",
              "  (271, 0.04961957781660284),\n",
              "  (272, 0.04334850094535133),\n",
              "  (273, 0.052957240830768235),\n",
              "  (274, 0.04913831615651196),\n",
              "  (275, 0.03664769630201838),\n",
              "  (276, 0.07140283182432705),\n",
              "  (277, 0.054771025241775934),\n",
              "  (278, 0.048867252215065764),\n",
              "  (279, 0.05503087079321798),\n",
              "  (280, 0.04031019198115576),\n",
              "  (281, 0.04162951651113953),\n",
              "  (282, 0.03961839969693257),\n",
              "  (283, 0.047893745189701964),\n",
              "  (284, 0.056053613778203726),\n",
              "  (285, 0.042316748794506864),\n",
              "  (286, 0.036469651995734716),\n",
              "  (287, 0.0446362017272887),\n",
              "  (288, 0.05427497786215759),\n",
              "  (289, 0.05291271717710932),\n",
              "  (290, 0.04164984814653342),\n",
              "  (291, 0.03802207041193137),\n",
              "  (292, 0.036865851748734704),\n",
              "  (293, 0.029728748408061546),\n",
              "  (294, 0.03753078605302356),\n",
              "  (295, 0.04246146654371512),\n",
              "  (296, 0.06080146921290595),\n",
              "  (297, 0.04705816766416486),\n",
              "  (298, 0.0657583729109981),\n",
              "  (299, 0.058499266435815524),\n",
              "  (300, 0.04822250340472567),\n",
              "  (301, 0.04129750248552723),\n",
              "  (302, 0.03735154481943358),\n",
              "  (303, 0.02905699911696668),\n",
              "  (304, 0.038285030932589004),\n",
              "  (305, 0.045170275189659805),\n",
              "  (306, 0.035569959760389555),\n",
              "  (307, 0.04463773347776042),\n",
              "  (308, 0.037381903861056685),\n",
              "  (309, 0.0571659264239398),\n",
              "  (310, 0.058655930361287176),\n",
              "  (311, 0.03779082588682121),\n",
              "  (312, 0.05304902341555465),\n",
              "  (313, 0.038590380312366925),\n",
              "  (314, 0.03042139262384311),\n",
              "  (315, 0.02901119966144588),\n",
              "  (316, 0.0398840193467384),\n",
              "  (317, 0.037524202034216046),\n",
              "  (318, 0.053032912948930824),\n",
              "  (319, 0.05610101677646691),\n",
              "  (320, 0.03234909508292647),\n",
              "  (321, 0.0372268866112625),\n",
              "  (322, 0.03979291705075991),\n",
              "  (323, 0.04455942255868153),\n",
              "  (324, 0.057436943917789245),\n",
              "  (325, 0.06710775191472337),\n",
              "  (326, 0.04760051450946113),\n",
              "  (327, 0.03485983539034019),\n",
              "  (328, 0.026640729669650854),\n",
              "  (329, 0.026265510379082768),\n",
              "  (330, 0.04016495213251221),\n",
              "  (331, 0.05606247341598975),\n",
              "  (332, 0.03960467974062673),\n",
              "  (333, 0.03564714487134056),\n",
              "  (334, 0.049434241059828875),\n",
              "  (335, 0.05094670852307569),\n",
              "  (336, 0.04598793583837422),\n",
              "  (337, 0.02713496050035413),\n",
              "  (338, 0.031464275563220415),\n",
              "  (339, 0.035266460139643074),\n",
              "  (340, 0.03313401125540787),\n",
              "  (341, 0.03725851930847223),\n",
              "  (342, 0.03013517784632065),\n",
              "  (343, 0.0371047286401418),\n",
              "  (344, 0.06048917326737537),\n",
              "  (345, 0.03001113464547829),\n",
              "  (346, 0.024255106911401855),\n",
              "  (347, 0.03294517709873618),\n",
              "  (348, 0.03843512551181695),\n",
              "  (349, 0.04182432200759652),\n",
              "  (350, 0.03501957116479223),\n",
              "  (351, 0.034810631764544686),\n",
              "  (352, 0.04336862701245328),\n",
              "  (353, 0.027750226296484465),\n",
              "  (354, 0.03923034963875331),\n",
              "  (355, 0.043220933467488405),\n",
              "  (356, 0.05009766569022428),\n",
              "  (357, 0.040019770753993225),\n",
              "  (358, 0.02867766256994484),\n",
              "  (359, 0.02813437209379944),\n",
              "  (360, 0.02297706474888731),\n",
              "  (361, 0.046549404827369883),\n",
              "  (362, 0.06302738104184921),\n",
              "  (363, 0.041625213775445105),\n",
              "  (364, 0.03541657864962789),\n",
              "  (365, 0.04309937235137281),\n",
              "  (366, 0.03523990925909445),\n",
              "  (367, 0.08775451417843054),\n",
              "  (368, 0.04863988214426418),\n",
              "  (369, 0.031791677698493004),\n",
              "  (370, 0.022173303082077326),\n",
              "  (371, 0.026426677723330533),\n",
              "  (372, 0.030007296356118544),\n",
              "  (373, 0.04881063592196866),\n",
              "  (374, 0.03503940083001827),\n",
              "  (375, 0.02619497300633652),\n",
              "  (376, 0.028946866399862548),\n",
              "  (377, 0.026427992357110432),\n",
              "  (378, 0.027413670278408315),\n",
              "  (379, 0.06824547477405181),\n",
              "  (380, 0.08110422576692973),\n",
              "  (381, 0.03745694456791336),\n",
              "  (382, 0.02731638593514534),\n",
              "  (383, 0.02197158146564934),\n",
              "  (384, 0.025075259982523596),\n",
              "  (385, 0.026874660298397583),\n",
              "  (386, 0.03666162304580212),\n",
              "  (387, 0.03092654174278407),\n",
              "  (388, 0.034305062056095764),\n",
              "  (389, 0.04803690231320532),\n",
              "  (390, 0.03302612898617306),\n",
              "  (391, 0.027375014282932337),\n",
              "  (392, 0.02093832209621639),\n",
              "  (393, 0.026266069471074092),\n",
              "  (394, 0.04631155414337462),\n",
              "  (395, 0.059421194073828794),\n",
              "  (396, 0.03766170349818738),\n",
              "  (397, 0.056146666526117106),\n",
              "  (398, 0.028362166699530064),\n",
              "  (399, 0.025465905708684174),\n",
              "  (400, 0.036576185426251434),\n",
              "  (401, 0.037018454155292035),\n",
              "  (402, 0.036541787238622246),\n",
              "  (403, 0.02840337767689065),\n",
              "  (404, 0.020870033533058382),\n",
              "  (405, 0.02992932098832997),\n",
              "  (406, 0.02969398492608558),\n",
              "  (407, 0.03376260020092806),\n",
              "  (408, 0.05432811247354204),\n",
              "  (409, 0.044881276134401536),\n",
              "  (410, 0.041650906416841514),\n",
              "  (411, 0.035099580282853406),\n",
              "  (412, 0.07547059551050717),\n",
              "  (413, 0.033467685740271765),\n",
              "  (414, 0.02542904026975686),\n",
              "  (415, 0.02219768981025978),\n",
              "  (416, 0.030080885012549415),\n",
              "  (417, 0.035623337218368606),\n",
              "  (418, 0.0317601755600084),\n",
              "  (419, 0.022838511942377827),\n",
              "  (420, 0.03329916884699328),\n",
              "  (421, 0.032703544072468164),\n",
              "  (422, 0.047575955706733196),\n",
              "  (423, 0.033123858654024944),\n",
              "  (424, 0.03146230974234642),\n",
              "  (425, 0.028753497049381776),\n",
              "  (426, 0.033680650405585766),\n",
              "  (427, 0.031869050868871554),\n",
              "  (428, 0.038357543124055316),\n",
              "  (429, 0.03155651028183373),\n",
              "  (430, 0.03348334764384411),\n",
              "  (431, 0.023067283812402327),\n",
              "  (432, 0.023187032854184518),\n",
              "  (433, 0.033642804432152354),\n",
              "  (434, 0.033665553899481886),\n",
              "  (435, 0.031097177610817286),\n",
              "  (436, 0.03920150872489269),\n",
              "  (437, 0.0435518957420506),\n",
              "  (438, 0.02571651161732999),\n",
              "  (439, 0.028387723151933053),\n",
              "  (440, 0.02463748078708622),\n",
              "  (441, 0.0358942386270924),\n",
              "  (442, 0.021255598725243043),\n",
              "  (443, 0.04398023574189705),\n",
              "  (444, 0.0315268737983636),\n",
              "  (445, 0.024658060526813977),\n",
              "  (446, 0.041016143958338275),\n",
              "  (447, 0.03617800432680682),\n",
              "  (448, 0.0337155973771587),\n",
              "  (449, 0.027941763909025627),\n",
              "  (450, 0.026530230972407892),\n",
              "  (451, 0.018826123515397985),\n",
              "  (452, 0.044135715727779024),\n",
              "  (453, 0.045780584910376475),\n",
              "  (454, 0.02780869350853292),\n",
              "  (455, 0.028859060797417038),\n",
              "  (456, 0.02092978231270205),\n",
              "  (457, 0.03294301707382229),\n",
              "  (458, 0.044958419403569254),\n",
              "  (459, 0.04048119610683484),\n",
              "  (460, 0.021072780171578574),\n",
              "  (461, 0.02677659692920067),\n",
              "  (462, 0.02172727979380977),\n",
              "  (463, 0.0407430847514082),\n",
              "  (464, 0.033385171681981185),\n",
              "  (465, 0.027355225058272484),\n",
              "  (466, 0.01711492829278788),\n",
              "  (467, 0.021493946989490222),\n",
              "  (468, 0.026239254063164647),\n",
              "  (469, 0.024566645971076044),\n",
              "  (470, 0.039211165667934866),\n",
              "  (471, 0.07486792588606479),\n",
              "  (472, 0.10264425782317464),\n",
              "  (473, 0.041604633938351815),\n",
              "  (474, 0.026629235129803416),\n",
              "  (475, 0.019812288782982655),\n",
              "  (476, 0.02380781358277256),\n",
              "  (477, 0.02652263140771538),\n",
              "  (478, 0.015522898574867714),\n",
              "  (479, 0.013695186518386686),\n",
              "  (480, 0.020521605979989886),\n",
              "  (481, 0.0267966696717353),\n",
              "  (482, 0.036759433112191875),\n",
              "  (483, 0.030733824457803913),\n",
              "  (484, 0.03773302342319353),\n",
              "  (485, 0.031623720597814424),\n",
              "  (486, 0.023147706391120498),\n",
              "  (487, 0.03420343610712075),\n",
              "  (488, 0.032035158587280996),\n",
              "  (489, 0.021273022159849383),\n",
              "  (490, 0.02458697134967555),\n",
              "  (491, 0.03664016455030915),\n",
              "  (492, 0.05323043103245172),\n",
              "  (493, 0.0615298128094186),\n",
              "  (494, 0.023089872196909392),\n",
              "  (495, 0.015661774277263753),\n",
              "  (496, 0.012527892857112666),\n",
              "  (497, 0.029418202578513457),\n",
              "  (498, 0.029549245189198037),\n",
              "  (499, 0.05123416101983325),\n",
              "  (500, 0.0496249186975712)],\n",
              " 'learning_rate': 0.01,\n",
              " 'run_time': 495.1292220000005,\n",
              " 'testing_accuracy': 0.9557,\n",
              " 'total_batch': 110,\n",
              " 'train_accuracy': 0.996,\n",
              " 'training_epochs': 500}"
            ]
          },
          "metadata": {
            "tags": []
          },
          "execution_count": 257
        }
      ]
    },
    {
      "metadata": {
        "id": "Jyv9vkkyaN48",
        "colab_type": "text"
      },
      "cell_type": "markdown",
      "source": [
        ""
      ]
    },
    {
      "metadata": {
        "id": "mjUw3UeBOLbY",
        "colab_type": "code",
        "colab": {}
      },
      "cell_type": "code",
      "source": [
        "model_v4 = run_model( weights, biases, learning_rate = 0.01, training_epochs = 1000, batch_size = 100 )"
      ],
      "execution_count": 0,
      "outputs": []
    },
    {
      "metadata": {
        "id": "95BWt77ANXmQ",
        "colab_type": "text"
      },
      "cell_type": "markdown",
      "source": [
        "# Summary."
      ]
    },
    {
      "metadata": {
        "id": "IQm8o20_0Vgw",
        "colab_type": "text"
      },
      "cell_type": "markdown",
      "source": [
        "Helper utility to extract relevant model metrics."
      ]
    },
    {
      "metadata": {
        "id": "14ogwrklyMej",
        "colab_type": "code",
        "colab": {}
      },
      "cell_type": "code",
      "source": [
        "def get_model_df(name, model):\n",
        "  values_df = pd.DataFrame(columns=list(('avg_cost', 'learning_rate', 'run_time','testing_accuracy','train_accuracy')))\n",
        "  values_df.loc[0] = [model[x] for x in ('avg_cost', 'learning_rate', 'run_time','testing_accuracy','train_accuracy')]\n",
        "  values_df['name'] = name\n",
        "  return values_df"
      ],
      "execution_count": 0,
      "outputs": []
    },
    {
      "metadata": {
        "id": "KJh07iXA0RHm",
        "colab_type": "text"
      },
      "cell_type": "markdown",
      "source": [
        "Convert model metrics into a single dataframe."
      ]
    },
    {
      "metadata": {
        "id": "8Ts8knToyg2c",
        "colab_type": "code",
        "colab": {}
      },
      "cell_type": "code",
      "source": [
        "baseline_df = get_model_df('Baseline', baseline_model)\n",
        "model_v2_df = get_model_df('Version 2', model_v2)\n",
        "model_v3_df = get_model_df('Version 3', model_v3)\n",
        "model_v4_df = get_model_df('Version 4', model_v4)"
      ],
      "execution_count": 0,
      "outputs": []
    },
    {
      "metadata": {
        "id": "TIN3FQ6NNY2-",
        "colab_type": "code",
        "colab": {}
      },
      "cell_type": "code",
      "source": [
        "results = pd.concat([baseline_df, model_v2_df, model_v3_df, model_v4_df]).set_index('name')"
      ],
      "execution_count": 0,
      "outputs": []
    },
    {
      "metadata": {
        "id": "09jR5UjYZ9Fv",
        "colab_type": "code",
        "colab": {
          "base_uri": "https://localhost:8080/",
          "height": 463
        },
        "outputId": "f4badc60-78ac-4267-8789-a3458d8421ba"
      },
      "cell_type": "code",
      "source": [
        "results.plot(y = ['avg_cost', 'testing_accuracy','train_accuracy'], title = \"Model Performance\", kind = \"bar\", figsize=(12, 5), use_index = True)\n",
        "plt.show()"
      ],
      "execution_count": 355,
      "outputs": [
        {
          "output_type": "stream",
          "text": [
            "/usr/local/lib/python3.6/dist-packages/pandas/plotting/_core.py:1716: UserWarning: Pandas doesn't allow columns to be created via a new attribute name - see https://pandas.pydata.org/pandas-docs/stable/indexing.html#attribute-access\n",
            "  series.name = label\n"
          ],
          "name": "stderr"
        },
        {
          "output_type": "display_data",
          "data": {
            "image/png": "[encoded data removed]",
            "text/plain": [
              "<matplotlib.figure.Figure at 0x7f4b0e5ef7f0>"
            ]
          },
          "metadata": {
            "tags": []
          }
        }
      ]
    },
    {
      "metadata": {
        "id": "8EffmY0O3TNj",
        "colab_type": "code",
        "colab": {
          "base_uri": "https://localhost:8080/",
          "height": 463
        },
        "outputId": "484d3f93-876c-4fa9-9a06-b97b728bc684"
      },
      "cell_type": "code",
      "source": [
        "results.plot(y = ['run_time'], kind = \"bar\", title =\"Avearage Train Time\", figsize=(12, 5), use_index = True)\n",
        "plt.show()"
      ],
      "execution_count": 353,
      "outputs": [
        {
          "output_type": "stream",
          "text": [
            "/usr/local/lib/python3.6/dist-packages/pandas/plotting/_core.py:1716: UserWarning: Pandas doesn't allow columns to be created via a new attribute name - see https://pandas.pydata.org/pandas-docs/stable/indexing.html#attribute-access\n",
            "  series.name = label\n"
          ],
          "name": "stderr"
        },
        {
          "output_type": "display_data",
          "data": {
            "image/png": "[encoded data removed]",
            "text/plain": [
              "<matplotlib.figure.Figure at 0x7f4b0e638470>"
            ]
          },
          "metadata": {
            "tags": []
          }
        }
      ]
    },
    {
      "metadata": {
        "id": "KrTxxsaqx3s6",
        "colab_type": "code",
        "colab": {
          "base_uri": "https://localhost:8080/",
          "height": 204
        },
        "outputId": "be269c91-7fd8-4fd7-ff10-0df506e6b461"
      },
      "cell_type": "code",
      "source": [
        "results"
      ],
      "execution_count": 343,
      "outputs": [
        {
          "output_type": "execute_result",
          "data": {
            "text/html": [
              "<div>\n",
              "<style scoped>\n",
              "    .dataframe tbody tr th:only-of-type {\n",
              "        vertical-align: middle;\n",
              "    }\n",
              "\n",
              "    .dataframe tbody tr th {\n",
              "        vertical-align: top;\n",
              "    }\n",
              "\n",
              "    .dataframe thead th {\n",
              "        text-align: right;\n",
              "    }\n",
              "</style>\n",
              "<table border=\"1\" class=\"dataframe\">\n",
              "  <thead>\n",
              "    <tr style=\"text-align: right;\">\n",
              "      <th></th>\n",
              "      <th>avg_cost</th>\n",
              "      <th>learning_rate</th>\n",
              "      <th>run_time</th>\n",
              "      <th>testing_accuracy</th>\n",
              "      <th>train_accuracy</th>\n",
              "    </tr>\n",
              "    <tr>\n",
              "      <th>name</th>\n",
              "      <th></th>\n",
              "      <th></th>\n",
              "      <th></th>\n",
              "      <th></th>\n",
              "      <th></th>\n",
              "    </tr>\n",
              "  </thead>\n",
              "  <tbody>\n",
              "    <tr>\n",
              "      <th>Baseline</th>\n",
              "      <td>1.375902</td>\n",
              "      <td>0.0001</td>\n",
              "      <td>83.038120</td>\n",
              "      <td>0.7328</td>\n",
              "      <td>0.900</td>\n",
              "    </tr>\n",
              "    <tr>\n",
              "      <th>Version 2</th>\n",
              "      <td>0.861762</td>\n",
              "      <td>0.0001</td>\n",
              "      <td>84.441707</td>\n",
              "      <td>0.8071</td>\n",
              "      <td>1.000</td>\n",
              "    </tr>\n",
              "    <tr>\n",
              "      <th>Version 3</th>\n",
              "      <td>0.049625</td>\n",
              "      <td>0.0100</td>\n",
              "      <td>495.129222</td>\n",
              "      <td>0.9557</td>\n",
              "      <td>0.996</td>\n",
              "    </tr>\n",
              "    <tr>\n",
              "      <th>Version 4</th>\n",
              "      <td>0.052633</td>\n",
              "      <td>0.0100</td>\n",
              "      <td>1699.732041</td>\n",
              "      <td>0.9476</td>\n",
              "      <td>1.000</td>\n",
              "    </tr>\n",
              "  </tbody>\n",
              "</table>\n",
              "</div>"
            ],
            "text/plain": [
              "           avg_cost  learning_rate     run_time  testing_accuracy  \\\n",
              "name                                                                \n",
              "Baseline   1.375902         0.0001    83.038120            0.7328   \n",
              "Version 2  0.861762         0.0001    84.441707            0.8071   \n",
              "Version 3  0.049625         0.0100   495.129222            0.9557   \n",
              "Version 4  0.052633         0.0100  1699.732041            0.9476   \n",
              "\n",
              "           train_accuracy  \n",
              "name                       \n",
              "Baseline            0.900  \n",
              "Version 2           1.000  \n",
              "Version 3           0.996  \n",
              "Version 4           1.000  "
            ]
          },
          "metadata": {
            "tags": []
          },
          "execution_count": 343
        }
      ]
    }
  ]
}